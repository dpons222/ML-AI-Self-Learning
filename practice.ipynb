{
 "cells": [
  {
   "cell_type": "markdown",
   "metadata": {},
   "source": [
    "# Imports"
   ]
  },
  {
   "cell_type": "code",
   "execution_count": 10,
   "metadata": {},
   "outputs": [],
   "source": [
    "import numpy as np\n",
    "import pandas as pd\n",
    "pd.set_option('display.max_columns', None)\n",
    "import scipy.stats as stats\n",
    "import matplotlib.pyplot as plt\n",
    "import seaborn as sns\n",
    "from scipy.stats import chi2_contingency,ttest_1samp\n",
    "\n",
    "\n",
    "# from sklearn.datasets import load_wine\n",
    "\n",
    "# # models\n",
    "from sklearn.model_selection import train_test_split, GridSearchCV\n",
    "from sklearn.decomposition import PCA\n",
    "from sklearn.linear_model import LogisticRegression, LinearRegression  # For linear regression\n",
    "# from sklearn.linear_model import Lasso, Ridge  # For regularized regression\n",
    "# from sklearn.tree import DecisionTreeClassifier\n",
    "# from sklearn.cluster import KMeans\n",
    "from sklearn.ensemble import RandomForestClassifier, RandomForestRegressor, AdaBoostClassifier\n",
    "# from sklearn.preprocessing import StandardScaler  # For standardizing features\n",
    "# #metrics\n",
    "from sklearn.metrics import accuracy_score, precision_score, recall_score, f1_score, confusion_matrix, classification_report, roc_curve, roc_auc_score, mean_squared_error\n",
    "# from sklearn.datasets import make_classification\n"
   ]
  },
  {
   "cell_type": "code",
   "execution_count": 11,
   "metadata": {},
   "outputs": [
    {
     "name": "stdout",
     "output_type": "stream",
     "text": [
      "5.5\n"
     ]
    }
   ],
   "source": [
    "print(np.mean(range(1,11)))\n"
   ]
  },
  {
   "cell_type": "code",
   "execution_count": 12,
   "metadata": {},
   "outputs": [
    {
     "data": {
      "text/plain": [
       "10"
      ]
     },
     "execution_count": 12,
     "metadata": {},
     "output_type": "execute_result"
    }
   ],
   "source": [
    "# Define the dataset with more entries\n",
    "data = {\n",
    "    'Name': [\n",
    "        'Roger Smith', 'Michelle Beck', 'Diego Pons', 'Sophia Patel', 'James Carter',\n",
    "        'Emily Johnson', 'Liam Brown', 'Ava Williams', 'Mason Davis', 'Olivia Taylor'\n",
    "    ],\n",
    "    'Username': [\n",
    "        'rsmith', 'mlbeck', 'dpons', 'spatel', 'jcarter',\n",
    "        'ejohnson', 'lbrown', 'awilliams', 'mdavis', 'otaylor'\n",
    "    ],\n",
    "    'Email': [\n",
    "        'wigginsryan@yahoo.com', 'hcosta@hotmail.com', 'dpons222@gmail.com', 'spatel99@gmail.com',\n",
    "        'jcarter.office@outlook.com', 'emily.j@hotmail.com', 'liam.brown@gmail.com', \n",
    "        'ava_williams23@yahoo.com', 'mason.davis@company.com', 'olivia.taylor@live.com'\n",
    "    ],\n",
    "    'Age': [10, 20, 33, 27, 40, 22, 30, 25, 35, 28],\n",
    "    'Date': [\n",
    "        '2025-02-01', '2025-02-02', '2025-02-03', '2025-02-04', '2025-02-05',\n",
    "        '2025-02-06', '2025-02-07', '2025-02-08', '2025-02-09', '2025-02-10'\n",
    "    ]  # Adding a date column\n",
    "}\n",
    "\n",
    "df = pd.DataFrame(data)\n",
    "df.Age.nunique()"
   ]
  },
  {
   "cell_type": "markdown",
   "metadata": {},
   "source": [
    "# Start"
   ]
  },
  {
   "cell_type": "code",
   "execution_count": 13,
   "metadata": {},
   "outputs": [
    {
     "ename": "SyntaxError",
     "evalue": "invalid syntax (2198591287.py, line 1)",
     "output_type": "error",
     "traceback": [
      "\u001b[1;36m  Cell \u001b[1;32mIn[13], line 1\u001b[1;36m\u001b[0m\n\u001b[1;33m    grid.\u001b[0m\n\u001b[1;37m         ^\u001b[0m\n\u001b[1;31mSyntaxError\u001b[0m\u001b[1;31m:\u001b[0m invalid syntax\n"
     ]
    }
   ],
   "source": [
    "grid = GridSearchCV()\n",
    "grid.fit()\n",
    "GridSearchCV.best_estimator_\n",
    "GridSearchCV.best_params_\n",
    "GridSearchCV.best_score_\n",
    "GridSearchCV.cv_results_\n",
    "GridSearchCV.best_index_\n",
    "best_learning_rate = grid.best_params_['learning_rate]"
   ]
  }
 ],
 "metadata": {
  "kernelspec": {
   "display_name": ".venv",
   "language": "python",
   "name": "python3"
  },
  "language_info": {
   "codemirror_mode": {
    "name": "ipython",
    "version": 3
   },
   "file_extension": ".py",
   "mimetype": "text/x-python",
   "name": "python",
   "nbconvert_exporter": "python",
   "pygments_lexer": "ipython3",
   "version": "3.10.11"
  }
 },
 "nbformat": 4,
 "nbformat_minor": 2
}
