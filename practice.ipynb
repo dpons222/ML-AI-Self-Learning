{
 "cells": [
  {
   "cell_type": "markdown",
   "metadata": {},
   "source": [
    "# Imports"
   ]
  },
  {
   "cell_type": "code",
   "execution_count": 143,
   "metadata": {},
   "outputs": [],
   "source": [
    "import numpy as np\n",
    "import pandas as pd\n",
    "pd.set_option('display.max_columns', None)\n",
    "import scipy.stats as stats\n",
    "import matplotlib.pyplot as plt\n",
    "import seaborn as sns\n",
    "from scipy.stats import chi2_contingency,ttest_1samp\n",
    "\n",
    "\n",
    "# from sklearn.datasets import load_wine\n",
    "\n",
    "# # models\n",
    "from sklearn.model_selection import train_test_split, GridSearchCV\n",
    "from sklearn.decomposition import PCA\n",
    "from sklearn.linear_model import LogisticRegression, LinearRegression  # For linear regression\n",
    "# from sklearn.linear_model import Lasso, Ridge  # For regularized regression\n",
    "# from sklearn.tree import DecisionTreeClassifier\n",
    "# from sklearn.cluster import KMeans\n",
    "from sklearn.ensemble import RandomForestClassifier, RandomForestRegressor, AdaBoostClassifier\n",
    "# from sklearn.preprocessing import StandardScaler  # For standardizing features\n",
    "# #metrics\n",
    "from sklearn.metrics import accuracy_score, precision_score, recall_score, f1_score, confusion_matrix, classification_report, roc_curve, roc_auc_score, mean_squared_error\n",
    "# from sklearn.datasets import make_classification\n"
   ]
  },
  {
   "cell_type": "code",
   "execution_count": 144,
   "metadata": {},
   "outputs": [
    {
     "name": "stdout",
     "output_type": "stream",
     "text": [
      "5.5\n"
     ]
    }
   ],
   "source": [
    "print(np.mean(range(1,11)))\n"
   ]
  },
  {
   "cell_type": "code",
   "execution_count": 145,
   "metadata": {},
   "outputs": [
    {
     "data": {
      "text/plain": [
       "10"
      ]
     },
     "execution_count": 145,
     "metadata": {},
     "output_type": "execute_result"
    }
   ],
   "source": [
    "# Define the dataset with more entries\n",
    "data = {\n",
    "    'Name': [\n",
    "        'Roger Smith', 'Michelle Beck', 'Diego Pons', 'Sophia Patel', 'James Carter',\n",
    "        'Emily Johnson', 'Liam Brown', 'Ava Williams', 'Mason Davis', 'Olivia Taylor'\n",
    "    ],\n",
    "    'Username': [\n",
    "        'rsmith', 'mlbeck', 'dpons', 'spatel', 'jcarter',\n",
    "        'ejohnson', 'lbrown', 'awilliams', 'mdavis', 'otaylor'\n",
    "    ],\n",
    "    'Email': [\n",
    "        'wigginsryan@yahoo.com', 'hcosta@hotmail.com', 'dpons222@gmail.com', 'spatel99@gmail.com',\n",
    "        'jcarter.office@outlook.com', 'emily.j@hotmail.com', 'liam.brown@gmail.com', \n",
    "        'ava_williams23@yahoo.com', 'mason.davis@company.com', 'olivia.taylor@live.com'\n",
    "    ],\n",
    "    'Age': [10, 20, 33, 27, 40, 22, 30, 25, 35, 28],\n",
    "    'Date': [\n",
    "        '2025-02-01', '2025-02-02', '2025-02-03', '2025-02-04', '2025-02-05',\n",
    "        '2025-02-06', '2025-02-07', '2025-02-08', '2025-02-09', '2025-02-10'\n",
    "    ]  # Adding a date column\n",
    "}\n",
    "\n",
    "df = pd.DataFrame(data)\n",
    "df.Age.nunique()"
   ]
  },
  {
   "cell_type": "markdown",
   "metadata": {},
   "source": [
    "# Start"
   ]
  },
  {
   "cell_type": "code",
   "execution_count": 146,
   "metadata": {},
   "outputs": [],
   "source": [
    "class School(): \n",
    "    def __init__(self, name, level, num_students):\n",
    "        self.name = name\n",
    "        self.level = level\n",
    "        self.num_students = num_students\n",
    "\n",
    "    def __repr__(self):\n",
    "        return f\"{self.name} {self.level} has {self.num_students} students\"\n",
    "        \n",
    "    # getters\n",
    "    def get_name(self):\n",
    "        return (self.name)\n",
    "\n",
    "    def get_level(self):\n",
    "        return self.level\n",
    "\n",
    "    def get_num_students(self):\n",
    "        return self.num_students\n",
    "    \n",
    "    # setters\n",
    "    def set_name(self, new_name):\n",
    "        self.name = new_name\n",
    "        return (self.name)\n",
    "\n",
    "    def set_level(self, new_level):\n",
    "        self.level = new_level\n",
    "        return self.level\n",
    "\n",
    "    def set_num_students(self, new_num_students):\n",
    "        self.num_students = new_num_students\n",
    "        return self.num_students\n",
    "\n",
    "    # deleters\n",
    "    def del_name(self):\n",
    "        del self.name\n",
    "\n",
    "    def del_level(self):\n",
    "        del self.level\n",
    "\n",
    "    def del_num_students(self):\n",
    "        del self.num_students\n",
    "\n",
    "class Primary(School):\n",
    "    def __init__(self, name, level, num_students, pickup_policy):\n",
    "        super().__init__(name, level, num_students)\n",
    "        self.pickup_policy = pickup_policy\n",
    "    def __repr__(self):\n",
    "        return super().__repr__() + f\". The pickup policy is {self.pickup_policy}\"\n",
    "\n",
    "\n",
    "class Middle(School):\n",
    "    pass\n",
    "\n",
    "\n",
    "class High(School):\n",
    "    def __init__(self, name, level, num_students, sports_teams):\n",
    "        super().__init__(name, level, num_students)\n",
    "        self.sports_teams = sports_teams\n",
    "    \n",
    "    def __repr__(self):\n",
    "        return super().__repr__() + f\" and it offers the following sports teams: {', '.join(self.sports_teams)}.\"\n"
   ]
  },
  {
   "cell_type": "code",
   "execution_count": 147,
   "metadata": {},
   "outputs": [
    {
     "data": {
      "text/plain": [
       "Mussleman High has 1500 students and it offers the following sports teams: bball, soccer."
      ]
     },
     "execution_count": 147,
     "metadata": {},
     "output_type": "execute_result"
    }
   ],
   "source": [
    "mhs = High('Mussleman', 'High', 1500, ['bball', 'soccer'])\n",
    "mhs"
   ]
  },
  {
   "cell_type": "code",
   "execution_count": 148,
   "metadata": {},
   "outputs": [
    {
     "data": {
      "text/plain": [
       "Little People Primary has 100 students. The pickup policy is pickup at 3"
      ]
     },
     "execution_count": 148,
     "metadata": {},
     "output_type": "execute_result"
    }
   ],
   "source": [
    "primary = Primary('Little People', 'Primary', 100, 'pickup at 3')\n",
    "primary"
   ]
  },
  {
   "cell_type": "code",
   "execution_count": 149,
   "metadata": {},
   "outputs": [
    {
     "name": "stdout",
     "output_type": "stream",
     "text": [
      "Alice\n",
      "1990-01-01\n",
      "1990-01-01\n",
      "1995-05-05\n",
      "Bob\n",
      "1985-11-15\n",
      "full\n"
     ]
    }
   ],
   "source": [
    "class User:\n",
    "    def __init__(self, name, birth_day, password):\n",
    "        self.name = name  # Public\n",
    "        self._birthday = birth_day  # Protected\n",
    "        self.__password = password  # Private\n",
    "\n",
    "    def check_birth_day(self, input_birth_day):\n",
    "        return input_birth_day == self._birthday  # Accessing protected member\n",
    "\n",
    "    def check_password(self, input_password):\n",
    "        return input_password == self.__password  # Accessing private member\n",
    "\n",
    "    def get_birth_day(self):  # Example of a getter method\n",
    "        return self._birthday\n",
    "\n",
    "    def set_birth_day(self, new_birth_day): # Example of a setter method\n",
    "        self._birthday = new_birth_day\n",
    "\n",
    "user = User(\"Alice\", \"1990-01-01\", \"secure123\")\n",
    "print(user.name)  # ✅ Can access (Public)\n",
    "\n",
    "# Accessing protected member directly (generally discouraged but possible)\n",
    "print(user._birthday)  # ⚠️ Works, but considered bad practice outside the class\n",
    "\n",
    "# Recommended way to access or modify protected members:\n",
    "print(user.get_birth_day()) # Using a getter method\n",
    "user.set_birth_day(\"1995-05-05\") # Using a setter method\n",
    "print(user.get_birth_day())\n",
    "\n",
    "# print(user.__password)  # ❌ AttributeError: 'User' object has no attribute '__password'\n",
    "\n",
    "# But Python allows indirect access (name-mangling) - Avoid this!\n",
    "# print(user._User__password)  # ⚠️ Works, but bad practice -  Directly accessing mangled name\n",
    "\n",
    "# Example demonstrating why protected variables are useful:\n",
    "class AdminUser(User):\n",
    "    def __init__(self, name, birth_day, password, access_level):\n",
    "        super().__init__(name, birth_day, password)\n",
    "        self._access_level = access_level # Protected variable specific to AdminUser\n",
    "\n",
    "    def get_access_level(self):\n",
    "        return self._access_level\n",
    "\n",
    "admin = AdminUser(\"Bob\", \"1985-11-15\", \"adminpass\", \"full\")\n",
    "print(admin.name) # Public\n",
    "print(admin._birthday) # Accessible, but bad practice\n",
    "print(admin.get_access_level()) # Recommended access for protected _access_level"
   ]
  },
  {
   "cell_type": "markdown",
   "metadata": {},
   "source": [
    "# End"
   ]
  }
 ],
 "metadata": {
  "kernelspec": {
   "display_name": ".venv",
   "language": "python",
   "name": "python3"
  },
  "language_info": {
   "codemirror_mode": {
    "name": "ipython",
    "version": 3
   },
   "file_extension": ".py",
   "mimetype": "text/x-python",
   "name": "python",
   "nbconvert_exporter": "python",
   "pygments_lexer": "ipython3",
   "version": "3.10.11"
  }
 },
 "nbformat": 4,
 "nbformat_minor": 2
}
