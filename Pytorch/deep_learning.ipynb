{
 "cells": [
  {
   "cell_type": "markdown",
   "id": "00fb246c",
   "metadata": {},
   "source": [
    "# Notes"
   ]
  },
  {
   "cell_type": "markdown",
   "id": "3947b9f8",
   "metadata": {},
   "source": [
    "## Neural Network"
   ]
  },
  {
   "cell_type": "markdown",
   "id": "8887ca18",
   "metadata": {},
   "source": [
    "A single training pass $\n",
    " W_h \\ h \\ W_x \\ x \n",
    " $\n",
    "\n",
    "* **x:** This is the input at the current time step of the sequence. It's a vector representing the information for the current element you're processing.\n",
    "* **$W_x$:** This is the weight matrix associated with the input x. It's used to transform the input vector into a different representation that's relevant for the recurrent unit's computations. Think of it as determining how much influence the current input has on the next hidden state.\n",
    "* **h** (often denoted as $h_{t-1}$ in a sequence context but can be shortened when the time step is clear): This is the hidden state from the previous time step. It's a vector that carries the \"memory\" of the sequence up to the current point. It contains information about what the RNN has learned from the earlier parts of the input sequence.\n",
    "* **$W_h$:** This is the weight matrix associated with the previous hidden state h. It's used to transform the previous hidden state so that its information can be combined with the transformed current input to determine the new hidden state. It controls how much of the past information is retained and how it influences the present."
   ]
  },
  {
   "cell_type": "markdown",
   "id": "180e99d7",
   "metadata": {},
   "source": [
    "Simply put:\n",
    "Okay, imagine an RNN is reading a sentence word by word.\n",
    "\n",
    "* **x** is like the word the RNN is reading right now.\n",
    "* **$W_x$** is like a special tool the RNN uses to understand the meaning of the current word in a way that's helpful for remembering it later. It's like saying, \"Okay, this word means this in the context of what I need to remember.\"\n",
    "* **h** is like a short-term memory of what the RNN has read before this current word. It's a summary of the sentence so far.\n",
    "* **$W_h$** is like another special tool the RNN uses to decide what parts of its short-term memory are important to keep in mind while reading the current word. It's like saying, \"Based on what I've already read, this part of my memory is really important for understanding the new word.\"\n",
    "\n",
    "So, to figure out what to remember after reading the current word (x), the RNN does something like this:\n",
    "\n",
    "1.  It uses $W_x$ to understand the current word.\n",
    "2.  It uses $W_h$ to see what parts of its previous memory (h) are important.\n",
    "3.  It combines what it learned from the current word (step 1) with the important parts of its memory (step 2) to update its memory (h becomes a new h that includes the current word).\n",
    "\n",
    "Think of $W_x$ and $W_h$ as the RNN's way of focusing its attention and deciding what's important to process and remember as it reads the sequence. They are the things the RNN learns during training to understand the patterns in the data."
   ]
  },
  {
   "cell_type": "markdown",
   "id": "0168abbf",
   "metadata": {},
   "source": []
  }
 ],
 "metadata": {
  "language_info": {
   "name": "python"
  }
 },
 "nbformat": 4,
 "nbformat_minor": 5
}
