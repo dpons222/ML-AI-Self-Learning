{
 "cells": [
  {
   "cell_type": "markdown",
   "id": "c8ea8662",
   "metadata": {},
   "source": [
    "# Imports"
   ]
  },
  {
   "cell_type": "code",
   "execution_count": 8,
   "id": "a80b4698",
   "metadata": {},
   "outputs": [],
   "source": [
    "import torch\n"
   ]
  },
  {
   "cell_type": "markdown",
   "id": "57ef29c1",
   "metadata": {},
   "source": [
    "# Intro"
   ]
  },
  {
   "cell_type": "markdown",
   "id": "a7532494",
   "metadata": {},
   "source": [
    "## testing"
   ]
  },
  {
   "cell_type": "code",
   "execution_count": 9,
   "id": "3aba05d8",
   "metadata": {},
   "outputs": [
    {
     "name": "stdout",
     "output_type": "stream",
     "text": [
      "tensor([[0.4216, 0.0691, 0.2332],\n",
      "        [0.4047, 0.2162, 0.9927],\n",
      "        [0.4128, 0.5938, 0.6128],\n",
      "        [0.1519, 0.0453, 0.5035],\n",
      "        [0.9978, 0.3884, 0.6929]])\n"
     ]
    }
   ],
   "source": [
    "x = torch.rand(5, 3)\n",
    "print(x)"
   ]
  },
  {
   "cell_type": "markdown",
   "id": "b66373cb",
   "metadata": {},
   "source": [
    "## is gpu available"
   ]
  },
  {
   "cell_type": "code",
   "execution_count": 10,
   "id": "e37ca268",
   "metadata": {},
   "outputs": [
    {
     "data": {
      "text/plain": [
       "True"
      ]
     },
     "execution_count": 10,
     "metadata": {},
     "output_type": "execute_result"
    }
   ],
   "source": [
    "torch.cuda.is_available()"
   ]
  },
  {
   "cell_type": "code",
   "execution_count": 11,
   "id": "e0de9be7",
   "metadata": {},
   "outputs": [
    {
     "name": "stdout",
     "output_type": "stream",
     "text": [
      "tensor([[0., 0., 0.],\n",
      "        [0., 0., 0.],\n",
      "        [0., 0., 0.],\n",
      "        [0., 0., 0.],\n",
      "        [0., 0., 0.]])\n",
      "torch.float32\n"
     ]
    }
   ],
   "source": [
    "# random zeros\n",
    "z = torch.zeros((5,3))\n",
    "print(z)\n",
    "print(z.dtype)"
   ]
  },
  {
   "cell_type": "code",
   "execution_count": 12,
   "id": "fdacd788",
   "metadata": {},
   "outputs": [
    {
     "name": "stdout",
     "output_type": "stream",
     "text": [
      "tensor([[0.3126, 0.3791],\n",
      "        [0.3087, 0.0736]]) \n",
      "\n",
      "tensor([[0.4216, 0.0691],\n",
      "        [0.2332, 0.4047]]) \n",
      "\n",
      "tensor([[0.3126, 0.3791],\n",
      "        [0.3087, 0.0736]])\n"
     ]
    }
   ],
   "source": [
    "# testing seed \n",
    "torch.manual_seed(1729)\n",
    "r1 = torch.rand((2,2))\n",
    "\n",
    "r2= torch.rand((2,2))\n",
    "\n",
    "torch.manual_seed(1729)\n",
    "r3 = torch.rand((2,2))\n",
    "\n",
    "print(f'{r1} \\n\\n{r2} \\n\\n{r3}')"
   ]
  },
  {
   "cell_type": "code",
   "execution_count": null,
   "id": "8333c190",
   "metadata": {},
   "outputs": [
    {
     "name": "stdout",
     "output_type": "stream",
     "text": [
      "tensor([[1., 1., 1.],\n",
      "        [1., 1., 1.]])\n",
      "\n",
      "tensor([[2., 2., 2.],\n",
      "        [2., 2., 2.]])\n",
      "\n",
      "tensor([[3., 3., 3.],\n",
      "        [3., 3., 3.]])\n"
     ]
    }
   ],
   "source": [
    "# simple tensor arithmatic\n",
    "\n",
    "# create all ones\n",
    "ones = torch.ones((2,3))\n",
    "\n",
    "#multiple by a scalar, 2\n",
    "twos = ones * 2\n",
    "\n",
    "# add two tensors of the same shape\n",
    "threes = ones + twos\n",
    "\n",
    "print(f\"{ones}\\n\\n{twos}\\n\\n{threes}\")"
   ]
  },
  {
   "cell_type": "markdown",
   "id": "6a06a207",
   "metadata": {},
   "source": [
    "# Assignment 1\n",
    "Simple Neural Network\n",
    "\n",
    "https://www.youtube.com/watch?v=IC0_FRiX-sw&list=PL_lsbAsL_o2CTlGHgMxNrKhzP97BaG9ZN&index=1&t=329s"
   ]
  },
  {
   "cell_type": "code",
   "execution_count": 20,
   "id": "69313b1d",
   "metadata": {},
   "outputs": [],
   "source": [
    "import torch\n",
    "import torch.nn as nn # for torch.nn.Module, the parent object for Pytorch models\n",
    "import torch.nn.functional as F # for the activation function"
   ]
  },
  {
   "cell_type": "code",
   "execution_count": null,
   "id": "d0ac0777",
   "metadata": {},
   "outputs": [],
   "source": []
  }
 ],
 "metadata": {
  "kernelspec": {
   "display_name": ".venv",
   "language": "python",
   "name": "python3"
  },
  "language_info": {
   "codemirror_mode": {
    "name": "ipython",
    "version": 3
   },
   "file_extension": ".py",
   "mimetype": "text/x-python",
   "name": "python",
   "nbconvert_exporter": "python",
   "pygments_lexer": "ipython3",
   "version": "3.10.11"
  }
 },
 "nbformat": 4,
 "nbformat_minor": 5
}
