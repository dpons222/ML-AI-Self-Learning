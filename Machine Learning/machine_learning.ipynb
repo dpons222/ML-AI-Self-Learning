{
 "cells": [
  {
   "cell_type": "code",
   "execution_count": 125,
   "metadata": {},
   "outputs": [],
   "source": [
    "import sys\n",
    "import os\n",
    "# Add the root directory to the system path\n",
    "root_directory = os.path.abspath(os.path.join(os.getcwd(), '../'))\n",
    "sys.path.append(root_directory)\n",
    "\n",
    "from IPython.display import SVG\n",
    "import numpy as np\n",
    "import pandas as pd\n",
    "import matplotlib.pyplot as plt\n",
    "from functions import *\n"
   ]
  },
  {
   "cell_type": "markdown",
   "id": "959349fa",
   "metadata": {},
   "source": [
    "# Vocabulary"
   ]
  },
  {
   "cell_type": "markdown",
   "id": "9b728811",
   "metadata": {},
   "source": [
    "## Slope\n",
    "Slope is a single number describing the steepness of a line. (see gradient for differences)\n",
    "- Simpler, more general: Refers to the steepness of a line.   \n",
    "- Scalar quantity: It's a single number representing the incline or decline of a line.   \n",
    "- Example: \"The slope of the hill is 15%.\""
   ]
  },
  {
   "cell_type": "markdown",
   "id": "d9d93fbc",
   "metadata": {},
   "source": [
    "## Gradient\n",
    "Gradient is a vector describing the direction and rate of change of a function at a point. (see slope for differences)\n",
    "- More specific, vector-based: Represents the direction and rate of change of a function at a particular point.   \n",
    "- Vector quantity: It has both magnitude (steepness) and direction.   \n",
    "- Example: \"The gradient of the temperature field points north, indicating that temperature increases in that direction.\""
   ]
  },
  {
   "cell_type": "markdown",
   "metadata": {},
   "source": [
    "## Intercept\n",
    "The intercept is the value of the dependent variable when all the independent variables are zero. It is the point where the regression line (or curve) crosses the y-axis. "
   ]
  },
  {
   "cell_type": "markdown",
   "metadata": {},
   "source": [
    "## Coefficient\n",
    "A coefficient is a numerical or constant quantity placed before and multiplying a variable in an algebraic expression. For example, in the term $ 5x $ 5 is the coefficient. Coefficients can be positive, negative, integers, fractions, or decimals. They provide the scale or weight for the associated variable. \n",
    "\n",
    "In statistics and machine learning, coefficients in a model (like regression coefficients) represent the relationship between a predictor variable and the response variable.\n",
    "\n"
   ]
  },
  {
   "cell_type": "markdown",
   "metadata": {},
   "source": [
    "## Natural Logarithm (ln)\n",
    "The natural logarithm is a mathematical function that represents the logarithm to the base $ e $ (where $ e ≈ 2.718 $)\n",
    "\n",
    "For a given number $ 𝑥 $, the natural logarithm is written as $ ln(x) $\n",
    "\n",
    "\n"
   ]
  },
  {
   "cell_type": "markdown",
   "metadata": {},
   "source": [
    "## Logit Function\n",
    "The logit function is specifically used in statistics, particularly in logistic regression. It transforms a probability $ p $ (ranging from 0 to 1) into the log-odds, which can range from $ −∞ $ to $ + ∞ $\n",
    "\n",
    "The logit function of a probability $ p $ is given by:\n",
    "$$\n",
    "log(p) = ln\\frac{p}{1-p}\n",
    "$$\n",
    "\n",
    "**Usage**: The logit function is used to model the relationship between the probability of an event occurring and predictor variables in logistic regression.\n"
   ]
  },
  {
   "cell_type": "markdown",
   "metadata": {},
   "source": [
    "## Sigmoid function\n",
    "The sigmoid function is a mathematical function that has an S-shaped curve (sigmoid curve). It is widely used in machine learning, particularly in logistic regression and neural networks, as an activation function. The sigmoid function maps any real-valued number into a range between 0 and 1, making it useful for models that need to predict probabilities.\n",
    "\n",
    "The sigmoid function is defined as:\n",
    "$$\n",
    "σ(x) = \\frac{1}{1+e^{-x}}\n",
    "$$\n",
    "\n"
   ]
  },
  {
   "cell_type": "markdown",
   "id": "e8301a7d",
   "metadata": {},
   "source": [
    "# Intro to Machine Learning\n",
    "https://www.codecademy.com/journeys/data-scientist-ml/paths/dsmlcj-22-machine-learning-foundations/tracks/dsmlcj-22-machine-learning-fun/modules/dsml-data-transformations-for-feature-analysis-2f0d46b3-b281-4d68-a8ac-30a198aae004/articles/fe-encoding-categorical-variables\n",
    "\n",
    "- **Supervised Learning**: data is labeled and the program learns to predict the output from the input data\n",
    "- **Unsupervised Learning**: data is unlabeled and the program learns to recognize the inherent structure in the input data"
   ]
  },
  {
   "cell_type": "markdown",
   "id": "7de92240",
   "metadata": {},
   "source": [
    "# EDA Before Regression Model\n",
    "https://www.codecademy.com/journeys/data-scientist-ml/paths/dsmlcj-22-machine-learning-foundations/tracks/dsmlcj-22-machine-learning-fun/modules/eda-machine-learning-models-53f6f860-50fe-40e0-a6aa-1268771d0bcb/articles/eda-prior-to-fitting-a-regression-model"
   ]
  },
  {
   "cell_type": "markdown",
   "id": "e2eb27dc",
   "metadata": {},
   "source": [
    "# EDA Before Classification Model\n",
    "https://www.codecademy.com/journeys/data-scientist-ml/paths/dsmlcj-22-machine-learning-foundations/tracks/dsmlcj-22-machine-learning-fun/modules/eda-machine-learning-models-53f6f860-50fe-40e0-a6aa-1268771d0bcb/articles/eda-prior-to-fitting-a-classification-model"
   ]
  },
  {
   "cell_type": "markdown",
   "id": "b7c809b7",
   "metadata": {},
   "source": [
    "# Encoding Categorical Variables"
   ]
  },
  {
   "cell_type": "markdown",
   "id": "9580d995",
   "metadata": {},
   "source": [
    "## Ordinal Encoding"
   ]
  },
  {
   "cell_type": "markdown",
   "id": "4b23795b",
   "metadata": {},
   "source": [
    "## Label Encoding"
   ]
  },
  {
   "cell_type": "markdown",
   "id": "39a6d40d",
   "metadata": {},
   "source": [
    "## One-hot encoding"
   ]
  },
  {
   "cell_type": "markdown",
   "id": "faa93a93",
   "metadata": {},
   "source": [
    "## Binary Encoding"
   ]
  },
  {
   "cell_type": "markdown",
   "id": "6dc9728a",
   "metadata": {},
   "source": [
    "## Hashing"
   ]
  },
  {
   "cell_type": "markdown",
   "id": "de767250",
   "metadata": {},
   "source": [
    "## Target Encoding"
   ]
  },
  {
   "cell_type": "markdown",
   "id": "ec4a4579",
   "metadata": {},
   "source": [
    "## Date-time Encoding"
   ]
  },
  {
   "cell_type": "markdown",
   "id": "b6d6175d",
   "metadata": {},
   "source": [
    "# Regression vs Classification"
   ]
  },
  {
   "cell_type": "markdown",
   "id": "63c00feb",
   "metadata": {},
   "source": [
    "## Regression\n",
    "Regression is used to predict outputs that are continuous. The outputs are quantities that can be flexibly determined based on the inputs of the model rather than being confined to a set of possible labels.\n",
    "\n",
    "For example:\n",
    "\n",
    "- Predict the height of a potted plant from the amount of rainfall\n",
    "- Predict salary based on someone’s age and availability of high-speed internet\n",
    "- Predict a car’s MPG (miles per gallon) based on size and model yea"
   ]
  },
  {
   "cell_type": "markdown",
   "id": "8fd4c7d4",
   "metadata": {},
   "source": [
    "## Classification\n",
    "Classification is used to predict a discrete label. The outputs fall under a finite set of possible outcomes. Many situations have only two possible outcomes. This is called **binary classification** (True/False, 0 or 1, Hotdog / not Hotdog).\n",
    "\n",
    "For example:\n",
    "\n",
    "- Predict whether an email is spam or not\n",
    "- Predict whether it will rain or not\n",
    "- Predict whether a user is a power user or a casual user\n",
    "\n",
    "There are also two other common types of classification: **multi-class classification** and **multi-label classification**.\n",
    "\n",
    "**Multi-class classification** has the same idea behind binary classification, except instead of two possible outcomes, there are three or more.\n",
    "\n",
    "For example:\n",
    "\n",
    "- Predict whether a photo contains a pear, apple, or peach\n",
    "- Predict what letter of the alphabet a handwritten character is\n",
    "- Predict whether a piece of fruit is small, medium, or large\n",
    "\n",
    "An important note about binary and multi-class classification is that in both, each outcome has one specific label. However, in **multi-label classification**, there are multiple possible labels for each outcome. This is useful for customer segmentation, image categorization, and sentiment analysis for understanding text. To perform these classifications, we use models like Naive Bayes, K-Nearest Neighbors, SVMs, as well as various deep learning models.\n",
    "\n",
    "An example of multi-label classification is shown below. Here, a cat and a bird are both identified in a photo showing a classification model with more than one label as a result.\n",
    "\n",
    "<img src=\"https://content.codecademy.com/courses/deeplearning-with-tensorflow/multilabel_classification.png\" alt=\"classification model identifying a cat and a bird in an outdoor photo\" class=\"styles_img__Ckuzm\">"
   ]
  },
  {
   "cell_type": "markdown",
   "id": "acf8842f",
   "metadata": {},
   "source": [
    "# Intro To Linear Regression\n",
    "\n",
    "The purpose of machine learning is often to create a model that explains some real-world data, so that we can predict what may happen next, with different inputs.\n",
    "\n",
    "The simplest model that we can fit to data is a line. When we are trying to find a line that fits a set of data best, we are performing Linear Regression.\n",
    "\n",
    "We often want to find lines to fit data, so that we can predict unknowns. For example:\n",
    "\n",
    "- The market price of a house vs. the square footage of a house. Can we predict how much a house will sell for, given its size?\n",
    "- The tax rate of a country vs. its GDP. Can we predict taxation based on a country’s GDP?\n",
    "- The amount of chips left in the bag vs. number of chips taken. Can we predict how much longer this bag of chips will last, given how much people at this party have been eating?"
   ]
  },
  {
   "cell_type": "markdown",
   "id": "5bdedff0",
   "metadata": {},
   "source": [
    "## Loss\n",
    "\n",
    "When we think about how we can assign a slope and intercept to fit a set of points, we have to define what the best fit is.\n",
    "\n",
    "For each data point, we calculate loss, a number that measures how bad the model’s (in this case, the line’s) prediction was. You may have seen this being referred to as error.\n",
    "\n",
    "We can think about loss as the squared distance from the point to the line. We do the squared distance (instead of just the distance) so that points above and below the line both contribute to total loss in the same way:"
   ]
  },
  {
   "cell_type": "code",
   "execution_count": 126,
   "metadata": {},
   "outputs": [
    {
     "data": {
      "image/svg+xml": [
       "<svg xmlns=\"http://www.w3.org/2000/svg\" xmlns:xlink=\"http://www.w3.org/1999/xlink\" width=\"794px\" height=\"784px\" viewBox=\"0 0 794 784\" version=\"1.1\">\n",
       "    <!-- Generator: Sketch 51.1 (57501) - http://www.bohemiancoding.com/sketch -->\n",
       "    <title>graph</title>\n",
       "    <desc>Created with Sketch.</desc>\n",
       "    <defs/>\n",
       "    <g id=\"graph\" stroke=\"none\" stroke-width=\"1\" fill=\"none\" fill-rule=\"evenodd\">\n",
       "        <path d=\"M397.5,78.5 L397.5,706.87091\" id=\"Line-2\" stroke=\"#000000\" stroke-width=\"4\" stroke-linecap=\"square\"/>\n",
       "        <path d=\"M477.5,167.284699 L477.5,295.036351\" id=\"Line-2-Copy\" stroke=\"#4C7EF3\" stroke-width=\"4\" stroke-linecap=\"square\"/>\n",
       "        <path d=\"M581.5,226.886355 L581.5,271.138628\" id=\"Line-2-Copy-2\" stroke=\"#4C7EF3\" stroke-width=\"4\" stroke-linecap=\"square\"/>\n",
       "        <path d=\"M84,393 L712,393\" id=\"Line-2\" stroke=\"#000000\" stroke-width=\"4\" stroke-linecap=\"square\"/>\n",
       "        <path d=\"M460.867188,233.246094 C459.85937,233.246094 458.912114,233.115236 458.025391,232.853516 C457.138667,232.591796 456.437503,232.238283 455.921875,231.792969 L456.765625,229.578125 C457.195315,229.937502 457.789059,230.232421 458.546875,230.462891 C459.304691,230.693361 460.082027,230.808594 460.878906,230.808594 C461.777348,230.808594 462.50195,230.566409 463.052734,230.082031 C463.603518,229.597654 463.878906,228.964848 463.878906,228.183594 C463.878906,227.699216 463.802735,227.281252 463.650391,226.929688 C463.498046,226.578123 463.296876,226.296876 463.046875,226.085938 C462.796874,225.874999 462.462893,225.705079 462.044922,225.576172 C461.626951,225.447265 461.199221,225.359375 460.761719,225.3125 C460.324217,225.265625 459.796878,225.238281 459.179688,225.230469 C459.15625,225.230469 459.04297,225.228516 458.839844,225.224609 C458.636718,225.220703 458.523438,225.21875 458.5,225.21875 L458.5,222.851562 L459.15625,222.851562 C459.835941,222.851562 460.419919,222.816407 460.908203,222.746094 C461.396487,222.675781 461.849607,222.554688 462.267578,222.382812 C462.685549,222.210937 463.001952,221.957033 463.216797,221.621094 C463.431642,221.285155 463.539062,220.871096 463.539062,220.378906 C463.539062,219.71484 463.289065,219.14844 462.789062,218.679688 C462.28906,218.210935 461.585942,217.976562 460.679688,217.976562 C459.21093,217.976562 457.902349,218.343746 456.753906,219.078125 L455.910156,216.851562 C457.332038,215.976558 459.019521,215.539062 460.972656,215.539062 C462.605477,215.539062 463.939448,215.968746 464.974609,216.828125 C466.009771,217.687504 466.527344,218.789056 466.527344,220.132812 C466.527344,221.070317 466.287112,221.869137 465.806641,222.529297 C465.326169,223.189456 464.628911,223.671873 463.714844,223.976562 C464.761724,224.179689 465.572263,224.68359 466.146484,225.488281 C466.720706,226.292973 467.007812,227.242182 467.007812,228.335938 C467.007812,229.375005 466.730472,230.271481 466.175781,231.025391 C465.621091,231.779301 464.886723,232.337889 463.972656,232.701172 C463.058589,233.064455 462.023443,233.246094 460.867188,233.246094 Z\" id=\"3\" fill=\"#4C7EF3\"/>\n",
       "        <path d=\"M470.001953,125 L476.318359,107.820312 L479.775391,107.820312 L485.998047,125 L482.740234,125 L481.041016,120.148438 L475.029297,120.148438 L473.318359,125 L470.001953,125 Z M475.826172,117.78125 L480.232422,117.78125 C478.826165,113.273415 478.103516,110.945313 478.064453,110.796875 L475.826172,117.78125 Z\" id=\"A\" fill=\"#4C7EF3\"/>\n",
       "        <path d=\"M576.541016,330 L576.541016,312.832031 L581.896484,312.832031 C584.169933,312.832031 585.865229,313.164059 586.982422,313.828125 C588.099615,314.492191 588.658203,315.597649 588.658203,317.144531 C588.658203,317.394533 588.642578,317.640624 588.611328,317.882812 C588.580078,318.125001 588.509766,318.400389 588.400391,318.708984 C588.291015,319.01758 588.146485,319.296874 587.966797,319.546875 C587.787108,319.796876 587.537111,320.041014 587.216797,320.279297 C586.896483,320.517579 586.521487,320.703124 586.091797,320.835938 C587.154302,321.093751 587.966794,321.587887 588.529297,322.318359 C589.0918,323.048832 589.373047,323.949213 589.373047,325.019531 C589.373047,326.636727 588.800787,327.871089 587.65625,328.722656 C586.511713,329.574223 584.927744,330 582.904297,330 L576.541016,330 Z M579.716797,327.703125 L582.470703,327.703125 C584.908215,327.703125 586.126953,326.75001 586.126953,324.84375 C586.126953,323.882808 585.822269,323.191408 585.212891,322.769531 C584.603513,322.347654 583.662116,322.136719 582.388672,322.136719 L579.716797,322.136719 L579.716797,327.703125 Z M579.716797,319.921875 L582.435547,319.921875 C584.53712,319.921875 585.587891,319.121102 585.587891,317.519531 C585.587891,316.621089 585.285159,316.003908 584.679688,315.667969 C584.074216,315.33203 583.111335,315.164062 581.791016,315.164062 L579.716797,315.164062 L579.716797,319.921875 Z\" id=\"B\" fill=\"#4C7EF3\"/>\n",
       "        <path d=\"M595.53125,259.988281 L595.53125,245.703125 C595.421874,245.773438 594.91602,245.998045 594.013672,246.376953 C593.111324,246.755861 592.601563,246.960937 592.484375,246.992188 L592.484375,244.648438 C592.671876,244.5625 593.26562,244.267581 594.265625,243.763672 C595.26563,243.259763 595.816406,242.972657 595.917969,242.902344 L598.496094,242.902344 L598.496094,259.988281 L595.53125,259.988281 Z\" id=\"1\" fill=\"#4C7EF3\"/>\n",
       "        <g id=\"Group\" transform=\"translate(467.000000, 138.000000)\" stroke=\"#4C7EF3\" stroke-linecap=\"round\" stroke-width=\"4\">\n",
       "            <path d=\"M0.5,0.5 L20.1596033,20.1596033\" id=\"Line-3\"/>\n",
       "            <path d=\"M20.5,0.5 L0.840396749,20.1596033\" id=\"Line-3\"/>\n",
       "        </g>\n",
       "        <g id=\"Group\" transform=\"translate(571.000000, 278.000000)\" stroke=\"#4C7EF3\" stroke-linecap=\"round\" stroke-width=\"4\">\n",
       "            <path d=\"M0.5,0.5 L20.1596033,20.1596033\" id=\"Line-3\"/>\n",
       "            <path d=\"M20.5,0.5 L0.840396749,20.1596033\" id=\"Line-3\"/>\n",
       "        </g>\n",
       "        <path d=\"M104,686 L691,99\" id=\"Line-2\" stroke=\"#4C7EF3\" stroke-width=\"4\" stroke-linecap=\"round\" stroke-dasharray=\"13,21\"/>\n",
       "    </g>\n",
       "</svg>"
      ],
      "text/plain": [
       "<IPython.core.display.SVG object>"
      ]
     },
     "execution_count": 126,
     "metadata": {},
     "output_type": "execute_result"
    }
   ],
   "source": [
    "SVG(filename='../media/points.svg')"
   ]
  },
  {
   "cell_type": "markdown",
   "id": "b11723ed",
   "metadata": {},
   "source": [
    "In this example:\n",
    "\n",
    "- For point A, the squared distance is 9 (3²)\n",
    "- For point B, the squared distance is 1 (1²)\n",
    "- So the total loss, with this model, is 10. If we found a line that had less loss than 10, that line would be a better model for this data."
   ]
  },
  {
   "cell_type": "markdown",
   "id": "0cfaa423",
   "metadata": {},
   "source": [
    "## Gradient Descent\n",
    "The main objective of using a gradient descent algorithm is to minimize the cost function using iteration. To achieve this goal, it performs two steps iteratively:\n",
    "\n",
    "- Calculates the first-order derivative of the function to compute the gradient or slope of that function.\n",
    "- Move away from the direction of the gradient, which means slope increased from the current point by alpha times, where Alpha is defined as Learning Rate. It is a tuning parameter in the optimization process which helps to decide the length of the steps."
   ]
  },
  {
   "cell_type": "markdown",
   "id": "d27f5dab",
   "metadata": {},
   "source": [
    "## SK-Learn"
   ]
  },
  {
   "cell_type": "code",
   "execution_count": 127,
   "metadata": {},
   "outputs": [
    {
     "data": {
      "image/png": "[encoded data removed]",
      "text/plain": [
       "<Figure size 640x480 with 1 Axes>"
      ]
     },
     "metadata": {},
     "output_type": "display_data"
    }
   ],
   "source": [
    "from sklearn.linear_model import LinearRegression\n",
    "df = pd.read_csv('CSVs/protein_intake.csv') \n",
    "\n",
    "df = df.dropna(subset=['Protein intake (g/kg/day)']) # for this example, simply removed\n",
    "# all NANS since linear regression cannot take NANs\n",
    "\n",
    "X = df[['Protein intake (g/kg/day)']] \n",
    "y = df['LBM change (kg)'] \n",
    "\n",
    "\n",
    "regr = LinearRegression() #create object of LinearRegression class\n",
    "model = regr.fit(X, y) # trains the model / line\n",
    "\n",
    "y_predictions = regr.predict(X) # y_predictions can be used to make predictions\n",
    "\n",
    "plt.plot(X, y, 'o', label='Original Data')  # Label for clarity\n",
    "plt.plot(X, y_predictions, label='Predicted Values')  # Plot predicted values\n",
    "plt.legend()  # Show labels in the plot\n",
    "plt.show()\n",
    "\n",
    "\n",
    "\n",
    "\n",
    "\n",
    "# plt.show(X,y,'o')\n"
   ]
  },
  {
   "cell_type": "markdown",
   "metadata": {},
   "source": [
    "### SK-Learn Example 2\n"
   ]
  },
  {
   "cell_type": "markdown",
   "metadata": {},
   "source": [
    "Here's an example dataset with three features (e.g., hours studied, hours slept, and number of practice problems solved) and four observations (students):"
   ]
  },
  {
   "cell_type": "code",
   "execution_count": 128,
   "metadata": {},
   "outputs": [
    {
     "name": "stdout",
     "output_type": "stream",
     "text": [
      "Coefficients: [21.66666667  1.66666667 -7.33333333]\n",
      "Intercept: 3.333333333333357\n"
     ]
    }
   ],
   "source": [
    "import numpy as np\n",
    "from sklearn.linear_model import LinearRegression\n",
    "\n",
    "# Feature matrix with 4 observations and 3 features\n",
    "X = np.array([\n",
    "    [10, 7, 20],  # Student 1: 10 hours studied, 7 hours slept, 20 practice problems solved\n",
    "    [8, 8, 15],   # Student 2: 8 hours studied, 8 hours slept, 15 practice problems solved\n",
    "    [6, 6, 10],   # Student 3: 6 hours studied, 6 hours slept, 10 practice problems solved\n",
    "    [9, 7, 18]    # Student 4: 9 hours studied, 7 hours slept, 18 practice problems solved\n",
    "])\n",
    "\n",
    "# Target vector with the corresponding scores for each student\n",
    "y = np.array([85, 80, 70, 78])  # Scores for each student\n",
    "\n",
    "# Create and fit the linear regression model\n",
    "model = LinearRegression()\n",
    "model.fit(X, y)\n",
    "\n",
    "# Get the coefficients and intercept\n",
    "coef = model.coef_\n",
    "intercept = model.intercept_\n",
    "\n",
    "print(\"Coefficients:\", coef)\n",
    "print(\"Intercept:\", intercept)\n"
   ]
  },
  {
   "cell_type": "markdown",
   "metadata": {},
   "source": [
    "In this example:\n",
    "\n",
    "- X is a 2D array with shape (4, 3), meaning 4 rows (observations) and 3 columns (features).\n",
    "    - The rows represent different students.\n",
    "    - The columns represent different features: hours studied, hours slept, and number of practice problems solved.\n",
    "- y is a 1D array with 4 elements, representing the scores for each student.\n",
    "\n",
    "When you fit the model, the **coef_ attribute** will contain the coefficients for each feature, and the **intercept_ attribute** will contain the intercept of the regression model. The coefficients represent the impact of each feature on the target variable (score).\n",
    "\n"
   ]
  },
  {
   "cell_type": "code",
   "execution_count": 129,
   "metadata": {},
   "outputs": [
    {
     "data": {
      "image/png": "[encoded data removed]",
      "text/plain": [
       "<Figure size 640x480 with 1 Axes>"
      ]
     },
     "metadata": {},
     "output_type": "display_data"
    },
    {
     "data": {
      "image/png": "[encoded data removed]",
      "text/plain": [
       "<Figure size 640x480 with 1 Axes>"
      ]
     },
     "metadata": {},
     "output_type": "display_data"
    },
    {
     "data": {
      "image/png": "[encoded data removed]",
      "text/plain": [
       "<Figure size 640x480 with 1 Axes>"
      ]
     },
     "metadata": {},
     "output_type": "display_data"
    }
   ],
   "source": [
    "import matplotlib.pyplot as plt\n",
    "\n",
    "# Feature names\n",
    "feature_names = [\"Hours Studied\", \"Hours Slept\", \"Practice Problems Solved\"]\n",
    "\n",
    "\n",
    "# Create scatter plots for each feature against the target variable (scores)\n",
    "for i in range(X.shape[1]):\n",
    "    plt.figure()\n",
    "    plt.scatter(X[:, i], y, color='blue')\n",
    "    plt.xlabel(feature_names[i])\n",
    "    plt.ylabel(\"Score\")\n",
    "    plt.title(f\"Score vs {feature_names[i]}\")\n",
    "    plt.show()\n"
   ]
  },
  {
   "cell_type": "code",
   "execution_count": 130,
   "metadata": {},
   "outputs": [
    {
     "data": {
      "image/png": "[encoded data removed]",
      "text/plain": [
       "<Figure size 640x480 with 1 Axes>"
      ]
     },
     "metadata": {},
     "output_type": "display_data"
    }
   ],
   "source": [
    "from mpl_toolkits.mplot3d import Axes3D\n",
    "\n",
    "# Create a 3D scatter plot\n",
    "fig = plt.figure()\n",
    "ax = fig.add_subplot(111, projection='3d')\n",
    "\n",
    "# Scatter plot\n",
    "ax.scatter(X[:, 0], X[:, 1], X[:, 2], c=y, cmap='viridis', depthshade=True)\n",
    "\n",
    "# Labels\n",
    "ax.set_xlabel(\"Hours Studied\")\n",
    "ax.set_ylabel(\"Hours Slept\")\n",
    "ax.set_zlabel(\"Practice Problems Solved\")\n",
    "ax.set_title(\"3D Scatter Plot of Features\")\n",
    "\n",
    "# Show plot\n",
    "plt.show()\n"
   ]
  },
  {
   "cell_type": "markdown",
   "id": "76b8f353",
   "metadata": {},
   "source": [
    "# Multiple Linear Regression"
   ]
  },
  {
   "cell_type": "markdown",
   "metadata": {},
   "source": [
    "https://www.codecademy.com/journeys/data-scientist-ml/paths/dsmlcj-22-machine-learning-i/tracks/dsmlcj-22-supervised-learning-i/modules/dsml-multiple-linear-regression-6618debc-f2cb-48e5-95d0-dd5434055f66/articles/ols-gradient-descent-article"
   ]
  },
  {
   "cell_type": "markdown",
   "metadata": {},
   "source": [
    "## train_test_split"
   ]
  },
  {
   "cell_type": "markdown",
   "metadata": {},
   "source": [
    "train_test_split splits a dataset into two (or more) subsets: one for training a model and the other for testing it. This is important to evaluate the model's performance on unseen data. \n",
    "\n",
    "Assuming X is your feature matrix and y is your target vector:\n",
    "\n",
    "`from sklearn.model_selection import train_test_split`\n",
    "\n",
    "`X_train, X_test, y_train, y_test = train_test_split(X, y, test_size=0.2, random_state=42)`\n",
    "\n",
    "- **X**: Feature matrix.\n",
    "- **y**: Target vector.\n",
    "- **test_size**: Proportion of the dataset to include in the test split (e.g., 0.2 means 20% \n",
    "test data, 80% train data).\n",
    "- **train_size**: Proportion of the dataset to include in the train split. If specified, it should complement the test_size.\n",
    "- **random_state**: Controls the shuffling applied to the data before splitting. Ensures reproducibility when set to a specific value.\n",
    "- **shuffle**: Whether or not to shuffle the data before splitting. Defaults to True.\n",
    "- **stratify**: If not None, data is split in a stratified fashion, using this as the class labels. Useful for maintaining the same proportion of classes in train and test sets."
   ]
  },
  {
   "cell_type": "markdown",
   "metadata": {},
   "source": [
    "Full Example:"
   ]
  },
  {
   "cell_type": "code",
   "execution_count": 131,
   "metadata": {},
   "outputs": [
    {
     "name": "stdout",
     "output_type": "stream",
     "text": [
      "Train set size: 105\n",
      "Test set size: 45\n"
     ]
    }
   ],
   "source": [
    "from sklearn.datasets import load_iris\n",
    "from sklearn.model_selection import train_test_split\n",
    "\n",
    "# Load sample data\n",
    "data = load_iris()\n",
    "X = data.data\n",
    "y = data.target\n",
    "\n",
    "# Split the data\n",
    "X_train, X_test, y_train, y_test = train_test_split(X, y, test_size=0.3, random_state=1)\n",
    "\n",
    "# Check the sizes of the splits\n",
    "print(f\"Train set size: {X_train.shape[0]}\")\n",
    "print(f\"Test set size: {X_test.shape[0]}\")\n"
   ]
  },
  {
   "cell_type": "markdown",
   "id": "25884e13",
   "metadata": {},
   "source": [
    "## Evaluating Model Accuracy"
   ]
  },
  {
   "cell_type": "markdown",
   "id": "05787576",
   "metadata": {},
   "source": [
    "### Understanding Residuals\n",
    "\n",
    "**Residuals**: These are the differences between the actual observed values and the values predicted by the regression model. Mathematically, for each data point $ i $, the residual $ e_i $ is given by:\n",
    "\n",
    "$$\n",
    "\\ e_i = y_i - \\hat{y}_i \\\n",
    "$$\n",
    "\n",
    "where $ y_i $ is the actual value and $ \\hat{y}_i $ is the predicted value."
   ]
  },
  {
   "cell_type": "markdown",
   "id": "1486aa54",
   "metadata": {},
   "source": [
    "### Residual Sum of Squares (RSS)\n",
    "\n",
    "**Residual Sum of Squares (RSS)**: Also known as $ SSres $ This is the sum of the squares of the residuals. It quantifies the total deviation of the predicted values from the actual values. Mathematically, it is expressed as:\n",
    "\n",
    "$$\n",
    "\\ \\text{RSS} = \\sum_{i=1}^{n} (y_i - \\hat{y}_i)^2 \\\n",
    "$$\n",
    "\n",
    "where $ n $ is the number of data points, $ y_i $ is the actual value, and $ \\hat{y}_i $ is the predicted value.\n",
    "\n",
    "or:\n",
    "\n",
    "`((y - y_predict) ** 2).sum()`"
   ]
  },
  {
   "cell_type": "markdown",
   "id": "e2074472",
   "metadata": {},
   "source": [
    "### Significance of RSS\n",
    "\n",
    "- **Model Fit**: A smaller RSS indicates a better fit of the model to the data, meaning the predicted values are closer to the actual values.\n",
    "- **Comparison of Models**: When comparing different models, the model with the smaller RSS is generally preferred, as it implies a better fit.\n",
    "- **Optimization**: Linear regression aims to find the model parameters (coefficients and intercept) that minimize the RSS."
   ]
  },
  {
   "cell_type": "markdown",
   "id": "d31d52ec",
   "metadata": {},
   "source": [
    "### Example Calculation\n",
    "\n",
    "Suppose you have the following actual and predicted values:\n",
    "\n",
    "- Actual values $( y ): [3, 4, 5]$\n",
    "- Predicted values $( \\hat{y} ): [2.5, 4.1, 5.3]$\n",
    "\n",
    "The residuals (\\( e \\)) would be:\n",
    "\n",
    "- \\( e_1 = 3 - 2.5 = 0.5 \\)\n",
    "- \\( e_2 = 4 - 4.1 = -0.1 \\)\n",
    "- \\( e_3 = 5 - 5.3 = -0.3 \\)\n",
    "\n",
    "The RSS is calculated as:\n",
    "\n",
    "$$\n",
    "\\text{RSS} = (0.5)^2 + (-0.1)^2 + (-0.3)^2 = 0.25 + 0.01 + 0.09 = 0.35\n",
    "$$\n",
    "\n",
    "Thus, the RSS for this set of predictions is 0.35, indicating the overall discrepancy between the actual and predicted values."
   ]
  },
  {
   "cell_type": "markdown",
   "metadata": {},
   "source": [
    "### Total Sum of Squares, TTS\n",
    "The total some of squares is:\n",
    "\n",
    "$$\n",
    "\\text{SStot} = \\sum_{i=1}^{n}(y i− \\overline{y}) ^2\n",
    "$$\n",
    "\n",
    "The sum of (each actual value - each mean actual value) squared\n",
    "\n",
    "or :\n",
    "\n",
    "`((y - y.mean()) ** 2).sum()`\n"
   ]
  },
  {
   "cell_type": "markdown",
   "metadata": {},
   "source": [
    "### The Coefficient of Determination, $ R^2 $\n",
    "\n",
    "The coefficient of determination, $ R^2 $, is a statistical measure that explains how well the regression predictions approximate the real data points. In other words, $ R^2 $ tells us how well the regression model fits the observed data.\n",
    "\n",
    "The value of $ R^2 $ ranges from 0 to 1:\n",
    "\n",
    "- $ R^2 $ = 1 indicates that the regression predictions perfectly fit the data.\n",
    "- $ R^2 $ = 0 indicates that the model does not explain any of the variance in the dependent variable.\n",
    "\n",
    "The formula for $ R^2 $ is:\n",
    "\n",
    "$$\n",
    "\n",
    "R^2=1− \n",
    "\\frac{SS_{tot}}{SS_{res}}\\\n",
    "​$$\n",
    "\n"
   ]
  },
  {
   "cell_type": "markdown",
   "metadata": {},
   "source": [
    "# Logistic Regression"
   ]
  },
  {
   "cell_type": "markdown",
   "metadata": {},
   "source": [
    "## Probability vs Odds"
   ]
  },
  {
   "cell_type": "markdown",
   "metadata": {},
   "source": [
    "**Probability** is the measure of the likelihood that an event will occur, expressed as a fraction or a percentage. It ranges from 0 (impossible event) to 1 (certain event). For example:\n",
    "\n",
    "- A probability of 0.4 means there is a 40% chance of the event happening.\n",
    "- A probability of 0.5 means there is a 50% chance of the event happening.\n",
    "- A probability of 1 means the event will definitely happen."
   ]
  },
  {
   "cell_type": "markdown",
   "metadata": {},
   "source": [
    "**Odds**, on the other hand, compare the probability of the event occurring to the probability of it not occurring. They are often expressed as a ratio of \"successes\" to \"failures\".\n",
    "\n",
    "If the probability $ 𝑝 $ of an event occurring is 0.4, then the probability of the event not occurring is $ 1 − 𝑝 $, which is 0.6.\n",
    "\n",
    "$$\n",
    "\n",
    "Odds = \\frac{p}{(1 - p)}\\\n",
    "\n",
    "$$"
   ]
  },
  {
   "cell_type": "markdown",
   "metadata": {},
   "source": [
    "## Log - Odds\n",
    "\n",
    "The log-odds (or logit) is simply the natural logarithm of the odds. It transforms the odds, which range from 0 to ∞, to a range from -∞ to ∞. The log-odds are calculated as:\n",
    "$$\n",
    "\n",
    "Log Odds = log(\\frac{p}{1-p})\n",
    "\n",
    "$$\n",
    "\n",
    "This transformation is useful because it converts a bounded probability value into an unbounded value, making it suitable for regression and other statistical methods.\n",
    "\n",
    "You can use numpy to calculate, example:"
   ]
  },
  {
   "cell_type": "code",
   "execution_count": 132,
   "metadata": {},
   "outputs": [
    {
     "data": {
      "text/plain": [
       "np.float64(2.1972245773362196)"
      ]
     },
     "execution_count": 132,
     "metadata": {},
     "output_type": "execute_result"
    }
   ],
   "source": [
    "import numpy as np\n",
    "\n",
    "# Calculate odds of being on time odds_on_time\n",
    "odds_on_time = .9 / (1 - .9)\n",
    "\n",
    "# Calculate log_odds_on_time\n",
    "log_odds_on_time = np.log(odds_on_time)\n",
    "log_odds_on_time"
   ]
  },
  {
   "cell_type": "markdown",
   "metadata": {},
   "source": [
    "## Assumptions of Logistic Regression"
   ]
  },
  {
   "cell_type": "markdown",
   "metadata": {},
   "source": [
    "- **The target variable is binary**\n",
    "    - One of the most basic assumptions of logistic regression is that the outcome variable needs to be binary, which means there are two possible outcomes. Multinomial logistic regression is an exception to this assumption and is beyond the scope of this lesson\n",
    "\n",
    "- **Independent observations**\n",
    "    - While often overlooked, checking for independent observations in a data set is important for logistic regression. This can be violated if, in this case, patients are biopsied multiple times (repeated sampling of the same individual).\n",
    "\n",
    "- **Large enough sample size**\n",
    "    - Since logistic regression is fit using maximum likelihood estimation instead of least squares minimization, there must be a large enough sample to get convergence. When a model fails to converge, this causes the estimates to be extremely inaccurate. Now, what does a “large enough” sample mean? Often a rule of thumb is that there should be at least 10 samples per feature for the smallest class in the outcome variable.\n",
    "\n",
    "        For example, if there were 100 samples and the outcome variable diagnosis had 60 benign tumors and 40 malignant tumors, then the max number of features allowed would be 4. To get 4 we took the smallest of the classes in the outcome variable, 40, and divided it by 10.\n",
    "\n",
    "- **No influential outliers**\n",
    "    - Logistic regression is sensitive to outliers, so we must remove any extremely influential outliers for model building. Outliers are a broad topic with many different definitions – z-scores, scaler of the interquartile range, Cook’s distance/influence/leverage, etc – so there are many ways to identify them. But here, we will use visual tools to rule out obvious outliers.\n",
    "\n",
    "- **Features linearly related to log odds**\n",
    "    - Similar to linear regression, the underlying assumption of logistic regression is that the features are linearly related to the logit of the outcome. To test this visually, we can use Seaborn’s regplot, with the parameter logistic = True and the x value as our feature of interest. If this condition is met, the fit model will resemble a sigmoidal curve (as is the case when x = radius_mean)\n",
    "\n",
    "- **Multicollinearity**\n",
    "    - Like in linear regression, one of the assumptions is that there is no multicollinearity in the data. Meaning the features should not be highly correlated. Multicollinearity can cause the coefficients and p-values to be inaccurate. With a correlation plot, we can see which features are highly correlated and then we can drop one of the features.\n",
    "    \n",
    "\n",
    "\n",
    "\n"
   ]
  },
  {
   "cell_type": "markdown",
   "metadata": {},
   "source": [
    "## Confusion Matrix"
   ]
  },
  {
   "cell_type": "markdown",
   "metadata": {},
   "source": [
    "The confusion matrix is a table that summarizes the performance of a classification model by comparing the predicted values against the actual values. It breaks down the predictions into four categories:\n",
    "- **True Positives (TP)**: Correctly predicted positive cases.\n",
    "- **True Negatives (TN)**: Correctly predicted negative cases.\n",
    "- **False Positives (FP)**: Negative cases incorrectly predicted as positive.\n",
    "- **False Negatives (FN)**: Positive cases incorrectly predicted as negative.\n",
    "\n",
    "In a confusion matrix the predicted classes are represented as columns and the actual classes are represented as rows."
   ]
  },
  {
   "cell_type": "markdown",
   "metadata": {},
   "source": [
    "|               | Predicted Negative | Predicted Positive |\n",
    "|---------------|--------------------|--------------------|\n",
    "| **Actual Negative**  | True Negative (TN)   | False Positive (FP)  |\n",
    "| **Actual Positive**  | False Negative (FN)  | True Positive (TP)   |\n"
   ]
  },
  {
   "cell_type": "markdown",
   "metadata": {},
   "source": [
    "## Evaluation Metrics"
   ]
  },
  {
   "cell_type": "markdown",
   "metadata": {},
   "source": [
    "The simplest metric is accuracy – how many correct predictions did we make out of the total? However, when classes are imbalanced, this can be a misleading metric for model performance. Similarly, if we care more about accurately predicting a certain class, other metrics may be more appropriate to use, such as precision, recall, or F1-score may be better to evaluate performance. All are available in scikit-learn"
   ]
  },
  {
   "cell_type": "markdown",
   "metadata": {},
   "source": [
    "Accuracy = (TP + TN)/Total\n",
    "\n",
    "Precision = TP/(TP + FP)\n",
    "\n",
    "Recall = TP/(TP + FN)\n",
    "\n",
    "F1 score = 2*((Precision*Recall)/(Precision+Recall))\n"
   ]
  },
  {
   "cell_type": "markdown",
   "metadata": {},
   "source": [
    "- **Accuracy**:\n",
    "    - Measures the overall correctness of the model. It's the ratio of correct predictions (both true positives and true negatives) to the total number of predictions.\n",
    "    - Accuracy = (TP + TN)/Total\n",
    "    - Limitations: It may not be a good metric when the data is imbalanced (e.g., one class is much more frequent than the other).\n",
    "- Precision\n",
    "    - Precision focuses on how many of the predicted positive cases are actually positive. It's useful when false positives are costly (e.g., spam detection).\n",
    "    - Precision = TP/(TP + FP)\n",
    "    - Interpretation: High precision means fewer false positives.\n",
    "- Recall (Sensitivity):\n",
    "    - Recall measures how many of the actual positive cases were correctly identified by the model. It's important when false negatives are costly (e.g., in medical diagnosis).\n",
    "    - Recall = TP/(TP + FN)\n",
    "    - Interpretation: High recall means fewer false negatives.\n",
    "- F1 Score:\n",
    "    - The F1 score is the harmonic mean of precision and recall. It provides a balance between precision and recall, especially when you need to account for both false positives and false negatives.\n",
    "    - F1 score = 2*((Precision*Recall)/(Precision+Recall))\n",
    "    - Interpretation: The F1 score is useful when you need a single metric to evaluate both precision and recall, and it's especially helpful when you have an imbalanced dataset.\n",
    "\n",
    "\n"
   ]
  },
  {
   "cell_type": "markdown",
   "metadata": {},
   "source": [
    "- Summary\n",
    "    - Accuracy: Good for balanced datasets.\n",
    "    - Precision: Focuses on false positives.\n",
    "    - Recall: Focuses on false negatives.\n",
    "    - F1 Score: Balances precision and recall, especially for imbalanced classes."
   ]
  },
  {
   "cell_type": "markdown",
   "metadata": {},
   "source": [
    "## Prediction Threshold\n",
    "In the default implementation in scikit-learn, a probability greater than 50% means that the predicted outcome will belong to the positive class. This is referred to as a prediction threshold. If two samples have predicted probabilities of 51% and 99%, both will be considered positive with the default threshold. However, if the threshold is increased to 60%, a predicted probability of 51% will be assigned the negative class. "
   ]
  },
  {
   "cell_type": "markdown",
   "metadata": {},
   "source": [
    "## Class Imbalance"
   ]
  },
  {
   "cell_type": "markdown",
   "metadata": {},
   "source": [
    "If your classes are significantly imbalanced, this could create a bias towards the majority class since the model learns that it can have a higher accuracy if it predicts the majority class more often."
   ]
  },
  {
   "cell_type": "markdown",
   "metadata": {},
   "source": [
    "### Positivty Rate\n"
   ]
  },
  {
   "cell_type": "markdown",
   "metadata": {},
   "source": [
    "We can use the positivity rate to tell us how balanced our classes are. The positivity rate is the rate of occurrence for the positive class. With our breast cancer data, the formula is Positivity Rate = Total Malignant Cases / Total Cases. If our positivity rate is close to .5, then our classes are balanced."
   ]
  },
  {
   "cell_type": "markdown",
   "metadata": {},
   "source": [
    "### Stratification"
   ]
  },
  {
   "cell_type": "markdown",
   "metadata": {},
   "source": [
    "If your classes are imbalanced (more likely to happen with smaller datasets) then this difference can become even greater after you split your data into a training and testing dataset.\n",
    "\n",
    " One way to mitigate this is to randomly split using stratification on the class labels. Stratification is when the data is sorted into subgroups to ensure a nearly equal class distribution in your train and test sets. After using stratification, the training and testing datasets should have a very similar positivity rate (but stratification does not necessarily cause the positivity rate of the dataset to reach closer to .5)."
   ]
  },
  {
   "cell_type": "markdown",
   "metadata": {},
   "source": [
    "Example: Using stratify hyperparameter\n",
    "\n",
    "```\n",
    "x_train_str, x_test_str, y_train_str, y_test_str = train_test_split(X,y, random_state=6, test_size=0.3, stratify=y)\n",
    "```"
   ]
  },
  {
   "cell_type": "markdown",
   "metadata": {},
   "source": [
    "# K-Nearest Neighbors"
   ]
  },
  {
   "cell_type": "markdown",
   "metadata": {},
   "source": [
    "## Distance Between Points"
   ]
  },
  {
   "cell_type": "markdown",
   "metadata": {},
   "source": [
    "The generalized distance formula between points A and B is as follows:\n",
    "\n",
    "$\\sqrt{(A_1 - B_1)^2 + (A_2 - B_2)^2 + ... + (A_n - B_n)^2}$\n",
    "\n",
    "Here, A1-B1 is the difference between the first feature of each point. An-Bn is the difference between the last feature of each point."
   ]
  },
  {
   "cell_type": "markdown",
   "metadata": {},
   "source": [
    "## Data with Different Scales: Normalization"
   ]
  },
  {
   "cell_type": "markdown",
   "metadata": {},
   "source": [
    "The three steps of the K-Nearest Neighbors alorithm:\n",
    "\n",
    "1. **Normalize the data:** \n",
    "    * Scale the features to have zero mean and unit variance.\n",
    "    * Normalization formula is: \n",
    "\n",
    "    $(value-minimum)/(maximum-minimum)$\n",
    "    \n",
    "2. **Find the k nearest neighbors:**\n",
    "    * Calculate the distance between the new point and all points in the training data.\n",
    "    * Identify the k closest points to the new point.\n",
    "\n",
    "3. **Classify the new point:**\n",
    "    * Determine the most frequent class among the k nearest neighbors.\n",
    "    * Assign the new point to that class."
   ]
  },
  {
   "cell_type": "markdown",
   "metadata": {},
   "source": [
    "## Training and Validation"
   ]
  },
  {
   "cell_type": "markdown",
   "metadata": {},
   "source": [
    "As with most machine learning algorithms, we have split our data into a training set and validation set.\n",
    "\n",
    "Once these sets are created, we will want to use every point in the validation set as input to the K Nearest Neighbor algorithm. We will take a datapoint from the validation set, compare it to all the datapoints in the training set, find the K Nearest Neighbors, and make a prediction. After making that prediction, we can then peek at the real answer (found in the validation labels) to see if our classifier got the answer correct.\n",
    "\n",
    "If we do this for every datapoint in the validation set, we can count the number of times the classifier got the answer right and the number of times it got it wrong. Using those two numbers, we can compute the validation accuracy.\n",
    "\n"
   ]
  },
  {
   "cell_type": "markdown",
   "metadata": {},
   "source": [
    "___"
   ]
  },
  {
   "cell_type": "markdown",
   "metadata": {},
   "source": [
    "# Evaluation Metrics II\n",
    "\n",
    "When evaluating the performance of a machine learning model (especially classification models), these metrics help measure how well the model is performing.\n"
   ]
  },
  {
   "cell_type": "markdown",
   "metadata": {},
   "source": [
    "## **1. Accuracy**\n",
    "- **Definition**: Accuracy measures the percentage of correct predictions made by the model out of all predictions.\n",
    "- **Formula**:\n",
    "  $$\n",
    "  \\text{Accuracy} = \\frac{\\text{True Positives (TP)} + \\text{True Negatives (TN)}}{\\text{Total Predictions}}\n",
    "  $$\n",
    "- **Best Use Case**: \n",
    "  - When the dataset is balanced (equal number of positive and negative classes).\n",
    "  - Example: Predicting if an email is spam or not."
   ]
  },
  {
   "cell_type": "markdown",
   "metadata": {},
   "source": [
    "## **2. Precision**\n",
    "- **Definition**: Precision measures how many of the predicted positive values are actually correct.\n",
    "- **Formula**:\n",
    "  $$\n",
    "  \\text{Precision} = \\frac{\\text{True Positives (TP)}}{\\text{True Positives (TP)} + \\text{False Positives (FP)}}\n",
    "  $$\n",
    "- **Best Use Case**:\n",
    "  - When false positives are costly or undesirable.\n",
    "  - Example: Diagnosing a rare disease where a false positive might lead to unnecessary treatments.\n"
   ]
  },
  {
   "cell_type": "markdown",
   "metadata": {},
   "source": [
    "## **3. Recall (Sensitivity or True Positive Rate)**\n",
    "- **Definition**: Recall measures how many of the actual positive values were correctly predicted by the model.\n",
    "- **Formula**:\n",
    "  $$\n",
    "  \\text{Recall} = \\frac{\\text{True Positives (TP)}}{\\text{True Positives (TP)} + \\text{False Negatives (FN)}}\n",
    "  $$\n",
    "- **Best Use Case**:\n",
    "  - When false negatives are costly or undesirable.\n",
    "  - Example: Identifying fraud in transactions (missing fraud is worse than a false alarm).\n"
   ]
  },
  {
   "cell_type": "markdown",
   "metadata": {},
   "source": [
    "## **4. F1-Score**\n",
    "- **Definition**: F1-Score is the harmonic mean of precision and recall. It balances both metrics and is useful when you need a single measure to evaluate the model.\n",
    "- **Formula**:\n",
    "  $$\n",
    "  F1 = 2 \\cdot \\frac{\\text{Precision} \\cdot \\text{Recall}}{\\text{Precision} + \\text{Recall}}\n",
    "  $$\n",
    "- **Best Use Case**:\n",
    "  - When there’s an imbalance in the dataset, and you want to balance precision and recall.\n",
    "  - Example: Detecting spam emails where missing some (low recall) or flagging too many (low precision) is problematic.\n"
   ]
  },
  {
   "cell_type": "markdown",
   "metadata": {},
   "source": [
    "## **Example Confusion Matrix**\n",
    "To understand these metrics, let’s look at the confusion matrix for a binary classification task:\n",
    "\n",
    "|                | Predicted Negative | Predicted Positive |\n",
    "|----------------|--------------------|--------------------|\n",
    "| **Actual Negative** | True Negative (TN)    | False Positive (FP)    |\n",
    "| **Actual Positive** | False Negative (FN)   | True Positive (TP)     |\n",
    "\n",
    "Relationships:\n",
    "- Accuracy uses all cells.\n",
    "- Precision focuses on the **True Positives** and **False Positives**.\n",
    "- Recall focuses on the **True Positives** and **False Negatives**.\n",
    "- F1-Score combines Precision and Recall."
   ]
  },
  {
   "cell_type": "markdown",
   "metadata": {},
   "source": [
    "## **Choosing the Right Metric**\n",
    "- Use **accuracy** if the dataset is balanced.\n",
    "- Use **precision** when false positives are costly.\n",
    "- Use **recall** when false negatives are costly.\n",
    "- Use **F1-Score** when you need a balance between precision and recall."
   ]
  },
  {
   "cell_type": "markdown",
   "metadata": {},
   "source": [
    "---"
   ]
  },
  {
   "cell_type": "markdown",
   "metadata": {},
   "source": [
    "# Feature Engineering"
   ]
  },
  {
   "cell_type": "markdown",
   "metadata": {},
   "source": [
    "Imagine you want to build a machine learning model for predicting the presence of a disease, and you have a dataset of patient records containing hundreds of different metrics, from demographic characteristics to medical test results to past treatment history. While having access to so many data points is always a good starting point, you most likely would not want to use all of the available features to construct your model, as many of them can be redundant or irrelevant, and would only serve to contribute unnecessary noise. Instead, a more effective approach is to select only a subset of relevant, predictive features to use in your model — this process is known as feature selection."
   ]
  },
  {
   "cell_type": "markdown",
   "metadata": {},
   "source": [
    "## Filter Methods\n",
    "Filter methods are the simplest type of feature selection method. They work by filtering features prior to model building based on some criteria.\n",
    "\n",
    "**Advantages**\n",
    "- They are computationally inexpensive, since they do not involve testing the subsetted features using a model.\n",
    "- They can work for any type of machine learning model.\\\n",
    "\n",
    "**Disadvantages**\n",
    "\n",
    "- It is more difficult to take multivariate relationships into account because we are not evaluating model performance. For example, a variable might not have much predictive power on its own, but can be informative when combined with other variables.\n",
    "- They are not tailored toward specific types of models.\n",
    "\n",
    "**Examples**\n",
    "\n",
    "- Variance thresholds\n",
    "- Correlation\n",
    "- Mutual information"
   ]
  },
  {
   "cell_type": "markdown",
   "metadata": {},
   "source": [
    "## Wrapper Methods\n",
    "\n",
    "Wrapper methods involve fitting a model and evaluating its performance for a particular subset of features. They work by using a search algorithm to find which combination of features can optimize the performance of a given model.\n",
    "\n",
    "**Advantages**\n",
    "- They can determine the optimal set of features that produce the best results for a specific machine learning problem.\n",
    "- They can better account for multivariate relationships because model performance is evaluated.\n",
    "\n",
    "**Disadvantages**\n",
    "- They are computationally expensive because the model needs to be re-fitted for each feature set being tested.\n",
    "\n",
    "**Examples**\n",
    "- Forward/backward/bidirectional sequential feature selection\n",
    "- Recursive feature elimination"
   ]
  },
  {
   "cell_type": "markdown",
   "metadata": {},
   "source": [
    "## Embedded methods\n",
    "\n",
    "Embedded methods also involve building and evaluating models for different feature subsets, but their feature selection process happens at the same time as their model fitting step.\n",
    "\n",
    "**Advantages**\n",
    "- Like wrapper methods, they can optimize the feature set for a particular model and account for multivariate relationships.\n",
    "- They are also generally less computationally expensive because feature selection happens during model training.\n",
    "\n",
    "**Examples**\n",
    "- Regularization (e.g., lasso/ridge regression)\n",
    "- Tree-based feature importance"
   ]
  },
  {
   "cell_type": "markdown",
   "metadata": {},
   "source": [
    "## Conclusion\n",
    "\n",
    "When it comes to the number of features to keep for your model, more is not always better. It is worth being selective about which features to retain in order to maximize performance and reduce noise. Therefore, finding and implementing the right feature selection method is a key part of developing an effective and reliable model."
   ]
  },
  {
   "cell_type": "markdown",
   "metadata": {},
   "source": [
    "---"
   ]
  },
  {
   "cell_type": "markdown",
   "metadata": {},
   "source": [
    "# Feature Engineering II"
   ]
  },
  {
   "cell_type": "markdown",
   "metadata": {},
   "source": [
    "## Filter Methods\n",
    "Learn about the different filter methods for evaluating and selecting features.\n"
   ]
  },
  {
   "cell_type": "markdown",
   "metadata": {},
   "source": [
    "**Introduction**\n",
    "\n",
    "Filter methods are a type of feature selection method that works by selecting features based on some criteria prior to building the model. Because they don’t involve actually testing the subsetted features using a model, they are computationally inexpensive and flexible to use for any type of machine learning algorithm. This makes filter methods an efficient initial step for narrowing down the pool of features to only the most relevant, predictive ones.\n",
    "\n",
    "There are many different filter methods that can be used for evaluating and selecting features. In this article, we will use variance thresholds, correlation, and mutual information to rank and select the top features. To demonstrate how these methods work in Python, we will use the `feature_selection` module from scikit-learn as well as the pandas library.\n"
   ]
  },
  {
   "cell_type": "markdown",
   "metadata": {},
   "source": [
    "**Example Dataset**\n",
    "\n",
    "Let’s suppose we have the following dataset containing information on a class of middle school students:\n"
   ]
  },
  {
   "cell_type": "code",
   "execution_count": 133,
   "metadata": {},
   "outputs": [
    {
     "data": {
      "text/html": [
       "<div>\n",
       "<style scoped>\n",
       "    .dataframe tbody tr th:only-of-type {\n",
       "        vertical-align: middle;\n",
       "    }\n",
       "\n",
       "    .dataframe tbody tr th {\n",
       "        vertical-align: top;\n",
       "    }\n",
       "\n",
       "    .dataframe thead th {\n",
       "        text-align: right;\n",
       "    }\n",
       "</style>\n",
       "<table border=\"1\" class=\"dataframe\">\n",
       "  <thead>\n",
       "    <tr style=\"text-align: right;\">\n",
       "      <th></th>\n",
       "      <th>edu_goal</th>\n",
       "      <th>hours_study</th>\n",
       "      <th>hours_TV</th>\n",
       "      <th>hours_sleep</th>\n",
       "      <th>height_cm</th>\n",
       "      <th>grade_level</th>\n",
       "      <th>exam_score</th>\n",
       "    </tr>\n",
       "  </thead>\n",
       "  <tbody>\n",
       "    <tr>\n",
       "      <th>0</th>\n",
       "      <td>bachelors</td>\n",
       "      <td>1</td>\n",
       "      <td>4</td>\n",
       "      <td>10</td>\n",
       "      <td>155</td>\n",
       "      <td>8</td>\n",
       "      <td>71</td>\n",
       "    </tr>\n",
       "    <tr>\n",
       "      <th>1</th>\n",
       "      <td>bachelors</td>\n",
       "      <td>2</td>\n",
       "      <td>3</td>\n",
       "      <td>10</td>\n",
       "      <td>151</td>\n",
       "      <td>8</td>\n",
       "      <td>72</td>\n",
       "    </tr>\n",
       "    <tr>\n",
       "      <th>2</th>\n",
       "      <td>bachelors</td>\n",
       "      <td>3</td>\n",
       "      <td>4</td>\n",
       "      <td>8</td>\n",
       "      <td>160</td>\n",
       "      <td>8</td>\n",
       "      <td>78</td>\n",
       "    </tr>\n",
       "    <tr>\n",
       "      <th>3</th>\n",
       "      <td>masters</td>\n",
       "      <td>3</td>\n",
       "      <td>3</td>\n",
       "      <td>8</td>\n",
       "      <td>160</td>\n",
       "      <td>8</td>\n",
       "      <td>79</td>\n",
       "    </tr>\n",
       "    <tr>\n",
       "      <th>4</th>\n",
       "      <td>masters</td>\n",
       "      <td>3</td>\n",
       "      <td>2</td>\n",
       "      <td>6</td>\n",
       "      <td>156</td>\n",
       "      <td>8</td>\n",
       "      <td>85</td>\n",
       "    </tr>\n",
       "    <tr>\n",
       "      <th>5</th>\n",
       "      <td>masters</td>\n",
       "      <td>4</td>\n",
       "      <td>3</td>\n",
       "      <td>6</td>\n",
       "      <td>150</td>\n",
       "      <td>8</td>\n",
       "      <td>86</td>\n",
       "    </tr>\n",
       "    <tr>\n",
       "      <th>6</th>\n",
       "      <td>masters</td>\n",
       "      <td>3</td>\n",
       "      <td>2</td>\n",
       "      <td>8</td>\n",
       "      <td>164</td>\n",
       "      <td>8</td>\n",
       "      <td>92</td>\n",
       "    </tr>\n",
       "    <tr>\n",
       "      <th>7</th>\n",
       "      <td>phd</td>\n",
       "      <td>4</td>\n",
       "      <td>2</td>\n",
       "      <td>8</td>\n",
       "      <td>151</td>\n",
       "      <td>8</td>\n",
       "      <td>93</td>\n",
       "    </tr>\n",
       "    <tr>\n",
       "      <th>8</th>\n",
       "      <td>phd</td>\n",
       "      <td>5</td>\n",
       "      <td>1</td>\n",
       "      <td>10</td>\n",
       "      <td>158</td>\n",
       "      <td>8</td>\n",
       "      <td>99</td>\n",
       "    </tr>\n",
       "    <tr>\n",
       "      <th>9</th>\n",
       "      <td>phd</td>\n",
       "      <td>5</td>\n",
       "      <td>1</td>\n",
       "      <td>10</td>\n",
       "      <td>152</td>\n",
       "      <td>8</td>\n",
       "      <td>100</td>\n",
       "    </tr>\n",
       "  </tbody>\n",
       "</table>\n",
       "</div>"
      ],
      "text/plain": [
       "    edu_goal  hours_study  hours_TV  hours_sleep  height_cm  grade_level  \\\n",
       "0  bachelors            1         4           10        155            8   \n",
       "1  bachelors            2         3           10        151            8   \n",
       "2  bachelors            3         4            8        160            8   \n",
       "3    masters            3         3            8        160            8   \n",
       "4    masters            3         2            6        156            8   \n",
       "5    masters            4         3            6        150            8   \n",
       "6    masters            3         2            8        164            8   \n",
       "7        phd            4         2            8        151            8   \n",
       "8        phd            5         1           10        158            8   \n",
       "9        phd            5         1           10        152            8   \n",
       "\n",
       "   exam_score  \n",
       "0          71  \n",
       "1          72  \n",
       "2          78  \n",
       "3          79  \n",
       "4          85  \n",
       "5          86  \n",
       "6          92  \n",
       "7          93  \n",
       "8          99  \n",
       "9         100  "
      ]
     },
     "execution_count": 133,
     "metadata": {},
     "output_type": "execute_result"
    }
   ],
   "source": [
    "import pandas as pd\n",
    "df = pd.DataFrame(data={\n",
    "    'edu_goal': ['bachelors', 'bachelors', 'bachelors', 'masters', 'masters', 'masters', 'masters', 'phd', 'phd', 'phd'],\n",
    "    'hours_study': [1, 2, 3, 3, 3, 4, 3, 4, 5, 5],\n",
    "    'hours_TV': [4, 3, 4, 3, 2, 3, 2, 2, 1, 1],\n",
    "    'hours_sleep': [10, 10, 8, 8, 6, 6, 8, 8, 10, 10],\n",
    "    'height_cm': [155, 151, 160, 160, 156, 150, 164, 151, 158, 152],\n",
    "    'grade_level': [8, 8, 8, 8, 8, 8, 8, 8, 8, 8],\n",
    "    'exam_score': [71, 72, 78, 79, 85, 86, 92, 93, 99, 100]\n",
    "})\n",
    "df"
   ]
  },
  {
   "cell_type": "markdown",
   "metadata": {},
   "source": [
    "Our goal is to use the data to predict how well each student will perform on the exam. Thus, our target variable is **exam_score**, and the remaining six variables are our features. We’ll prepare the data by separating the features matrix (X) and the target vector (y)."
   ]
  },
  {
   "cell_type": "code",
   "execution_count": 134,
   "metadata": {},
   "outputs": [
    {
     "data": {
      "text/html": [
       "<div>\n",
       "<style scoped>\n",
       "    .dataframe tbody tr th:only-of-type {\n",
       "        vertical-align: middle;\n",
       "    }\n",
       "\n",
       "    .dataframe tbody tr th {\n",
       "        vertical-align: top;\n",
       "    }\n",
       "\n",
       "    .dataframe thead th {\n",
       "        text-align: right;\n",
       "    }\n",
       "</style>\n",
       "<table border=\"1\" class=\"dataframe\">\n",
       "  <thead>\n",
       "    <tr style=\"text-align: right;\">\n",
       "      <th></th>\n",
       "      <th>edu_goal</th>\n",
       "      <th>hours_study</th>\n",
       "      <th>hours_TV</th>\n",
       "      <th>hours_sleep</th>\n",
       "      <th>height_cm</th>\n",
       "      <th>grade_level</th>\n",
       "    </tr>\n",
       "  </thead>\n",
       "  <tbody>\n",
       "    <tr>\n",
       "      <th>0</th>\n",
       "      <td>bachelors</td>\n",
       "      <td>1</td>\n",
       "      <td>4</td>\n",
       "      <td>10</td>\n",
       "      <td>155</td>\n",
       "      <td>8</td>\n",
       "    </tr>\n",
       "    <tr>\n",
       "      <th>1</th>\n",
       "      <td>bachelors</td>\n",
       "      <td>2</td>\n",
       "      <td>3</td>\n",
       "      <td>10</td>\n",
       "      <td>151</td>\n",
       "      <td>8</td>\n",
       "    </tr>\n",
       "    <tr>\n",
       "      <th>2</th>\n",
       "      <td>bachelors</td>\n",
       "      <td>3</td>\n",
       "      <td>4</td>\n",
       "      <td>8</td>\n",
       "      <td>160</td>\n",
       "      <td>8</td>\n",
       "    </tr>\n",
       "    <tr>\n",
       "      <th>3</th>\n",
       "      <td>masters</td>\n",
       "      <td>3</td>\n",
       "      <td>3</td>\n",
       "      <td>8</td>\n",
       "      <td>160</td>\n",
       "      <td>8</td>\n",
       "    </tr>\n",
       "    <tr>\n",
       "      <th>4</th>\n",
       "      <td>masters</td>\n",
       "      <td>3</td>\n",
       "      <td>2</td>\n",
       "      <td>6</td>\n",
       "      <td>156</td>\n",
       "      <td>8</td>\n",
       "    </tr>\n",
       "    <tr>\n",
       "      <th>5</th>\n",
       "      <td>masters</td>\n",
       "      <td>4</td>\n",
       "      <td>3</td>\n",
       "      <td>6</td>\n",
       "      <td>150</td>\n",
       "      <td>8</td>\n",
       "    </tr>\n",
       "    <tr>\n",
       "      <th>6</th>\n",
       "      <td>masters</td>\n",
       "      <td>3</td>\n",
       "      <td>2</td>\n",
       "      <td>8</td>\n",
       "      <td>164</td>\n",
       "      <td>8</td>\n",
       "    </tr>\n",
       "    <tr>\n",
       "      <th>7</th>\n",
       "      <td>phd</td>\n",
       "      <td>4</td>\n",
       "      <td>2</td>\n",
       "      <td>8</td>\n",
       "      <td>151</td>\n",
       "      <td>8</td>\n",
       "    </tr>\n",
       "    <tr>\n",
       "      <th>8</th>\n",
       "      <td>phd</td>\n",
       "      <td>5</td>\n",
       "      <td>1</td>\n",
       "      <td>10</td>\n",
       "      <td>158</td>\n",
       "      <td>8</td>\n",
       "    </tr>\n",
       "    <tr>\n",
       "      <th>9</th>\n",
       "      <td>phd</td>\n",
       "      <td>5</td>\n",
       "      <td>1</td>\n",
       "      <td>10</td>\n",
       "      <td>152</td>\n",
       "      <td>8</td>\n",
       "    </tr>\n",
       "  </tbody>\n",
       "</table>\n",
       "</div>"
      ],
      "text/plain": [
       "    edu_goal  hours_study  hours_TV  hours_sleep  height_cm  grade_level\n",
       "0  bachelors            1         4           10        155            8\n",
       "1  bachelors            2         3           10        151            8\n",
       "2  bachelors            3         4            8        160            8\n",
       "3    masters            3         3            8        160            8\n",
       "4    masters            3         2            6        156            8\n",
       "5    masters            4         3            6        150            8\n",
       "6    masters            3         2            8        164            8\n",
       "7        phd            4         2            8        151            8\n",
       "8        phd            5         1           10        158            8\n",
       "9        phd            5         1           10        152            8"
      ]
     },
     "execution_count": 134,
     "metadata": {},
     "output_type": "execute_result"
    }
   ],
   "source": [
    "X = df.drop(columns=['exam_score'])\n",
    "X\n"
   ]
  },
  {
   "cell_type": "code",
   "execution_count": 135,
   "metadata": {},
   "outputs": [
    {
     "data": {
      "text/plain": [
       "0     71\n",
       "1     72\n",
       "2     78\n",
       "3     79\n",
       "4     85\n",
       "5     86\n",
       "6     92\n",
       "7     93\n",
       "8     99\n",
       "9    100\n",
       "Name: exam_score, dtype: int64"
      ]
     },
     "execution_count": 135,
     "metadata": {},
     "output_type": "execute_result"
    }
   ],
   "source": [
    "y = df['exam_score']\n",
    "y\n"
   ]
  },
  {
   "cell_type": "markdown",
   "metadata": {},
   "source": [
    "### Variance Threshold\n",
    "\n",
    "One of the most basic filter methods is to use a variance threshold to remove any features that have little to no variation in their values. This is because features with low variance do not contribute much information to a model. Since variance can only be calculated on numeric values, this method only works on quantitative features. That said, we may also want to remove categorical features for which all or a majority of the values are the same. To do that, we would need to dummy code the categorical variables first, but we won’t demonstrate that here.\n",
    "\n",
    "In our example dataset, edu_goal is the only feature that is not numeric. We can use the .drop() method to remove it from our features DataFrame and store the remaining numeric features in X_num:"
   ]
  },
  {
   "cell_type": "code",
   "execution_count": 136,
   "metadata": {},
   "outputs": [
    {
     "data": {
      "text/html": [
       "<div>\n",
       "<style scoped>\n",
       "    .dataframe tbody tr th:only-of-type {\n",
       "        vertical-align: middle;\n",
       "    }\n",
       "\n",
       "    .dataframe tbody tr th {\n",
       "        vertical-align: top;\n",
       "    }\n",
       "\n",
       "    .dataframe thead th {\n",
       "        text-align: right;\n",
       "    }\n",
       "</style>\n",
       "<table border=\"1\" class=\"dataframe\">\n",
       "  <thead>\n",
       "    <tr style=\"text-align: right;\">\n",
       "      <th></th>\n",
       "      <th>hours_study</th>\n",
       "      <th>hours_TV</th>\n",
       "      <th>hours_sleep</th>\n",
       "      <th>height_cm</th>\n",
       "      <th>grade_level</th>\n",
       "    </tr>\n",
       "  </thead>\n",
       "  <tbody>\n",
       "    <tr>\n",
       "      <th>0</th>\n",
       "      <td>1</td>\n",
       "      <td>4</td>\n",
       "      <td>10</td>\n",
       "      <td>155</td>\n",
       "      <td>8</td>\n",
       "    </tr>\n",
       "    <tr>\n",
       "      <th>1</th>\n",
       "      <td>2</td>\n",
       "      <td>3</td>\n",
       "      <td>10</td>\n",
       "      <td>151</td>\n",
       "      <td>8</td>\n",
       "    </tr>\n",
       "    <tr>\n",
       "      <th>2</th>\n",
       "      <td>3</td>\n",
       "      <td>4</td>\n",
       "      <td>8</td>\n",
       "      <td>160</td>\n",
       "      <td>8</td>\n",
       "    </tr>\n",
       "    <tr>\n",
       "      <th>3</th>\n",
       "      <td>3</td>\n",
       "      <td>3</td>\n",
       "      <td>8</td>\n",
       "      <td>160</td>\n",
       "      <td>8</td>\n",
       "    </tr>\n",
       "    <tr>\n",
       "      <th>4</th>\n",
       "      <td>3</td>\n",
       "      <td>2</td>\n",
       "      <td>6</td>\n",
       "      <td>156</td>\n",
       "      <td>8</td>\n",
       "    </tr>\n",
       "    <tr>\n",
       "      <th>5</th>\n",
       "      <td>4</td>\n",
       "      <td>3</td>\n",
       "      <td>6</td>\n",
       "      <td>150</td>\n",
       "      <td>8</td>\n",
       "    </tr>\n",
       "    <tr>\n",
       "      <th>6</th>\n",
       "      <td>3</td>\n",
       "      <td>2</td>\n",
       "      <td>8</td>\n",
       "      <td>164</td>\n",
       "      <td>8</td>\n",
       "    </tr>\n",
       "    <tr>\n",
       "      <th>7</th>\n",
       "      <td>4</td>\n",
       "      <td>2</td>\n",
       "      <td>8</td>\n",
       "      <td>151</td>\n",
       "      <td>8</td>\n",
       "    </tr>\n",
       "    <tr>\n",
       "      <th>8</th>\n",
       "      <td>5</td>\n",
       "      <td>1</td>\n",
       "      <td>10</td>\n",
       "      <td>158</td>\n",
       "      <td>8</td>\n",
       "    </tr>\n",
       "    <tr>\n",
       "      <th>9</th>\n",
       "      <td>5</td>\n",
       "      <td>1</td>\n",
       "      <td>10</td>\n",
       "      <td>152</td>\n",
       "      <td>8</td>\n",
       "    </tr>\n",
       "  </tbody>\n",
       "</table>\n",
       "</div>"
      ],
      "text/plain": [
       "   hours_study  hours_TV  hours_sleep  height_cm  grade_level\n",
       "0            1         4           10        155            8\n",
       "1            2         3           10        151            8\n",
       "2            3         4            8        160            8\n",
       "3            3         3            8        160            8\n",
       "4            3         2            6        156            8\n",
       "5            4         3            6        150            8\n",
       "6            3         2            8        164            8\n",
       "7            4         2            8        151            8\n",
       "8            5         1           10        158            8\n",
       "9            5         1           10        152            8"
      ]
     },
     "execution_count": 136,
     "metadata": {},
     "output_type": "execute_result"
    }
   ],
   "source": [
    "X_num = X.drop(columns=['edu_goal'])\n",
    "\n",
    "X_num"
   ]
  },
  {
   "cell_type": "markdown",
   "metadata": {},
   "source": [
    "Now, we’ll be able to use the VarianceThreshold class from scikit-learn to help remove the low-variance features from X_num. By default, it drops all features with zero variance, but we can adjust the threshold during class instantiation using the threshold parameter if we want to allow some variation. The .fit_transform() method returns the filtered features as a numpy array:"
   ]
  },
  {
   "cell_type": "code",
   "execution_count": 137,
   "metadata": {},
   "outputs": [
    {
     "data": {
      "text/plain": [
       "array([[  1,   4,  10, 155],\n",
       "       [  2,   3,  10, 151],\n",
       "       [  3,   4,   8, 160],\n",
       "       [  3,   3,   8, 160],\n",
       "       [  3,   2,   6, 156],\n",
       "       [  4,   3,   6, 150],\n",
       "       [  3,   2,   8, 164],\n",
       "       [  4,   2,   8, 151],\n",
       "       [  5,   1,  10, 158],\n",
       "       [  5,   1,  10, 152]])"
      ]
     },
     "execution_count": 137,
     "metadata": {},
     "output_type": "execute_result"
    }
   ],
   "source": [
    "from sklearn.feature_selection import VarianceThreshold\n",
    "\n",
    "selector = VarianceThreshold(threshold=0)  # 0 is default\n",
    "\n",
    "selector.fit_transform(X_num)\n"
   ]
  },
  {
   "cell_type": "markdown",
   "metadata": {},
   "source": [
    "As we can see, grade_level was removed because there is no variation in its values — all students are 8th graders. Since this data is the same across the board, a student’s grade level will not be able to provide any useful predictive information about their exam score, so it makes sense to drop grade_level as a feature.\n",
    "\n",
    "Something to note is that loading datasets with scikit-learn generally works with numpy arrays internally, hence the output type of .fit_transform(). However, the methods can also accept other data types that can be converted to numpy arrays, such as Python lists or pandas DataFrames, like the X_num we used. From a human perspective, one downside of working with numpy arrays as compared to pandas DataFrame is that we lose information like column headings, making the data harder to visually inspect.\n",
    "\n",
    "Luckily, VarianceThreshold offers another method called .get_support() that can return the indices of the selected features, which we can use to manually subset our numeric features DataFrame.\n",
    "\n",
    "Specify indices=True to get indices of selected features:"
   ]
  },
  {
   "cell_type": "code",
   "execution_count": 138,
   "metadata": {},
   "outputs": [
    {
     "data": {
      "text/plain": [
       "array([0, 1, 2, 3])"
      ]
     },
     "execution_count": 138,
     "metadata": {},
     "output_type": "execute_result"
    }
   ],
   "source": [
    "(selector.get_support(indices=True))"
   ]
  },
  {
   "cell_type": "markdown",
   "metadata": {},
   "source": [
    "Use indices to get the corresponding column names of selected features:\n",
    "\n"
   ]
  },
  {
   "cell_type": "code",
   "execution_count": 139,
   "metadata": {},
   "outputs": [
    {
     "data": {
      "text/plain": [
       "['hours_study', 'hours_TV', 'hours_sleep', 'height_cm']"
      ]
     },
     "execution_count": 139,
     "metadata": {},
     "output_type": "execute_result"
    }
   ],
   "source": [
    "num_cols = list(X_num.columns[selector.get_support(indices=True)])\n",
    "\n",
    "num_cols"
   ]
  },
  {
   "cell_type": "markdown",
   "metadata": {},
   "source": [
    "Subset X_num to retain only selected features:\n",
    "\n"
   ]
  },
  {
   "cell_type": "code",
   "execution_count": 140,
   "metadata": {},
   "outputs": [
    {
     "data": {
      "text/html": [
       "<div>\n",
       "<style scoped>\n",
       "    .dataframe tbody tr th:only-of-type {\n",
       "        vertical-align: middle;\n",
       "    }\n",
       "\n",
       "    .dataframe tbody tr th {\n",
       "        vertical-align: top;\n",
       "    }\n",
       "\n",
       "    .dataframe thead th {\n",
       "        text-align: right;\n",
       "    }\n",
       "</style>\n",
       "<table border=\"1\" class=\"dataframe\">\n",
       "  <thead>\n",
       "    <tr style=\"text-align: right;\">\n",
       "      <th></th>\n",
       "      <th>hours_study</th>\n",
       "      <th>hours_TV</th>\n",
       "      <th>hours_sleep</th>\n",
       "      <th>height_cm</th>\n",
       "    </tr>\n",
       "  </thead>\n",
       "  <tbody>\n",
       "    <tr>\n",
       "      <th>0</th>\n",
       "      <td>1</td>\n",
       "      <td>4</td>\n",
       "      <td>10</td>\n",
       "      <td>155</td>\n",
       "    </tr>\n",
       "    <tr>\n",
       "      <th>1</th>\n",
       "      <td>2</td>\n",
       "      <td>3</td>\n",
       "      <td>10</td>\n",
       "      <td>151</td>\n",
       "    </tr>\n",
       "    <tr>\n",
       "      <th>2</th>\n",
       "      <td>3</td>\n",
       "      <td>4</td>\n",
       "      <td>8</td>\n",
       "      <td>160</td>\n",
       "    </tr>\n",
       "    <tr>\n",
       "      <th>3</th>\n",
       "      <td>3</td>\n",
       "      <td>3</td>\n",
       "      <td>8</td>\n",
       "      <td>160</td>\n",
       "    </tr>\n",
       "    <tr>\n",
       "      <th>4</th>\n",
       "      <td>3</td>\n",
       "      <td>2</td>\n",
       "      <td>6</td>\n",
       "      <td>156</td>\n",
       "    </tr>\n",
       "    <tr>\n",
       "      <th>5</th>\n",
       "      <td>4</td>\n",
       "      <td>3</td>\n",
       "      <td>6</td>\n",
       "      <td>150</td>\n",
       "    </tr>\n",
       "    <tr>\n",
       "      <th>6</th>\n",
       "      <td>3</td>\n",
       "      <td>2</td>\n",
       "      <td>8</td>\n",
       "      <td>164</td>\n",
       "    </tr>\n",
       "    <tr>\n",
       "      <th>7</th>\n",
       "      <td>4</td>\n",
       "      <td>2</td>\n",
       "      <td>8</td>\n",
       "      <td>151</td>\n",
       "    </tr>\n",
       "    <tr>\n",
       "      <th>8</th>\n",
       "      <td>5</td>\n",
       "      <td>1</td>\n",
       "      <td>10</td>\n",
       "      <td>158</td>\n",
       "    </tr>\n",
       "    <tr>\n",
       "      <th>9</th>\n",
       "      <td>5</td>\n",
       "      <td>1</td>\n",
       "      <td>10</td>\n",
       "      <td>152</td>\n",
       "    </tr>\n",
       "  </tbody>\n",
       "</table>\n",
       "</div>"
      ],
      "text/plain": [
       "   hours_study  hours_TV  hours_sleep  height_cm\n",
       "0            1         4           10        155\n",
       "1            2         3           10        151\n",
       "2            3         4            8        160\n",
       "3            3         3            8        160\n",
       "4            3         2            6        156\n",
       "5            4         3            6        150\n",
       "6            3         2            8        164\n",
       "7            4         2            8        151\n",
       "8            5         1           10        158\n",
       "9            5         1           10        152"
      ]
     },
     "execution_count": 140,
     "metadata": {},
     "output_type": "execute_result"
    }
   ],
   "source": [
    "X_num = X_num[num_cols]\n",
    "X_num"
   ]
  },
  {
   "cell_type": "markdown",
   "metadata": {},
   "source": [
    "Finally, to obtain our entire features DataFrame, including the categorical column edu_goal, we could do:"
   ]
  },
  {
   "cell_type": "code",
   "execution_count": 141,
   "metadata": {},
   "outputs": [
    {
     "data": {
      "text/html": [
       "<div>\n",
       "<style scoped>\n",
       "    .dataframe tbody tr th:only-of-type {\n",
       "        vertical-align: middle;\n",
       "    }\n",
       "\n",
       "    .dataframe tbody tr th {\n",
       "        vertical-align: top;\n",
       "    }\n",
       "\n",
       "    .dataframe thead th {\n",
       "        text-align: right;\n",
       "    }\n",
       "</style>\n",
       "<table border=\"1\" class=\"dataframe\">\n",
       "  <thead>\n",
       "    <tr style=\"text-align: right;\">\n",
       "      <th></th>\n",
       "      <th>edu_goal</th>\n",
       "      <th>hours_study</th>\n",
       "      <th>hours_TV</th>\n",
       "      <th>hours_sleep</th>\n",
       "      <th>height_cm</th>\n",
       "    </tr>\n",
       "  </thead>\n",
       "  <tbody>\n",
       "    <tr>\n",
       "      <th>0</th>\n",
       "      <td>bachelors</td>\n",
       "      <td>1</td>\n",
       "      <td>4</td>\n",
       "      <td>10</td>\n",
       "      <td>155</td>\n",
       "    </tr>\n",
       "    <tr>\n",
       "      <th>1</th>\n",
       "      <td>bachelors</td>\n",
       "      <td>2</td>\n",
       "      <td>3</td>\n",
       "      <td>10</td>\n",
       "      <td>151</td>\n",
       "    </tr>\n",
       "    <tr>\n",
       "      <th>2</th>\n",
       "      <td>bachelors</td>\n",
       "      <td>3</td>\n",
       "      <td>4</td>\n",
       "      <td>8</td>\n",
       "      <td>160</td>\n",
       "    </tr>\n",
       "    <tr>\n",
       "      <th>3</th>\n",
       "      <td>masters</td>\n",
       "      <td>3</td>\n",
       "      <td>3</td>\n",
       "      <td>8</td>\n",
       "      <td>160</td>\n",
       "    </tr>\n",
       "    <tr>\n",
       "      <th>4</th>\n",
       "      <td>masters</td>\n",
       "      <td>3</td>\n",
       "      <td>2</td>\n",
       "      <td>6</td>\n",
       "      <td>156</td>\n",
       "    </tr>\n",
       "    <tr>\n",
       "      <th>5</th>\n",
       "      <td>masters</td>\n",
       "      <td>4</td>\n",
       "      <td>3</td>\n",
       "      <td>6</td>\n",
       "      <td>150</td>\n",
       "    </tr>\n",
       "    <tr>\n",
       "      <th>6</th>\n",
       "      <td>masters</td>\n",
       "      <td>3</td>\n",
       "      <td>2</td>\n",
       "      <td>8</td>\n",
       "      <td>164</td>\n",
       "    </tr>\n",
       "    <tr>\n",
       "      <th>7</th>\n",
       "      <td>phd</td>\n",
       "      <td>4</td>\n",
       "      <td>2</td>\n",
       "      <td>8</td>\n",
       "      <td>151</td>\n",
       "    </tr>\n",
       "    <tr>\n",
       "      <th>8</th>\n",
       "      <td>phd</td>\n",
       "      <td>5</td>\n",
       "      <td>1</td>\n",
       "      <td>10</td>\n",
       "      <td>158</td>\n",
       "    </tr>\n",
       "    <tr>\n",
       "      <th>9</th>\n",
       "      <td>phd</td>\n",
       "      <td>5</td>\n",
       "      <td>1</td>\n",
       "      <td>10</td>\n",
       "      <td>152</td>\n",
       "    </tr>\n",
       "  </tbody>\n",
       "</table>\n",
       "</div>"
      ],
      "text/plain": [
       "    edu_goal  hours_study  hours_TV  hours_sleep  height_cm\n",
       "0  bachelors            1         4           10        155\n",
       "1  bachelors            2         3           10        151\n",
       "2  bachelors            3         4            8        160\n",
       "3    masters            3         3            8        160\n",
       "4    masters            3         2            6        156\n",
       "5    masters            4         3            6        150\n",
       "6    masters            3         2            8        164\n",
       "7        phd            4         2            8        151\n",
       "8        phd            5         1           10        158\n",
       "9        phd            5         1           10        152"
      ]
     },
     "execution_count": 141,
     "metadata": {},
     "output_type": "execute_result"
    }
   ],
   "source": [
    "X = X[['edu_goal'] + num_cols]\n",
    "X"
   ]
  },
  {
   "cell_type": "markdown",
   "metadata": {},
   "source": [
    "### Pearson's Correlation"
   ]
  },
  {
   "cell_type": "markdown",
   "metadata": {},
   "source": [
    "Another type of filter method involves finding the correlation between variables. In particular, the Pearson’s correlation coefficient is useful for measuring the linear relationship between two numeric, continuous variables — a coefficient close to 1 represents a positive correlation, -1 represents a negative correlation, and 0 represents no correlation. Like variance, Pearson’s correlation coefficient cannot be calculated for categorical variables. Although, there is a related point biserial correlation coefficient that can be computed when one variable is dichotomous, but we won’t focus on that here.\n",
    "\n",
    "There are 2 main ways of using correlation for feature selection — to detect correlation between features and to detect correlation between a feature and the target variable."
   ]
  },
  {
   "cell_type": "markdown",
   "metadata": {},
   "source": [
    "#### Correlation Between Features"
   ]
  },
  {
   "cell_type": "markdown",
   "metadata": {},
   "source": [
    "When two features are highly correlated with one another, then keeping just one to be used in the model will be enough because otherwise they provide duplicate information. The second variable would only be redundant and serve to contribute unnecessary noise.\n",
    "\n",
    "To determine which variables are correlated with one another, we can use the .corr() method from pandas to find the correlation coefficient between each pair of numeric features in a DataFrame. By default, .corr() computes the Pearson’s correlation coefficient, but alternative methods can be specified using the method parameter. We can visualize the resulting correlation matrix using a heatmap:"
   ]
  },
  {
   "cell_type": "code",
   "execution_count": 142,
   "metadata": {},
   "outputs": [
    {
     "data": {
      "image/png": "[encoded data removed]",
      "text/plain": [
       "<Figure size 640x480 with 2 Axes>"
      ]
     },
     "metadata": {},
     "output_type": "display_data"
    }
   ],
   "source": [
    "import matplotlib.pyplot as plt\n",
    "import seaborn as sns\n",
    "\n",
    "corr_matrix = X_num.corr(method='pearson')  # 'pearson' is default\n",
    "\n",
    "sns.heatmap(corr_matrix, annot=True, cmap='RdBu_r')\n",
    "plt.show()\n"
   ]
  },
  {
   "cell_type": "markdown",
   "metadata": {},
   "source": [
    "Let’s define high correlation as having a coefficient of greater than 0.7 or less than -0.7. We can loop through the correlation matrix to identify the highly correlated variables:"
   ]
  },
  {
   "cell_type": "code",
   "execution_count": 143,
   "metadata": {},
   "outputs": [
    {
     "name": "stdout",
     "output_type": "stream",
     "text": [
      "hours_TV hours_study -0.780763315142435\n"
     ]
    }
   ],
   "source": [
    "# Loop over bottom diagonal of correlation matrix\n",
    "for i in range(len(corr_matrix.columns)):\n",
    "    for j in range(i):\n",
    "\n",
    "        # Print variables with high correlation\n",
    "        if abs(corr_matrix.iloc[i, j]) > 0.7:\n",
    "            print(corr_matrix.columns[i], corr_matrix.columns[j], corr_matrix.iloc[i, j])"
   ]
  },
  {
   "cell_type": "markdown",
   "metadata": {},
   "source": [
    "As seen, hours_TV appears to be highly negatively correlated with hours_study — a student who watches a lot of TV tends to spend fewer hours studying, and vice versa. Because they provide redundant information, we can choose to remove one of those variables. To decide which one, we can look at their correlation with the target variable, then remove the one that is less associated with the target. This is explored in the next section."
   ]
  },
  {
   "cell_type": "markdown",
   "metadata": {},
   "source": [
    "#### Correlation between feature and target\n"
   ]
  },
  {
   "cell_type": "markdown",
   "metadata": {},
   "source": [
    "As mentioned, the second way correlation can be used is to determine if there is a relationship between a feature and the target variable. In the case of Pearson’s correlation, this is especially useful if we intend to fit a linear model, which assumes a linear relationship between the target and predictor variables. If a feature is not very correlated with the target variable, such as having a coefficient of between -0.3 and 0.3, then it may not be very predictive and can potentially be filtered out.\n",
    "\n",
    "We can use the same .corr() method seen previously to obtain the correlation between the target variable and the rest of the features. First, we’ll need to create a new DataFrame containing the numeric features with the exam_score column:"
   ]
  },
  {
   "cell_type": "code",
   "execution_count": 144,
   "metadata": {},
   "outputs": [
    {
     "data": {
      "text/html": [
       "<div>\n",
       "<style scoped>\n",
       "    .dataframe tbody tr th:only-of-type {\n",
       "        vertical-align: middle;\n",
       "    }\n",
       "\n",
       "    .dataframe tbody tr th {\n",
       "        vertical-align: top;\n",
       "    }\n",
       "\n",
       "    .dataframe thead th {\n",
       "        text-align: right;\n",
       "    }\n",
       "</style>\n",
       "<table border=\"1\" class=\"dataframe\">\n",
       "  <thead>\n",
       "    <tr style=\"text-align: right;\">\n",
       "      <th></th>\n",
       "      <th>hours_study</th>\n",
       "      <th>hours_TV</th>\n",
       "      <th>hours_sleep</th>\n",
       "      <th>height_cm</th>\n",
       "      <th>exam_score</th>\n",
       "    </tr>\n",
       "  </thead>\n",
       "  <tbody>\n",
       "    <tr>\n",
       "      <th>0</th>\n",
       "      <td>1</td>\n",
       "      <td>4</td>\n",
       "      <td>10</td>\n",
       "      <td>155</td>\n",
       "      <td>71</td>\n",
       "    </tr>\n",
       "    <tr>\n",
       "      <th>1</th>\n",
       "      <td>2</td>\n",
       "      <td>3</td>\n",
       "      <td>10</td>\n",
       "      <td>151</td>\n",
       "      <td>72</td>\n",
       "    </tr>\n",
       "    <tr>\n",
       "      <th>2</th>\n",
       "      <td>3</td>\n",
       "      <td>4</td>\n",
       "      <td>8</td>\n",
       "      <td>160</td>\n",
       "      <td>78</td>\n",
       "    </tr>\n",
       "    <tr>\n",
       "      <th>3</th>\n",
       "      <td>3</td>\n",
       "      <td>3</td>\n",
       "      <td>8</td>\n",
       "      <td>160</td>\n",
       "      <td>79</td>\n",
       "    </tr>\n",
       "    <tr>\n",
       "      <th>4</th>\n",
       "      <td>3</td>\n",
       "      <td>2</td>\n",
       "      <td>6</td>\n",
       "      <td>156</td>\n",
       "      <td>85</td>\n",
       "    </tr>\n",
       "    <tr>\n",
       "      <th>5</th>\n",
       "      <td>4</td>\n",
       "      <td>3</td>\n",
       "      <td>6</td>\n",
       "      <td>150</td>\n",
       "      <td>86</td>\n",
       "    </tr>\n",
       "    <tr>\n",
       "      <th>6</th>\n",
       "      <td>3</td>\n",
       "      <td>2</td>\n",
       "      <td>8</td>\n",
       "      <td>164</td>\n",
       "      <td>92</td>\n",
       "    </tr>\n",
       "    <tr>\n",
       "      <th>7</th>\n",
       "      <td>4</td>\n",
       "      <td>2</td>\n",
       "      <td>8</td>\n",
       "      <td>151</td>\n",
       "      <td>93</td>\n",
       "    </tr>\n",
       "    <tr>\n",
       "      <th>8</th>\n",
       "      <td>5</td>\n",
       "      <td>1</td>\n",
       "      <td>10</td>\n",
       "      <td>158</td>\n",
       "      <td>99</td>\n",
       "    </tr>\n",
       "    <tr>\n",
       "      <th>9</th>\n",
       "      <td>5</td>\n",
       "      <td>1</td>\n",
       "      <td>10</td>\n",
       "      <td>152</td>\n",
       "      <td>100</td>\n",
       "    </tr>\n",
       "  </tbody>\n",
       "</table>\n",
       "</div>"
      ],
      "text/plain": [
       "   hours_study  hours_TV  hours_sleep  height_cm  exam_score\n",
       "0            1         4           10        155          71\n",
       "1            2         3           10        151          72\n",
       "2            3         4            8        160          78\n",
       "3            3         3            8        160          79\n",
       "4            3         2            6        156          85\n",
       "5            4         3            6        150          86\n",
       "6            3         2            8        164          92\n",
       "7            4         2            8        151          93\n",
       "8            5         1           10        158          99\n",
       "9            5         1           10        152         100"
      ]
     },
     "execution_count": 144,
     "metadata": {},
     "output_type": "execute_result"
    }
   ],
   "source": [
    "X_y = X_num.copy()\n",
    "X_y['exam_score'] = y\n",
    "X_y"
   ]
  },
  {
   "cell_type": "markdown",
   "metadata": {},
   "source": [
    "Then, we can generate the correlation matrix and isolate the column corresponding to the target variable to see how strongly each feature is correlated with it:"
   ]
  },
  {
   "cell_type": "code",
   "execution_count": 145,
   "metadata": {},
   "outputs": [
    {
     "data": {
      "image/png": "[encoded data removed]",
      "text/plain": [
       "<Figure size 640x480 with 2 Axes>"
      ]
     },
     "metadata": {},
     "output_type": "display_data"
    }
   ],
   "source": [
    "corr_matrix = X_y.corr()\n",
    "\n",
    "# Isolate the column corresponding to `exam_score`\n",
    "corr_target = corr_matrix[['exam_score']].drop(labels=['exam_score'])\n",
    "\n",
    "sns.heatmap(corr_target, annot=True, fmt='.3', cmap='RdBu_r')\n",
    "plt.show()"
   ]
  },
  {
   "cell_type": "markdown",
   "metadata": {},
   "source": [
    "As seen, hours_study is positively correlated with exam_score and hours_TV is negatively correlated with it. It makes sense that hours_study and hours_TV would be negatively correlated with each other as we saw earlier, and just one of those features would suffice for predicting exam_score. Since hours_study has a stronger correlation with the target variable, let’s remove hours_TV as the redundant feature:"
   ]
  },
  {
   "cell_type": "code",
   "execution_count": 146,
   "metadata": {},
   "outputs": [
    {
     "data": {
      "text/html": [
       "<div>\n",
       "<style scoped>\n",
       "    .dataframe tbody tr th:only-of-type {\n",
       "        vertical-align: middle;\n",
       "    }\n",
       "\n",
       "    .dataframe tbody tr th {\n",
       "        vertical-align: top;\n",
       "    }\n",
       "\n",
       "    .dataframe thead th {\n",
       "        text-align: right;\n",
       "    }\n",
       "</style>\n",
       "<table border=\"1\" class=\"dataframe\">\n",
       "  <thead>\n",
       "    <tr style=\"text-align: right;\">\n",
       "      <th></th>\n",
       "      <th>edu_goal</th>\n",
       "      <th>hours_study</th>\n",
       "      <th>hours_sleep</th>\n",
       "      <th>height_cm</th>\n",
       "    </tr>\n",
       "  </thead>\n",
       "  <tbody>\n",
       "    <tr>\n",
       "      <th>0</th>\n",
       "      <td>bachelors</td>\n",
       "      <td>1</td>\n",
       "      <td>10</td>\n",
       "      <td>155</td>\n",
       "    </tr>\n",
       "    <tr>\n",
       "      <th>1</th>\n",
       "      <td>bachelors</td>\n",
       "      <td>2</td>\n",
       "      <td>10</td>\n",
       "      <td>151</td>\n",
       "    </tr>\n",
       "    <tr>\n",
       "      <th>2</th>\n",
       "      <td>bachelors</td>\n",
       "      <td>3</td>\n",
       "      <td>8</td>\n",
       "      <td>160</td>\n",
       "    </tr>\n",
       "    <tr>\n",
       "      <th>3</th>\n",
       "      <td>masters</td>\n",
       "      <td>3</td>\n",
       "      <td>8</td>\n",
       "      <td>160</td>\n",
       "    </tr>\n",
       "    <tr>\n",
       "      <th>4</th>\n",
       "      <td>masters</td>\n",
       "      <td>3</td>\n",
       "      <td>6</td>\n",
       "      <td>156</td>\n",
       "    </tr>\n",
       "    <tr>\n",
       "      <th>5</th>\n",
       "      <td>masters</td>\n",
       "      <td>4</td>\n",
       "      <td>6</td>\n",
       "      <td>150</td>\n",
       "    </tr>\n",
       "    <tr>\n",
       "      <th>6</th>\n",
       "      <td>masters</td>\n",
       "      <td>3</td>\n",
       "      <td>8</td>\n",
       "      <td>164</td>\n",
       "    </tr>\n",
       "    <tr>\n",
       "      <th>7</th>\n",
       "      <td>phd</td>\n",
       "      <td>4</td>\n",
       "      <td>8</td>\n",
       "      <td>151</td>\n",
       "    </tr>\n",
       "    <tr>\n",
       "      <th>8</th>\n",
       "      <td>phd</td>\n",
       "      <td>5</td>\n",
       "      <td>10</td>\n",
       "      <td>158</td>\n",
       "    </tr>\n",
       "    <tr>\n",
       "      <th>9</th>\n",
       "      <td>phd</td>\n",
       "      <td>5</td>\n",
       "      <td>10</td>\n",
       "      <td>152</td>\n",
       "    </tr>\n",
       "  </tbody>\n",
       "</table>\n",
       "</div>"
      ],
      "text/plain": [
       "    edu_goal  hours_study  hours_sleep  height_cm\n",
       "0  bachelors            1           10        155\n",
       "1  bachelors            2           10        151\n",
       "2  bachelors            3            8        160\n",
       "3    masters            3            8        160\n",
       "4    masters            3            6        156\n",
       "5    masters            4            6        150\n",
       "6    masters            3            8        164\n",
       "7        phd            4            8        151\n",
       "8        phd            5           10        158\n",
       "9        phd            5           10        152"
      ]
     },
     "execution_count": 146,
     "metadata": {},
     "output_type": "execute_result"
    }
   ],
   "source": [
    "X = X.drop(columns=['hours_TV'])\n",
    "X"
   ]
  },
  {
   "cell_type": "markdown",
   "metadata": {},
   "source": [
    "The other two features, hours_sleep and height_cm, both do not seem to be correlated with exam_score, suggesting they would not be very good predictors. We could potentially remove either or both of them as being uninformative. But before we do, it is a good idea to use other methods to double check that the features truly are not predictive. We will do that in the next section by using mutual information to see if there are any non-linear associations between the features and target variable.\n",
    "\n",
    "To conclude this section, we’ll briefly note an alternative approach for assessing the correlation between variables. Instead of generating the full correlation matrix, we could use the f_regression() function from scikit-learn to find the F-statistic for a model with each predictor on its own. The F-statistic will be larger (and p-value will be smaller) for predictors that are more highly correlated with the target variable, thus it will perform the same filtering:"
   ]
  },
  {
   "cell_type": "code",
   "execution_count": 147,
   "metadata": {},
   "outputs": [
    {
     "data": {
      "text/plain": [
       "(array([3.61362007e+01, 3.44537037e+01, 0.00000000e+00, 1.70259066e-03]),\n",
       " array([3.19334945e-04, 3.74322763e-04, 1.00000000e+00, 9.68097878e-01]))"
      ]
     },
     "execution_count": 147,
     "metadata": {},
     "output_type": "execute_result"
    }
   ],
   "source": [
    "from sklearn.feature_selection import f_regression\n",
    "\n",
    "f_regression(X_num, y)"
   ]
  },
  {
   "cell_type": "markdown",
   "metadata": {},
   "source": [
    "The function returns the F-statistic in the first array and the p-value in the second. As seen, the result is consistent with what we had observed in the correlation matrix — the stronger the correlation (either positive or negative) between the feature and target, the higher the corresponding F-statistic and lower the p-value. For example, amongst all the features, hours_study has the largest correlation coefficient (0.905), highest F-statistic (3.61e+01), and lowest p-value (3.19e-04)."
   ]
  },
  {
   "cell_type": "markdown",
   "metadata": {},
   "source": [
    "### Mutual Information"
   ]
  },
  {
   "cell_type": "markdown",
   "metadata": {},
   "source": [
    "The final filter method we’ll look at is using mutual information to rank and select the top features. Mutual information is a measure of dependence between two variables and can be used to gauge how much a feature contributes to the prediction of the target variable. It is similar to Pearson’s correlation, but is not limited to detecting linear associations. This makes mutual information useful for more flexible models where a linear functional form is not assumed. Another advantage of mutual information is that it also works on discrete features or target, unlike correlation. Although, categorical variables need to be numerically encoded first.\n",
    "\n",
    "In our example, we can encode the edu_goal column using the LabelEncoder class from scikit-learn‘s preprocessing module:"
   ]
  },
  {
   "cell_type": "code",
   "execution_count": 148,
   "metadata": {},
   "outputs": [
    {
     "data": {
      "text/html": [
       "<div>\n",
       "<style scoped>\n",
       "    .dataframe tbody tr th:only-of-type {\n",
       "        vertical-align: middle;\n",
       "    }\n",
       "\n",
       "    .dataframe tbody tr th {\n",
       "        vertical-align: top;\n",
       "    }\n",
       "\n",
       "    .dataframe thead th {\n",
       "        text-align: right;\n",
       "    }\n",
       "</style>\n",
       "<table border=\"1\" class=\"dataframe\">\n",
       "  <thead>\n",
       "    <tr style=\"text-align: right;\">\n",
       "      <th></th>\n",
       "      <th>edu_goal</th>\n",
       "      <th>hours_study</th>\n",
       "      <th>hours_sleep</th>\n",
       "      <th>height_cm</th>\n",
       "    </tr>\n",
       "  </thead>\n",
       "  <tbody>\n",
       "    <tr>\n",
       "      <th>0</th>\n",
       "      <td>0</td>\n",
       "      <td>1</td>\n",
       "      <td>10</td>\n",
       "      <td>155</td>\n",
       "    </tr>\n",
       "    <tr>\n",
       "      <th>1</th>\n",
       "      <td>0</td>\n",
       "      <td>2</td>\n",
       "      <td>10</td>\n",
       "      <td>151</td>\n",
       "    </tr>\n",
       "    <tr>\n",
       "      <th>2</th>\n",
       "      <td>0</td>\n",
       "      <td>3</td>\n",
       "      <td>8</td>\n",
       "      <td>160</td>\n",
       "    </tr>\n",
       "    <tr>\n",
       "      <th>3</th>\n",
       "      <td>1</td>\n",
       "      <td>3</td>\n",
       "      <td>8</td>\n",
       "      <td>160</td>\n",
       "    </tr>\n",
       "    <tr>\n",
       "      <th>4</th>\n",
       "      <td>1</td>\n",
       "      <td>3</td>\n",
       "      <td>6</td>\n",
       "      <td>156</td>\n",
       "    </tr>\n",
       "    <tr>\n",
       "      <th>5</th>\n",
       "      <td>1</td>\n",
       "      <td>4</td>\n",
       "      <td>6</td>\n",
       "      <td>150</td>\n",
       "    </tr>\n",
       "    <tr>\n",
       "      <th>6</th>\n",
       "      <td>1</td>\n",
       "      <td>3</td>\n",
       "      <td>8</td>\n",
       "      <td>164</td>\n",
       "    </tr>\n",
       "    <tr>\n",
       "      <th>7</th>\n",
       "      <td>2</td>\n",
       "      <td>4</td>\n",
       "      <td>8</td>\n",
       "      <td>151</td>\n",
       "    </tr>\n",
       "    <tr>\n",
       "      <th>8</th>\n",
       "      <td>2</td>\n",
       "      <td>5</td>\n",
       "      <td>10</td>\n",
       "      <td>158</td>\n",
       "    </tr>\n",
       "    <tr>\n",
       "      <th>9</th>\n",
       "      <td>2</td>\n",
       "      <td>5</td>\n",
       "      <td>10</td>\n",
       "      <td>152</td>\n",
       "    </tr>\n",
       "  </tbody>\n",
       "</table>\n",
       "</div>"
      ],
      "text/plain": [
       "   edu_goal  hours_study  hours_sleep  height_cm\n",
       "0         0            1           10        155\n",
       "1         0            2           10        151\n",
       "2         0            3            8        160\n",
       "3         1            3            8        160\n",
       "4         1            3            6        156\n",
       "5         1            4            6        150\n",
       "6         1            3            8        164\n",
       "7         2            4            8        151\n",
       "8         2            5           10        158\n",
       "9         2            5           10        152"
      ]
     },
     "execution_count": 148,
     "metadata": {},
     "output_type": "execute_result"
    }
   ],
   "source": [
    "from sklearn.preprocessing import LabelEncoder\n",
    "\n",
    "le = LabelEncoder()\n",
    "\n",
    "# Create copy of `X` for encoded version\n",
    "X_enc = X.copy()\n",
    "X_enc['edu_goal'] = le.fit_transform(X['edu_goal'])\n",
    "X_enc"
   ]
  },
  {
   "cell_type": "markdown",
   "metadata": {},
   "source": [
    "Now, we can compute the mutual information between each feature and exam_score using mutual_info_regression(). This function is used because our target variable is continuous, but if we had a discrete target variable, we would use mutual_info_classif(). We specify the random_state in the function in order obtain reproducible results:"
   ]
  },
  {
   "cell_type": "code",
   "execution_count": 149,
   "metadata": {},
   "outputs": [
    {
     "data": {
      "text/plain": [
       "array([0.50396825, 0.40896825, 0.        , 0.        ])"
      ]
     },
     "execution_count": 149,
     "metadata": {},
     "output_type": "execute_result"
    }
   ],
   "source": [
    "from sklearn.feature_selection import mutual_info_regression\n",
    "\n",
    "mutual_info_regression(X_enc, y, random_state=68)"
   ]
  },
  {
   "cell_type": "markdown",
   "metadata": {},
   "source": [
    "The estimated mutual information between each feature and the target is returned in a numpy array, where each value is a non-negative number — the higher the value, the more predictive power is assumed.\n",
    "\n",
    "However, we are missing one more important piece here. Earlier, even though we encoded edu_goal to be numeric, that does not mean it should be treated as a continuous variable. In other words, the values of edu_goal are still discrete and should be interpreted as such. If we plot edu_goal against exam_score on a graph, we can clearly see the steps between the values of edu_goal:"
   ]
  },
  {
   "cell_type": "code",
   "execution_count": 150,
   "metadata": {},
   "outputs": [
    {
     "data": {
      "image/png": "[encoded data removed]",
      "text/plain": [
       "<Figure size 1000x600 with 1 Axes>"
      ]
     },
     "metadata": {},
     "output_type": "display_data"
    }
   ],
   "source": [
    "import matplotlib.pyplot as plt\n",
    "\n",
    "# Encode edu_goal\n",
    "X['edu_goal'] = le.fit_transform(X['edu_goal'])\n",
    "\n",
    "# Plot edu_goal against exam_score\n",
    "plt.figure(figsize=(10, 6))\n",
    "plt.scatter(X['edu_goal'], y, color='blue')\n",
    "plt.xlabel('Education Goal')\n",
    "plt.ylabel('Exam Score')\n",
    "plt.title('Education Goal vs Exam Score')\n",
    "plt.xticks(ticks=[0, 1, 2], labels=le.classes_)\n",
    "plt.grid(True)\n",
    "plt.show()"
   ]
  },
  {
   "cell_type": "markdown",
   "metadata": {},
   "source": [
    "In order to properly calculate the mutual information, we need to tell mutual_info_regression() which features are discrete by providing their index positions using the discrete_features parameter:"
   ]
  },
  {
   "cell_type": "code",
   "execution_count": 151,
   "metadata": {},
   "outputs": [
    {
     "name": "stdout",
     "output_type": "stream",
     "text": [
      "[0.75563492 0.38896825 0.11896825 0.        ]\n"
     ]
    }
   ],
   "source": [
    "print(mutual_info_regression(X_enc, y, discrete_features=[0], random_state=68))"
   ]
  },
  {
   "cell_type": "markdown",
   "metadata": {},
   "source": [
    "Compared to the earlier results, we now get greater mutual information between edu_goal and the target variable once it is correctly interpreted as a discrete feature.\n",
    "\n",
    "From the results, we can also see that there is 0 mutual information between height_cm and exam_score, suggesting that these variables are largely independent. This is consistent with what we saw earlier with Pearson’s correlation, where the correlation coefficient between them is very close to 0 as well.\n",
    "\n",
    "What is interesting to note is that the mutual information between hours_sleep and exam_score is a positive value, even though their Pearson’s correlation coefficient is 0. The answer becomes more clear when we plot the relationship between hours_sleep and exam_score:"
   ]
  },
  {
   "cell_type": "code",
   "execution_count": 152,
   "metadata": {},
   "outputs": [
    {
     "data": {
      "image/png": "[encoded data removed]",
      "text/plain": [
       "<Figure size 1000x600 with 1 Axes>"
      ]
     },
     "metadata": {},
     "output_type": "display_data"
    }
   ],
   "source": [
    "import matplotlib.pyplot as plt\n",
    "\n",
    "# Plot hours_sleep against exam_score\n",
    "plt.figure(figsize=(10, 6))\n",
    "plt.scatter(X['hours_sleep'], y, color='blue')\n",
    "plt.xlabel('Hours Sleep')\n",
    "plt.ylabel('Exam Score')\n",
    "plt.title('Hours Sleep vs Exam Score')\n",
    "plt.grid(True)\n",
    "plt.show()"
   ]
  },
  {
   "cell_type": "markdown",
   "metadata": {},
   "source": [
    "As seen, there do seem to be some association between the variables, only it is not a linear one, which is why it was detected using mutual information but not Pearson’s correlation coefficient.\n",
    "\n",
    "Finally, let’s look at using the SelectKBest class from scikit-learn to help pick out the top k features with the highest ranked scores. In our case, we are looking to select features that share the most mutual information with the target variable. When we instantiate SelectKBest, we’ll specify which scoring function to use and how many top features to select. Here, our scoring function is mutual_info_regression(), but because we want to specify additional arguments besides the X and y inputs, we’ll need the help of the partial() function from Python’s built-in functools module. Then, the .fit_transform() method will return the filtered features as a numpy array:"
   ]
  },
  {
   "cell_type": "code",
   "execution_count": 153,
   "metadata": {},
   "outputs": [
    {
     "data": {
      "text/plain": [
       "array([[ 0,  1, 10],\n",
       "       [ 0,  2, 10],\n",
       "       [ 0,  3,  8],\n",
       "       [ 1,  3,  8],\n",
       "       [ 1,  3,  6],\n",
       "       [ 1,  4,  6],\n",
       "       [ 1,  3,  8],\n",
       "       [ 2,  4,  8],\n",
       "       [ 2,  5, 10],\n",
       "       [ 2,  5, 10]])"
      ]
     },
     "execution_count": 153,
     "metadata": {},
     "output_type": "execute_result"
    }
   ],
   "source": [
    "from sklearn.feature_selection import SelectKBest\n",
    "from functools import partial\n",
    "\n",
    "score_func = partial(mutual_info_regression, discrete_features=[0], random_state=68)\n",
    "\n",
    "# Select top 3 features with the most mutual information\n",
    "selection = SelectKBest(score_func=score_func, k=3)\n",
    "\n",
    "selection.fit_transform(X_enc, y)"
   ]
  },
  {
   "cell_type": "markdown",
   "metadata": {},
   "source": [
    "As seen above, we selected the top 3 features based on mutual information, thus dropping height_cm. Like VarianceThreshold, SelectKBest also offers the .get_support() method that returns the indices of the selected features, so we could subset our original features DataFrame:"
   ]
  },
  {
   "cell_type": "code",
   "execution_count": 154,
   "metadata": {},
   "outputs": [
    {
     "data": {
      "text/html": [
       "<div>\n",
       "<style scoped>\n",
       "    .dataframe tbody tr th:only-of-type {\n",
       "        vertical-align: middle;\n",
       "    }\n",
       "\n",
       "    .dataframe tbody tr th {\n",
       "        vertical-align: top;\n",
       "    }\n",
       "\n",
       "    .dataframe thead th {\n",
       "        text-align: right;\n",
       "    }\n",
       "</style>\n",
       "<table border=\"1\" class=\"dataframe\">\n",
       "  <thead>\n",
       "    <tr style=\"text-align: right;\">\n",
       "      <th></th>\n",
       "      <th>edu_goal</th>\n",
       "      <th>hours_study</th>\n",
       "      <th>hours_sleep</th>\n",
       "    </tr>\n",
       "  </thead>\n",
       "  <tbody>\n",
       "    <tr>\n",
       "      <th>0</th>\n",
       "      <td>0</td>\n",
       "      <td>1</td>\n",
       "      <td>10</td>\n",
       "    </tr>\n",
       "    <tr>\n",
       "      <th>1</th>\n",
       "      <td>0</td>\n",
       "      <td>2</td>\n",
       "      <td>10</td>\n",
       "    </tr>\n",
       "    <tr>\n",
       "      <th>2</th>\n",
       "      <td>0</td>\n",
       "      <td>3</td>\n",
       "      <td>8</td>\n",
       "    </tr>\n",
       "    <tr>\n",
       "      <th>3</th>\n",
       "      <td>1</td>\n",
       "      <td>3</td>\n",
       "      <td>8</td>\n",
       "    </tr>\n",
       "    <tr>\n",
       "      <th>4</th>\n",
       "      <td>1</td>\n",
       "      <td>3</td>\n",
       "      <td>6</td>\n",
       "    </tr>\n",
       "    <tr>\n",
       "      <th>5</th>\n",
       "      <td>1</td>\n",
       "      <td>4</td>\n",
       "      <td>6</td>\n",
       "    </tr>\n",
       "    <tr>\n",
       "      <th>6</th>\n",
       "      <td>1</td>\n",
       "      <td>3</td>\n",
       "      <td>8</td>\n",
       "    </tr>\n",
       "    <tr>\n",
       "      <th>7</th>\n",
       "      <td>2</td>\n",
       "      <td>4</td>\n",
       "      <td>8</td>\n",
       "    </tr>\n",
       "    <tr>\n",
       "      <th>8</th>\n",
       "      <td>2</td>\n",
       "      <td>5</td>\n",
       "      <td>10</td>\n",
       "    </tr>\n",
       "    <tr>\n",
       "      <th>9</th>\n",
       "      <td>2</td>\n",
       "      <td>5</td>\n",
       "      <td>10</td>\n",
       "    </tr>\n",
       "  </tbody>\n",
       "</table>\n",
       "</div>"
      ],
      "text/plain": [
       "   edu_goal  hours_study  hours_sleep\n",
       "0         0            1           10\n",
       "1         0            2           10\n",
       "2         0            3            8\n",
       "3         1            3            8\n",
       "4         1            3            6\n",
       "5         1            4            6\n",
       "6         1            3            8\n",
       "7         2            4            8\n",
       "8         2            5           10\n",
       "9         2            5           10"
      ]
     },
     "execution_count": 154,
     "metadata": {},
     "output_type": "execute_result"
    }
   ],
   "source": [
    "X = X[X.columns[selection.get_support(indices=True)]]\n",
    "\n",
    "X"
   ]
  },
  {
   "cell_type": "markdown",
   "metadata": {},
   "source": [
    "### Conclusion"
   ]
  },
  {
   "cell_type": "markdown",
   "metadata": {},
   "source": [
    "In our example dataset, we started out with 6 features for predicting the exam_score of students. Using various filter methods, we narrowed down that set to just the top most relevant and informative ones. First, we eliminated grade_level because it has zero variance and would contribute nothing to the model. Then, we dropped hours_TV since it is highly correlated with hours_study and is therefore redundant. Lastly, we filtered out height_cm based on mutual information, which suggested that it does not have any meaningful association with the target variable, linear or otherwise, and would not have been very predictive.\n",
    "\n",
    "Phew! That was a lot we were able to accomplish using filter methods. Being the most simple type of feature selection method, they sure do not lack power nor potential. It is certainly worth considering how you might want to incorporate filter methods into your next machine learning project."
   ]
  },
  {
   "cell_type": "markdown",
   "metadata": {},
   "source": [
    "## Wrapper Methods"
   ]
  },
  {
   "cell_type": "markdown",
   "metadata": {},
   "source": [
    "### Sequential forward selection"
   ]
  },
  {
   "cell_type": "markdown",
   "metadata": {},
   "source": [
    "Sequential forward selection is a wrapper method that builds a feature set by starting with no features and then adding one feature at a time until a desired number of features is reached. In the first step, the algorithm will train and test a model using only one feature at a time. The algorithm keeps the feature that performs best.\n",
    "\n",
    "In each subsequent step, the algorithm will test the model on each possible new feature addition. Whichever feature improves model performance the most is then added to the feature subset. This process stops once we have the desired number of features.\n",
    "\n",
    "Let’s say we want to use three features, and we have five features to choose from: age, height, weight, blood_pressure, and resting_heart_rate. Sequential forward selection will train your machine learning model on five different feature subsets: one for each feature.\n",
    "\n",
    "If the model performs best on the subset {age}, the algorithm will then train and test the model on the following four subsets:\n",
    "\n",
    "{age, height}\n",
    "{age, weight}\n",
    "{age, blood_pressure}\n",
    "{age, resting_heart_rate}\n",
    "If the model performs best on {age, resting_heart_rate}, the algorithm will test the model on the following three subsets:\n",
    "\n",
    "{age, height, resting_heart_rate}\n",
    "{age, weight, resting_heart_rate}\n",
    "{age, blood_pressure, resting_heart_rate}\n",
    "If the model performs best on {age, weight, resting_heart_rate}, it will stop the algorithm and use that feature set."
   ]
  },
  {
   "cell_type": "markdown",
   "metadata": {},
   "source": [
    "#### Example Code"
   ]
  },
  {
   "cell_type": "code",
   "execution_count": 155,
   "metadata": {},
   "outputs": [
    {
     "data": {
      "text/html": [
       "<style>#sk-container-id-5 {\n",
       "  /* Definition of color scheme common for light and dark mode */\n",
       "  --sklearn-color-text: black;\n",
       "  --sklearn-color-line: gray;\n",
       "  /* Definition of color scheme for unfitted estimators */\n",
       "  --sklearn-color-unfitted-level-0: #fff5e6;\n",
       "  --sklearn-color-unfitted-level-1: #f6e4d2;\n",
       "  --sklearn-color-unfitted-level-2: #ffe0b3;\n",
       "  --sklearn-color-unfitted-level-3: chocolate;\n",
       "  /* Definition of color scheme for fitted estimators */\n",
       "  --sklearn-color-fitted-level-0: #f0f8ff;\n",
       "  --sklearn-color-fitted-level-1: #d4ebff;\n",
       "  --sklearn-color-fitted-level-2: #b3dbfd;\n",
       "  --sklearn-color-fitted-level-3: cornflowerblue;\n",
       "\n",
       "  /* Specific color for light theme */\n",
       "  --sklearn-color-text-on-default-background: var(--sg-text-color, var(--theme-code-foreground, var(--jp-content-font-color1, black)));\n",
       "  --sklearn-color-background: var(--sg-background-color, var(--theme-background, var(--jp-layout-color0, white)));\n",
       "  --sklearn-color-border-box: var(--sg-text-color, var(--theme-code-foreground, var(--jp-content-font-color1, black)));\n",
       "  --sklearn-color-icon: #696969;\n",
       "\n",
       "  @media (prefers-color-scheme: dark) {\n",
       "    /* Redefinition of color scheme for dark theme */\n",
       "    --sklearn-color-text-on-default-background: var(--sg-text-color, var(--theme-code-foreground, var(--jp-content-font-color1, white)));\n",
       "    --sklearn-color-background: var(--sg-background-color, var(--theme-background, var(--jp-layout-color0, #111)));\n",
       "    --sklearn-color-border-box: var(--sg-text-color, var(--theme-code-foreground, var(--jp-content-font-color1, white)));\n",
       "    --sklearn-color-icon: #878787;\n",
       "  }\n",
       "}\n",
       "\n",
       "#sk-container-id-5 {\n",
       "  color: var(--sklearn-color-text);\n",
       "}\n",
       "\n",
       "#sk-container-id-5 pre {\n",
       "  padding: 0;\n",
       "}\n",
       "\n",
       "#sk-container-id-5 input.sk-hidden--visually {\n",
       "  border: 0;\n",
       "  clip: rect(1px 1px 1px 1px);\n",
       "  clip: rect(1px, 1px, 1px, 1px);\n",
       "  height: 1px;\n",
       "  margin: -1px;\n",
       "  overflow: hidden;\n",
       "  padding: 0;\n",
       "  position: absolute;\n",
       "  width: 1px;\n",
       "}\n",
       "\n",
       "#sk-container-id-5 div.sk-dashed-wrapped {\n",
       "  border: 1px dashed var(--sklearn-color-line);\n",
       "  margin: 0 0.4em 0.5em 0.4em;\n",
       "  box-sizing: border-box;\n",
       "  padding-bottom: 0.4em;\n",
       "  background-color: var(--sklearn-color-background);\n",
       "}\n",
       "\n",
       "#sk-container-id-5 div.sk-container {\n",
       "  /* jupyter's `normalize.less` sets `[hidden] { display: none; }`\n",
       "     but bootstrap.min.css set `[hidden] { display: none !important; }`\n",
       "     so we also need the `!important` here to be able to override the\n",
       "     default hidden behavior on the sphinx rendered scikit-learn.org.\n",
       "     See: https://github.com/scikit-learn/scikit-learn/issues/21755 */\n",
       "  display: inline-block !important;\n",
       "  position: relative;\n",
       "}\n",
       "\n",
       "#sk-container-id-5 div.sk-text-repr-fallback {\n",
       "  display: none;\n",
       "}\n",
       "\n",
       "div.sk-parallel-item,\n",
       "div.sk-serial,\n",
       "div.sk-item {\n",
       "  /* draw centered vertical line to link estimators */\n",
       "  background-image: linear-gradient(var(--sklearn-color-text-on-default-background), var(--sklearn-color-text-on-default-background));\n",
       "  background-size: 2px 100%;\n",
       "  background-repeat: no-repeat;\n",
       "  background-position: center center;\n",
       "}\n",
       "\n",
       "/* Parallel-specific style estimator block */\n",
       "\n",
       "#sk-container-id-5 div.sk-parallel-item::after {\n",
       "  content: \"\";\n",
       "  width: 100%;\n",
       "  border-bottom: 2px solid var(--sklearn-color-text-on-default-background);\n",
       "  flex-grow: 1;\n",
       "}\n",
       "\n",
       "#sk-container-id-5 div.sk-parallel {\n",
       "  display: flex;\n",
       "  align-items: stretch;\n",
       "  justify-content: center;\n",
       "  background-color: var(--sklearn-color-background);\n",
       "  position: relative;\n",
       "}\n",
       "\n",
       "#sk-container-id-5 div.sk-parallel-item {\n",
       "  display: flex;\n",
       "  flex-direction: column;\n",
       "}\n",
       "\n",
       "#sk-container-id-5 div.sk-parallel-item:first-child::after {\n",
       "  align-self: flex-end;\n",
       "  width: 50%;\n",
       "}\n",
       "\n",
       "#sk-container-id-5 div.sk-parallel-item:last-child::after {\n",
       "  align-self: flex-start;\n",
       "  width: 50%;\n",
       "}\n",
       "\n",
       "#sk-container-id-5 div.sk-parallel-item:only-child::after {\n",
       "  width: 0;\n",
       "}\n",
       "\n",
       "/* Serial-specific style estimator block */\n",
       "\n",
       "#sk-container-id-5 div.sk-serial {\n",
       "  display: flex;\n",
       "  flex-direction: column;\n",
       "  align-items: center;\n",
       "  background-color: var(--sklearn-color-background);\n",
       "  padding-right: 1em;\n",
       "  padding-left: 1em;\n",
       "}\n",
       "\n",
       "\n",
       "/* Toggleable style: style used for estimator/Pipeline/ColumnTransformer box that is\n",
       "clickable and can be expanded/collapsed.\n",
       "- Pipeline and ColumnTransformer use this feature and define the default style\n",
       "- Estimators will overwrite some part of the style using the `sk-estimator` class\n",
       "*/\n",
       "\n",
       "/* Pipeline and ColumnTransformer style (default) */\n",
       "\n",
       "#sk-container-id-5 div.sk-toggleable {\n",
       "  /* Default theme specific background. It is overwritten whether we have a\n",
       "  specific estimator or a Pipeline/ColumnTransformer */\n",
       "  background-color: var(--sklearn-color-background);\n",
       "}\n",
       "\n",
       "/* Toggleable label */\n",
       "#sk-container-id-5 label.sk-toggleable__label {\n",
       "  cursor: pointer;\n",
       "  display: block;\n",
       "  width: 100%;\n",
       "  margin-bottom: 0;\n",
       "  padding: 0.5em;\n",
       "  box-sizing: border-box;\n",
       "  text-align: center;\n",
       "}\n",
       "\n",
       "#sk-container-id-5 label.sk-toggleable__label-arrow:before {\n",
       "  /* Arrow on the left of the label */\n",
       "  content: \"▸\";\n",
       "  float: left;\n",
       "  margin-right: 0.25em;\n",
       "  color: var(--sklearn-color-icon);\n",
       "}\n",
       "\n",
       "#sk-container-id-5 label.sk-toggleable__label-arrow:hover:before {\n",
       "  color: var(--sklearn-color-text);\n",
       "}\n",
       "\n",
       "/* Toggleable content - dropdown */\n",
       "\n",
       "#sk-container-id-5 div.sk-toggleable__content {\n",
       "  max-height: 0;\n",
       "  max-width: 0;\n",
       "  overflow: hidden;\n",
       "  text-align: left;\n",
       "  /* unfitted */\n",
       "  background-color: var(--sklearn-color-unfitted-level-0);\n",
       "}\n",
       "\n",
       "#sk-container-id-5 div.sk-toggleable__content.fitted {\n",
       "  /* fitted */\n",
       "  background-color: var(--sklearn-color-fitted-level-0);\n",
       "}\n",
       "\n",
       "#sk-container-id-5 div.sk-toggleable__content pre {\n",
       "  margin: 0.2em;\n",
       "  border-radius: 0.25em;\n",
       "  color: var(--sklearn-color-text);\n",
       "  /* unfitted */\n",
       "  background-color: var(--sklearn-color-unfitted-level-0);\n",
       "}\n",
       "\n",
       "#sk-container-id-5 div.sk-toggleable__content.fitted pre {\n",
       "  /* unfitted */\n",
       "  background-color: var(--sklearn-color-fitted-level-0);\n",
       "}\n",
       "\n",
       "#sk-container-id-5 input.sk-toggleable__control:checked~div.sk-toggleable__content {\n",
       "  /* Expand drop-down */\n",
       "  max-height: 200px;\n",
       "  max-width: 100%;\n",
       "  overflow: auto;\n",
       "}\n",
       "\n",
       "#sk-container-id-5 input.sk-toggleable__control:checked~label.sk-toggleable__label-arrow:before {\n",
       "  content: \"▾\";\n",
       "}\n",
       "\n",
       "/* Pipeline/ColumnTransformer-specific style */\n",
       "\n",
       "#sk-container-id-5 div.sk-label input.sk-toggleable__control:checked~label.sk-toggleable__label {\n",
       "  color: var(--sklearn-color-text);\n",
       "  background-color: var(--sklearn-color-unfitted-level-2);\n",
       "}\n",
       "\n",
       "#sk-container-id-5 div.sk-label.fitted input.sk-toggleable__control:checked~label.sk-toggleable__label {\n",
       "  background-color: var(--sklearn-color-fitted-level-2);\n",
       "}\n",
       "\n",
       "/* Estimator-specific style */\n",
       "\n",
       "/* Colorize estimator box */\n",
       "#sk-container-id-5 div.sk-estimator input.sk-toggleable__control:checked~label.sk-toggleable__label {\n",
       "  /* unfitted */\n",
       "  background-color: var(--sklearn-color-unfitted-level-2);\n",
       "}\n",
       "\n",
       "#sk-container-id-5 div.sk-estimator.fitted input.sk-toggleable__control:checked~label.sk-toggleable__label {\n",
       "  /* fitted */\n",
       "  background-color: var(--sklearn-color-fitted-level-2);\n",
       "}\n",
       "\n",
       "#sk-container-id-5 div.sk-label label.sk-toggleable__label,\n",
       "#sk-container-id-5 div.sk-label label {\n",
       "  /* The background is the default theme color */\n",
       "  color: var(--sklearn-color-text-on-default-background);\n",
       "}\n",
       "\n",
       "/* On hover, darken the color of the background */\n",
       "#sk-container-id-5 div.sk-label:hover label.sk-toggleable__label {\n",
       "  color: var(--sklearn-color-text);\n",
       "  background-color: var(--sklearn-color-unfitted-level-2);\n",
       "}\n",
       "\n",
       "/* Label box, darken color on hover, fitted */\n",
       "#sk-container-id-5 div.sk-label.fitted:hover label.sk-toggleable__label.fitted {\n",
       "  color: var(--sklearn-color-text);\n",
       "  background-color: var(--sklearn-color-fitted-level-2);\n",
       "}\n",
       "\n",
       "/* Estimator label */\n",
       "\n",
       "#sk-container-id-5 div.sk-label label {\n",
       "  font-family: monospace;\n",
       "  font-weight: bold;\n",
       "  display: inline-block;\n",
       "  line-height: 1.2em;\n",
       "}\n",
       "\n",
       "#sk-container-id-5 div.sk-label-container {\n",
       "  text-align: center;\n",
       "}\n",
       "\n",
       "/* Estimator-specific */\n",
       "#sk-container-id-5 div.sk-estimator {\n",
       "  font-family: monospace;\n",
       "  border: 1px dotted var(--sklearn-color-border-box);\n",
       "  border-radius: 0.25em;\n",
       "  box-sizing: border-box;\n",
       "  margin-bottom: 0.5em;\n",
       "  /* unfitted */\n",
       "  background-color: var(--sklearn-color-unfitted-level-0);\n",
       "}\n",
       "\n",
       "#sk-container-id-5 div.sk-estimator.fitted {\n",
       "  /* fitted */\n",
       "  background-color: var(--sklearn-color-fitted-level-0);\n",
       "}\n",
       "\n",
       "/* on hover */\n",
       "#sk-container-id-5 div.sk-estimator:hover {\n",
       "  /* unfitted */\n",
       "  background-color: var(--sklearn-color-unfitted-level-2);\n",
       "}\n",
       "\n",
       "#sk-container-id-5 div.sk-estimator.fitted:hover {\n",
       "  /* fitted */\n",
       "  background-color: var(--sklearn-color-fitted-level-2);\n",
       "}\n",
       "\n",
       "/* Specification for estimator info (e.g. \"i\" and \"?\") */\n",
       "\n",
       "/* Common style for \"i\" and \"?\" */\n",
       "\n",
       ".sk-estimator-doc-link,\n",
       "a:link.sk-estimator-doc-link,\n",
       "a:visited.sk-estimator-doc-link {\n",
       "  float: right;\n",
       "  font-size: smaller;\n",
       "  line-height: 1em;\n",
       "  font-family: monospace;\n",
       "  background-color: var(--sklearn-color-background);\n",
       "  border-radius: 1em;\n",
       "  height: 1em;\n",
       "  width: 1em;\n",
       "  text-decoration: none !important;\n",
       "  margin-left: 1ex;\n",
       "  /* unfitted */\n",
       "  border: var(--sklearn-color-unfitted-level-1) 1pt solid;\n",
       "  color: var(--sklearn-color-unfitted-level-1);\n",
       "}\n",
       "\n",
       ".sk-estimator-doc-link.fitted,\n",
       "a:link.sk-estimator-doc-link.fitted,\n",
       "a:visited.sk-estimator-doc-link.fitted {\n",
       "  /* fitted */\n",
       "  border: var(--sklearn-color-fitted-level-1) 1pt solid;\n",
       "  color: var(--sklearn-color-fitted-level-1);\n",
       "}\n",
       "\n",
       "/* On hover */\n",
       "div.sk-estimator:hover .sk-estimator-doc-link:hover,\n",
       ".sk-estimator-doc-link:hover,\n",
       "div.sk-label-container:hover .sk-estimator-doc-link:hover,\n",
       ".sk-estimator-doc-link:hover {\n",
       "  /* unfitted */\n",
       "  background-color: var(--sklearn-color-unfitted-level-3);\n",
       "  color: var(--sklearn-color-background);\n",
       "  text-decoration: none;\n",
       "}\n",
       "\n",
       "div.sk-estimator.fitted:hover .sk-estimator-doc-link.fitted:hover,\n",
       ".sk-estimator-doc-link.fitted:hover,\n",
       "div.sk-label-container:hover .sk-estimator-doc-link.fitted:hover,\n",
       ".sk-estimator-doc-link.fitted:hover {\n",
       "  /* fitted */\n",
       "  background-color: var(--sklearn-color-fitted-level-3);\n",
       "  color: var(--sklearn-color-background);\n",
       "  text-decoration: none;\n",
       "}\n",
       "\n",
       "/* Span, style for the box shown on hovering the info icon */\n",
       ".sk-estimator-doc-link span {\n",
       "  display: none;\n",
       "  z-index: 9999;\n",
       "  position: relative;\n",
       "  font-weight: normal;\n",
       "  right: .2ex;\n",
       "  padding: .5ex;\n",
       "  margin: .5ex;\n",
       "  width: min-content;\n",
       "  min-width: 20ex;\n",
       "  max-width: 50ex;\n",
       "  color: var(--sklearn-color-text);\n",
       "  box-shadow: 2pt 2pt 4pt #999;\n",
       "  /* unfitted */\n",
       "  background: var(--sklearn-color-unfitted-level-0);\n",
       "  border: .5pt solid var(--sklearn-color-unfitted-level-3);\n",
       "}\n",
       "\n",
       ".sk-estimator-doc-link.fitted span {\n",
       "  /* fitted */\n",
       "  background: var(--sklearn-color-fitted-level-0);\n",
       "  border: var(--sklearn-color-fitted-level-3);\n",
       "}\n",
       "\n",
       ".sk-estimator-doc-link:hover span {\n",
       "  display: block;\n",
       "}\n",
       "\n",
       "/* \"?\"-specific style due to the `<a>` HTML tag */\n",
       "\n",
       "#sk-container-id-5 a.estimator_doc_link {\n",
       "  float: right;\n",
       "  font-size: 1rem;\n",
       "  line-height: 1em;\n",
       "  font-family: monospace;\n",
       "  background-color: var(--sklearn-color-background);\n",
       "  border-radius: 1rem;\n",
       "  height: 1rem;\n",
       "  width: 1rem;\n",
       "  text-decoration: none;\n",
       "  /* unfitted */\n",
       "  color: var(--sklearn-color-unfitted-level-1);\n",
       "  border: var(--sklearn-color-unfitted-level-1) 1pt solid;\n",
       "}\n",
       "\n",
       "#sk-container-id-5 a.estimator_doc_link.fitted {\n",
       "  /* fitted */\n",
       "  border: var(--sklearn-color-fitted-level-1) 1pt solid;\n",
       "  color: var(--sklearn-color-fitted-level-1);\n",
       "}\n",
       "\n",
       "/* On hover */\n",
       "#sk-container-id-5 a.estimator_doc_link:hover {\n",
       "  /* unfitted */\n",
       "  background-color: var(--sklearn-color-unfitted-level-3);\n",
       "  color: var(--sklearn-color-background);\n",
       "  text-decoration: none;\n",
       "}\n",
       "\n",
       "#sk-container-id-5 a.estimator_doc_link.fitted:hover {\n",
       "  /* fitted */\n",
       "  background-color: var(--sklearn-color-fitted-level-3);\n",
       "}\n",
       "</style><div id=\"sk-container-id-5\" class=\"sk-top-container\"><div class=\"sk-text-repr-fallback\"><pre>SequentialFeatureSelector(cv=0, estimator=LinearRegression(), k_features=(3, 3),\n",
       "                          scoring=&#x27;r2&#x27;)</pre><b>In a Jupyter environment, please rerun this cell to show the HTML representation or trust the notebook. <br />On GitHub, the HTML representation is unable to render, please try loading this page with nbviewer.org.</b></div><div class=\"sk-container\" hidden><div class=\"sk-item sk-dashed-wrapped\"><div class=\"sk-label-container\"><div class=\"sk-label fitted sk-toggleable\"><input class=\"sk-toggleable__control sk-hidden--visually\" id=\"sk-estimator-id-13\" type=\"checkbox\" ><label for=\"sk-estimator-id-13\" class=\"sk-toggleable__label fitted sk-toggleable__label-arrow fitted\">&nbsp;SequentialFeatureSelector<span class=\"sk-estimator-doc-link fitted\">i<span>Fitted</span></span></label><div class=\"sk-toggleable__content fitted\"><pre>SequentialFeatureSelector(cv=0, estimator=LinearRegression(), k_features=(3, 3),\n",
       "                          scoring=&#x27;r2&#x27;)</pre></div> </div></div><div class=\"sk-parallel\"><div class=\"sk-parallel-item\"><div class=\"sk-item\"><div class=\"sk-label-container\"><div class=\"sk-label fitted sk-toggleable\"><input class=\"sk-toggleable__control sk-hidden--visually\" id=\"sk-estimator-id-14\" type=\"checkbox\" ><label for=\"sk-estimator-id-14\" class=\"sk-toggleable__label fitted sk-toggleable__label-arrow fitted\">estimator: LinearRegression</label><div class=\"sk-toggleable__content fitted\"><pre>LinearRegression()</pre></div> </div></div><div class=\"sk-serial\"><div class=\"sk-item\"><div class=\"sk-estimator fitted sk-toggleable\"><input class=\"sk-toggleable__control sk-hidden--visually\" id=\"sk-estimator-id-15\" type=\"checkbox\" ><label for=\"sk-estimator-id-15\" class=\"sk-toggleable__label fitted sk-toggleable__label-arrow fitted\">&nbsp;LinearRegression<a class=\"sk-estimator-doc-link fitted\" rel=\"noreferrer\" target=\"_blank\" href=\"https://scikit-learn.org/1.5/modules/generated/sklearn.linear_model.LinearRegression.html\">?<span>Documentation for LinearRegression</span></a></label><div class=\"sk-toggleable__content fitted\"><pre>LinearRegression()</pre></div> </div></div></div></div></div></div></div></div></div>"
      ],
      "text/plain": [
       "SequentialFeatureSelector(cv=0, estimator=LinearRegression(), k_features=(3, 3),\n",
       "                          scoring='r2')"
      ]
     },
     "execution_count": 155,
     "metadata": {},
     "output_type": "execute_result"
    }
   ],
   "source": [
    "from mlxtend.feature_selection import SequentialFeatureSelector as SFS\n",
    "\n",
    "# Assuming lr is defined as LinearRegression()\n",
    "lr = LinearRegression()\n",
    "\n",
    "# Set up SFS parameters\n",
    "sfs = SFS(lr,\n",
    "           k_features=3, # number of features to select\n",
    "           forward=True,\n",
    "           floating=False,\n",
    "           cv=0)\n",
    "# Fit SFS to our features X and outcome y   \n",
    "sfs.fit(X, y)"
   ]
  },
  {
   "cell_type": "markdown",
   "metadata": {},
   "source": [
    "**Parameters**\n",
    "- The first paremeter is the name of the model that you’re using. In the previous exercise, we called the logistic regression model lr (logistic regresison in this case).\n",
    "- The parameter k_features determines how many features the alogorithm will select\n",
    "- forward=True and floating=False ensure that we are using sequential forward selection.\n",
    "- scoring (not shown in example) determines how the algorithm will evaluate each feature subset. It’s often okay to use the default value None because mlxtend will automatically use a metric that is suitable for whatever scikit-learn model you are using. For this lesson, we’ll set it to 'accuracy'.\n",
    "- cv allows you to do k-fold cross-validation. We’ll leave it at 0 for this lesson and only evaluate performance on the training set.\n"
   ]
  },
  {
   "cell_type": "markdown",
   "metadata": {},
   "source": [
    "### Sequential backward selection"
   ]
  },
  {
   "cell_type": "markdown",
   "metadata": {},
   "source": [
    "Similar to Sequential forward selection, but in reverse. Sequential backward selection starts with all of the available features and removes one feature at a time."
   ]
  },
  {
   "cell_type": "markdown",
   "metadata": {},
   "source": [
    "### Sequential forward floating selection\n"
   ]
  },
  {
   "cell_type": "markdown",
   "metadata": {},
   "source": [
    "Sequential forward floating selection is a variation of sequential forward selection. It starts with zero features and adds one feature at a time, just like sequential forward selection, but after each addition, it checks to see if we can improve performance by removing a feature.\n",
    "- If performance can’t be improved, the floating algorithm will continue to the next step and add another feature.\n",
    "\n",
    "- If performance can be improved, the algorithm will make the removal that improves performance the most (unless removal of that feature would lead to an infinite loop of adding and removing the same feature over and over again)."
   ]
  },
  {
   "cell_type": "markdown",
   "metadata": {},
   "source": [
    "### Sequential backward floating selection"
   ]
  },
  {
   "cell_type": "markdown",
   "metadata": {},
   "source": [
    "Sequential backward floating selection works similarly. Starting with all available features, it removes one feature at a time. After each feature removal, it will check to see if any feature additions will improve performance (but it won’t add any features that would result in an infinite loop)."
   ]
  },
  {
   "cell_type": "markdown",
   "metadata": {},
   "source": [
    "### Recursive feature elimination"
   ]
  },
  {
   "cell_type": "markdown",
   "metadata": {},
   "source": [
    "Recursive feature elimination is another wrapper method for feature selection. It starts by training a model with all available features. It then ranks each feature according to an importance metric and removes the least important feature. The algorithm then trains the model on the smaller feature set, ranks those features, and removes the least important one. The process stops when the desired number of features is reached.\n",
    "\n",
    "Note that recursive feature elimination is different from sequential backward selection. Sequential backward selection removes features by training a model on a collection of subsets (one for each possible feature removal) and greedily proceeding with whatever subset performs best. Recursive feature elimination, on the other hand, only trains a model on one feature subset before deciding which feature to remove next.\n",
    "\n",
    "This is one advantage of recursive feature elimination. Since it only needs to train and test a model on one feature subset per feature removal, it can be much faster than the sequential selection methods that we’ve covered."
   ]
  },
  {
   "cell_type": "markdown",
   "metadata": {},
   "source": [
    "#### Evaluating the Result of Recursive Feature Elimination"
   ]
  },
  {
   "cell_type": "markdown",
   "metadata": {},
   "source": [
    "You can inspect the results of recursive feature elimination by looking at rfe.ranking_ and rfe.support_."
   ]
  },
  {
   "cell_type": "markdown",
   "metadata": {},
   "source": [
    "---"
   ]
  },
  {
   "cell_type": "markdown",
   "metadata": {},
   "source": [
    "# Regularization"
   ]
  },
  {
   "cell_type": "markdown",
   "metadata": {},
   "source": [
    "## Overfitting"
   ]
  },
  {
   "cell_type": "markdown",
   "metadata": {},
   "source": [
    "If a model is able to represent a particular set of data points effectively but is not able to fit new data well, it is overfitting the data. Such a model has one or more of the following attributes:\n",
    "\n",
    "- It fits the training data well but performs significantly worse on test data\n",
    "- It typically has more parameters than necessary, i.e., it has high model complexity\n",
    "- It might be fitting for features that are multi-collinear (i.e., features that are highly negatively or positively correlated)\n",
    "- It might be fitting the noise in the data and likely mistaking the noise for features\n"
   ]
  },
  {
   "cell_type": "markdown",
   "metadata": {},
   "source": [
    "In practice, we often catch overfitting by comparing the model performance on the training data versus test data. For instance if the R-squared score is high for training data but the model performs poorly on test data, it’s a strong indicator of overfitting. We’re"
   ]
  },
  {
   "cell_type": "markdown",
   "metadata": {},
   "source": [
    "## What Does Regularization Do?\n"
   ]
  },
  {
   "cell_type": "markdown",
   "metadata": {},
   "source": [
    "Regularization is not about directly increasing or decreasing error—it’s about controlling the complexity of the model. The idea is to prevent the model from becoming too complex (overfitting) by penalizing large coefficients in the model.\n",
    "\n",
    "- Without regularization, the model will try to minimize the loss function by solely focusing on reducing the error on the training data. This can lead to overfitting.\n",
    "- With regularization, we add a penalty term to discourage the model from relying too much on specific features (via large coefficients) and instead encourage simpler models that generalize better."
   ]
  },
  {
   "cell_type": "markdown",
   "metadata": {},
   "source": [
    "### Why Add Regularization to the Loss Function?"
   ]
  },
  {
   "cell_type": "markdown",
   "metadata": {},
   "source": [
    "Let’s break down the loss function with regularization:\n",
    "**General Structure**:\n",
    "\n",
    "$$\n",
    "Regularized Loss=Original Loss (Error)+Regularization Penalty\n",
    "$$\n",
    "\n",
    "**Why Add Instead of Subtract?**\n",
    "\n",
    "Adding the penalty means that the optimization algorithm will now have two competing objectives:\n",
    "- Minimize the original loss: This reduces the prediction error on the training set.\n",
    "- Minimize the penalty term: This keeps the coefficients (model complexity) small.\n"
   ]
  },
  {
   "cell_type": "markdown",
   "metadata": {},
   "source": [
    "### Does Adding Regularization Increase the Loss?"
   ]
  },
  {
   "cell_type": "markdown",
   "metadata": {},
   "source": [
    "Yes, adding regularization increases the loss value, but that’s intentional. Here’s why:\n",
    "\n",
    "- Without regularization, the model can make coefficients arbitrarily large to minimize the training error, which might reduce the original loss but result in overfitting.\n",
    "\n",
    "- With regularization, the added penalty discourages the model from doing this. This may slightly increase the training error but leads to better generalization on unseen data.\n"
   ]
  },
  {
   "cell_type": "markdown",
   "metadata": {},
   "source": [
    "## Loss Function"
   ]
  },
  {
   "cell_type": "markdown",
   "metadata": {},
   "source": [
    "The **loss function** measures the error between the actual values ($y_i$) and the predicted values ($\\hat{y}_i$). It provides a metric to evaluate how well the model is performing.\n",
    "\n",
    "For example, in regression, a commonly used loss function is the **Mean Squared Error (MSE)**:\n",
    "\n",
    "$$\n",
    "\\text{Loss Function} = \\frac{1}{n} \\sum_{i=1}^{n} (y_i - \\hat{y}_i)^2\n",
    "$$\n",
    "\n",
    "Here:\n",
    "- $y_i$: Actual value for the $i$-th data point.\n",
    "- $\\hat{y}_i$: Predicted value for the $i$-th data point.\n",
    "- $n$: Total number of data points.\n",
    "\n",
    "When we add regularization, we modify this loss function to include a penalty term that depends on the model's coefficients ($b_j$). The specific form of the penalty depends on the type of regularization.\n"
   ]
  },
  {
   "cell_type": "markdown",
   "metadata": {},
   "source": [
    "## L1 Regularization (Lasso)\n"
   ]
  },
  {
   "cell_type": "markdown",
   "metadata": {},
   "source": [
    "L1 Regularization, also known as **Lasso (Least Absolute Shrinkage and Selection Operator)**, adds the **absolute values** of the model's coefficients as a penalty term to the loss function.\n",
    "\n",
    "The regularized loss function becomes:\n",
    "\n",
    "$$\n",
    "\\text{Loss Function} = \\frac{1}{n} \\sum_{i=1}^{n} (y_i - \\hat{y}_i)^2 + \\lambda \\sum_{j=1}^{p} |b_j|\n",
    "$$\n",
    "\n",
    "Here:\n",
    "- $\\lambda$: Regularization strength, a hyperparameter you control.\n",
    "  - Higher $\\lambda$ increases the penalty, shrinking coefficients more aggressively.\n",
    "  - Lower $\\lambda$ reduces the penalty, allowing coefficients to grow larger.\n",
    "- $b_j$: Coefficients (weights) of the model for feature $j$.\n",
    "- $p$: Number of features.\n"
   ]
  },
  {
   "cell_type": "markdown",
   "metadata": {},
   "source": [
    "### Effects of L1 Regularization:\n",
    "1. **Feature Selection**: L1 regularization forces some coefficients to shrink to exactly zero. This means irrelevant features are effectively excluded from the model.\n",
    "2. **Sparsity**: L1 regularization creates sparse models, where only a subset of features has non-zero coefficients.\n",
    "\n"
   ]
  },
  {
   "cell_type": "markdown",
   "metadata": {},
   "source": [
    "### When to Use:\n",
    "L1 regularization is useful when you suspect that only a few features are truly important, and the rest are noise."
   ]
  },
  {
   "cell_type": "markdown",
   "metadata": {},
   "source": [
    "## L2 Regularization (Ridge)\n"
   ]
  },
  {
   "cell_type": "markdown",
   "metadata": {},
   "source": [
    "L2 Regularization, also known as **Ridge Regression**, adds the **squared values** of the coefficients as a penalty term to the loss function.\n",
    "\n",
    "The regularized loss function becomes:\n",
    "\n",
    "$$\n",
    "\\text{Loss Function} = \\frac{1}{n} \\sum_{i=1}^{n} (y_i - \\hat{y}_i)^2 + \\lambda \\sum_{j=1}^{p} b_j^2\n",
    "$$\n",
    "\n",
    "Here:\n",
    "- $\\lambda$: Regularization strength, similar to L1.\n",
    "  - Higher $\\lambda$ results in smaller coefficients, reducing model complexity.\n",
    "  - Lower $\\lambda$ allows coefficients to grow larger.\n",
    "- $b_j$: Coefficients (weights) of the model for feature $j$.\n",
    "- $p$: Number of features.\n",
    "\n"
   ]
  },
  {
   "cell_type": "markdown",
   "metadata": {},
   "source": [
    "### Effects of L2 Regularization:\n",
    "1. **No Sparsity**: L2 regularization shrinks coefficients toward zero but does not make them exactly zero.\n",
    "2. **Smoothness**: By penalizing large coefficients, L2 regularization helps ensure the model remains smooth and less sensitive to small changes in the data.\n",
    "\n"
   ]
  },
  {
   "cell_type": "markdown",
   "metadata": {},
   "source": [
    "### When to Use:\n",
    "L2 regularization is useful when all features contribute to the target variable, and you do not want to exclude any of them entirely."
   ]
  },
  {
   "cell_type": "markdown",
   "metadata": {},
   "source": [
    "## Comparing L1 and L2 Regularization\n"
   ]
  },
  {
   "cell_type": "markdown",
   "metadata": {},
   "source": [
    "**Key Differences**:\n",
    "1. **Penalty Term**:\n",
    "   - L1: $\\sum_{j=1}^{p} |b_j|$ (absolute values of coefficients)\n",
    "   - L2: $\\sum_{j=1}^{p} b_j^2$ (squared values of coefficients)\n",
    "\n",
    "2. **Effect on Coefficients**:\n",
    "   - L1: Produces sparse models by setting some coefficients to exactly zero.\n",
    "   - L2: Shrinks coefficients closer to zero but does not eliminate them entirely.\n",
    "\n",
    "3. **Feature Selection**:\n",
    "   - L1: Performs feature selection by excluding irrelevant features.\n",
    "   - L2: Does not perform feature selection but reduces the impact of less important features.\n",
    "\n",
    "**Similarities**:\n",
    "- Both add a penalty term to the loss function to prevent overfitting.\n",
    "- Both are controlled by the hyperparameter $\\lambda$.\n",
    "\n",
    "***Example Use Cases***:\n",
    "- **L1 (Lasso)**: When you suspect only a few features are important (e.g., gene selection in bioinformatics).\n",
    "- **L2 (Ridge)**: When all features are relevant but need regularization to prevent overfitting (e.g., text data with many correlated features).\n"
   ]
  },
  {
   "cell_type": "markdown",
   "metadata": {},
   "source": [
    "## Elastic Net Regularization\n"
   ]
  },
  {
   "cell_type": "markdown",
   "metadata": {},
   "source": [
    "Elastic Net combines L1 and L2 regularization to leverage the strengths of both methods. The regularized loss function becomes:\n",
    "\n",
    "$$\n",
    "\\text{Loss Function} = \\frac{1}{n} \\sum_{i=1}^{n} (y_i - \\hat{y}_i)^2 + \\alpha \\lambda \\sum_{j=1}^{p} |b_j| + (1 - \\alpha) \\lambda \\sum_{j=1}^{p} b_j^2\n",
    "$$\n",
    "\n",
    "Here:\n",
    "- $\\alpha$: Mixing parameter that determines the balance between L1 and L2 penalties.\n",
    "  - $\\alpha = 1$: Equivalent to pure L1 regularization.\n",
    "  - $\\alpha = 0$: Equivalent to pure L2 regularization.\n",
    "- $\\lambda$: Regularization strength.\n",
    "- $b_j$: Coefficients of the model.\n",
    "\n",
    "**Benefits**:\n",
    "- Handles correlated features better than L1 regularization alone.\n",
    "- Performs feature selection while retaining some smoothness from L2 regularization.\n",
    "\n",
    "**When to Use**:\n",
    "Elastic Net is especially useful when you have:\n",
    "- Many features that are correlated.\n",
    "- A need for both feature selection and generalization.\n"
   ]
  },
  {
   "cell_type": "markdown",
   "metadata": {},
   "source": [
    "## Summary"
   ]
  },
  {
   "cell_type": "markdown",
   "metadata": {},
   "source": [
    "- Adding regularization increases the total loss during training, but it’s a deliberate strategy to improve generalization.\n",
    "- Regularization introduces a trade-off between minimizing training error and controlling model complexity.\n",
    "- Without regularization, the model risks overfitting; with regularization, the model is forced to balance between error and simplicity."
   ]
  },
  {
   "cell_type": "markdown",
   "metadata": {},
   "source": [
    "---"
   ]
  },
  {
   "cell_type": "markdown",
   "metadata": {},
   "source": [
    "# HyperParameters"
   ]
  },
  {
   "cell_type": "markdown",
   "metadata": {},
   "source": [
    "## Introduction"
   ]
  },
  {
   "cell_type": "markdown",
   "metadata": {},
   "source": [
    "A hyperparameter of a machine learning model is a value that determines part of the learning process and is not affected by training unlike a parameter, which is learned during the model training process. You’re probably already familiar with some hyperparameters. Let’s look at some examples.\n",
    "\n",
    "In the k-nearest neighbors algorithm, k is a hyperparameter. k determines how many neighbors will be used, and training data does not change k.\n",
    "\n",
    "Decision trees also use hyperparameters. Before training a decision tree classifier, you might want to specify how deep the tree can go (i.e., how many splits are allowed before arriving at a leaf). You might also want to specify the minimum number of samples that are present in a node in order to split that node. Both of those values are hyperparameters. They determine the structure of the model, but they are not learned during training.\n",
    "\n",
    "Regularization factors are another example. In linear or logistic regression, regularization is a term that is added to the loss function in order to penalize models with large coefficients. (The coefficients are the parameters of the model here! The regularization factor is a hyperparameter. The value of the regularization factor affects how large the coefficients of a regression model will be, but the regularization factor is independent of training data."
   ]
  },
  {
   "cell_type": "markdown",
   "metadata": {},
   "source": [
    "## Hyperparameter Tuning"
   ]
  },
  {
   "cell_type": "markdown",
   "metadata": {},
   "source": [
    "Hyperparameters can make or break a machine learning model. Take the k-nearest neighbors algorithm as an example. Recall that in k-nn classification, the class of a sample is determined by the classes of its k nearest neighbors from the training data. If k is too large, classes with a small number of samples might be missed, and the model could underfit the data. If k is too small, it’s possible that outliers in the training data could misclassify their neighbors. The model could be overfit to those outliers.\n",
    "\n",
    "This balance between overfitting and underfitting is called the bias-variance tradeoff. It’s an important consideration for supervised machine learning.\n",
    "\n",
    "- Bias is the difference between a model’s predictions and the correct values. Models with a lot of bias underfit the data and will perform poorly on both testing and training data. In biased models, the structure of the model overpowers the training data.\n",
    "\n",
    "- Variance refers to the dependence of a model on training data. A model has high variance if different training data results in widely varying outcomes. This often leads to overfitting a model to training data. Overfit, high-variance models generally perform well on training data, but poorly on testing data. In this case, the training data overpowers the structure of the model.\n",
    "\n",
    "The bias variance tradeoff is called a tradeoff because decreasing the bias usually increases the variance. The converse is also true: decreasing variance usually increases the bias. Good machine learning models strike a balance. We can reduce bias by making a model more sensitive to training data, but we do so at the risk of overfitting. On the other hand, we can reduce variance by restricting a model so that it is less affected by training data. This, however, runs the risk of underfitting the model.\n",
    "\n",
    "Ultimately, we want models that perform well on testing data. One way to do that is to choose the right hyperparameters. In the case of supervised machine learning, we want hyperparameters that make a good compromise between bias and variance. This can be done by training a model multiple times, each time with different hyperparameter values, and then using the best ones. This process is called hyperparameter tuning. There are several different ways of doing this.\n"
   ]
  },
  {
   "cell_type": "markdown",
   "metadata": {},
   "source": [
    "## Common Hyperparameter Tuning Methods"
   ]
  },
  {
   "cell_type": "markdown",
   "metadata": {},
   "source": [
    "- The **grid search** algorithm for hyperparameter tuning works by training a model on predetermined lists of hyperparameter values. This method tries every hyperparameter value on the list, and then uses the one that makes the model perform best.\n",
    "\n",
    "- The **random search** algorithm works similarly, but instead of using a predetermined list of hyperparameter values, the values are randomly chosen. As with grid search, it selects the hyperparameter that performed the best.\n",
    "\n",
    "- **Bayesian optimization** is another approach to hyperparameter tuning. It uses ideas from the field of Bayesian statistics to iterate through different hyperparameter values. Each time the Bayesian optimization algorithm evaluates a new hyperparameter value, it gains more information about where it should look for the best hyperparameter value.\n",
    "\n",
    "- **Genetic algorithms** are another possible hyperparameter tuning method. These work by going through several generations of hyperparameter values. Within each generation, the fittest (i.e., best-performing) hyperparameter values are slightly mutated (i.e., changed) in order to produce the next generation."
   ]
  },
  {
   "cell_type": "markdown",
   "metadata": {},
   "source": [
    "When tuning hyperparameters, it’s important to split the data into training, testing, and validation data. Training data is used to train the model. Validation data is used to evaluate hyperparameters. After a hyperparameter is tuned, the model can be tested on testing data. This data allows for an estimate of model performance that isn’t affected by the hyperparameter tuning process."
   ]
  },
  {
   "cell_type": "markdown",
   "metadata": {},
   "source": [
    "---"
   ]
  },
  {
   "cell_type": "markdown",
   "metadata": {},
   "source": [
    "# Hyperparameters II"
   ]
  },
  {
   "cell_type": "markdown",
   "metadata": {},
   "source": [
    "## Grid Search"
   ]
  },
  {
   "cell_type": "markdown",
   "metadata": {},
   "source": [
    "Grid search works by testing a model on a list of hyperparameter values decided upon beforehand. Suppose we had two hyperparameters we wanted to tune and we wanted to choose between 6 values for the first one and 5 values of the second, we’d be searching a grid of thirty values as shown below. Grid search would fit the model and evaluate its performance for each of the values represented by these points We can then choose the hyperparameter values corresponding to the best performance and conclude our hyperparameter search!"
   ]
  },
  {
   "cell_type": "markdown",
   "metadata": {},
   "source": [
    "The “CV” in GridSearchCV is an acronym for cross-validation. It’s best practice in machine learning to go beyond the usual train-test split and have a holdout or validation dataset. Specifically, GridSearhCV uses a technique known as k-fold cross-validation. This works as follows."
   ]
  },
  {
   "cell_type": "markdown",
   "metadata": {},
   "source": [
    "### Cross-validation in GridSearchCV"
   ]
  },
  {
   "cell_type": "markdown",
   "metadata": {},
   "source": [
    "GridSearchCV subdivides the training data further into another training and test data set. It fits the model on this new training data and evaluates the model on the new test data. But to make sure that we don’t accidentally have good performance in only one part of our dataset, GridSearchCV will do this process multiple times on different cross-validation splits so that every point in the data gets to be tested on at least once! The number of times this split happens is the “k” in “k-fold”. For instance, in a 10-fold cross-validation, our data would be split into a 90:10 train-test split 10 times and GridSearchCV would evaluate the model on each fold."
   ]
  },
  {
   "cell_type": "markdown",
   "metadata": {},
   "source": [
    "### Evaluating GridSearchCV results"
   ]
  },
  {
   "cell_type": "markdown",
   "metadata": {},
   "source": [
    "After fitting a GridSearchCV model we can find out the results using the following attributes of the clf argument:"
   ]
  },
  {
   "cell_type": "markdown",
   "metadata": {},
   "source": [
    "- .best_estimator_ gives us the best estimator\n",
    "- .best_score_ gives us the mean cross-validated score corresponding to the best estimator\n",
    "- .best_params_ gives us the set of hyperparameters that correspond to the best estimator\n",
    "- .cv_results_ attribute gives us the scores for each hyperparamter combination in the grid"
   ]
  },
  {
   "cell_type": "markdown",
   "metadata": {},
   "source": [
    "---"
   ]
  },
  {
   "cell_type": "markdown",
   "metadata": {},
   "source": [
    "# Principal Component Analysis"
   ]
  },
  {
   "cell_type": "markdown",
   "metadata": {},
   "source": [
    "In machine learning, feature engineering improves model value by tailoring features to the problem. While some datasets allow using all features, large datasets with many features can lead to visualization, correlation, and computational challenges.\n",
    "\n",
    "Principal Component Analysis (PCA) is a technique to reduce the number of features while retaining most of the information, making it useful for handling high-dimensional datasets."
   ]
  },
  {
   "cell_type": "markdown",
   "metadata": {},
   "source": [
    "## Laying the groundwork for PCA\n",
    "\n",
    "Before we dive into the specifics of PCA, we need to understand the importance of information. In particular, we need to understand how variance plays into the level of information in a dataset. For the purposes of this article, we will be looking at a synthetic dataset about local pizza stores. Let’s see what data we have:\n",
    "\n",
    "```python\n",
    "import pandas as pd\n",
    "import matplotlib.pyplot as plt\n",
    "\n",
    "df = pd.read_csv('pizza.csv')\n",
    "\n",
    "print(df.columns)"
   ]
  },
  {
   "cell_type": "markdown",
   "metadata": {},
   "source": [
    "Each row of data pertains to an individual store, and gives information about how the store is doing overall with inventory and sales. Suppose we look at just revenue and total_customers, and we see the following information:\n",
    "\n",
    "| Revenue | Total Customers |\n",
    "|---|---|\n",
    "| 500 | 500 |\n",
    "| 500 | 500 |\n",
    "| 500 | 500 |\n",
    "| 500 | 500 |\n",
    "| 500 | 500 |\n",
    "| 500 | 500 |\n",
    "| 500 | 500 |\n",
    "| 500 | 500 |\n",
    "| 500 | 500 |\n",
    "| 500 | 500 |\n",
    "\n",
    "In this scenario, the value for total_customers has a value of 500 for every row. While every row has a value, and therefore has data, this column does not provide a lot of information, due to the lack of variance in the values. While we could include this feature in our downstream analytics, it doesn’t provide any additional value, because each row would have the same data.\n",
    "\n",
    "Now let’s look at what the real data shows us for these two columns:"
   ]
  },
  {
   "cell_type": "markdown",
   "metadata": {},
   "source": [
    "`df[['revenue','total_customers']].head()`\n",
    "\n",
    "| revenue | total_customers |\n",
    "| --- | --- |\n",
    "| 0 |  9931.860710 | 615.336682\n",
    "| 1 |  12397.798907 | 725.440590\n",
    "| 2 |  11983.079340 | 630.987797\n",
    "| 3 |  13910.984353 | 746.264763\n",
    "| 4 |  13083.859701 | 689.060436\n"
   ]
  },
  {
   "cell_type": "markdown",
   "metadata": {},
   "source": [
    "## Coefficient of variance"
   ]
  },
  {
   "cell_type": "markdown",
   "metadata": {},
   "source": [
    "As we can see, the real dataset has far more variance in these two columns. Since each feature has significant variance, these features provide valuable information about our observations, and should therefore be included in our analysis.\n",
    "\n",
    "Variance alone is one indicator of the level of information in a dataset, but is not the only factor. To expand on the idea of variance within a dataset, we will look at the Coefficient of Variance, or CV for short. The premise here is that variance must be taken into context with the central tendencies of that dataset. For example, if a dataset has a variance of 5, that will mean very different things if the mean is 2 vs. a dataset with a mean of 100.\n",
    "\n",
    "Now, let’s actually calculate the Coefficient of Variance for each of our columns."
   ]
  },
  {
   "cell_type": "markdown",
   "metadata": {},
   "source": [
    "```\n",
    "import numpy as np\n",
    "\n",
    "#define function to calculate cv\n",
    "cv = lambda x: np.std(x, ddof=1) / np.mean(x) * 100\n",
    "\n",
    "print(df.apply(cv))\n",
    "```"
   ]
  },
  {
   "cell_type": "markdown",
   "metadata": {},
   "source": [
    "output:\n",
    "```revenue           10.001034\n",
    "total_customers    5.138628\n",
    "amt_flour          9.128946\n",
    "amt_tomatoes       9.926973\n",
    "amt_cheese         6.401035\n",
    "dtype: float64```"
   ]
  },
  {
   "cell_type": "markdown",
   "metadata": {},
   "source": [
    "All of the features in this dataset have enough variance where they will be useful in analysis. Since variance is an important factor to PCA, these features will ultimately be ordered by the level of information (i.e. variance) they have. For this dataset, that means, in order of importance, PCA will look at revenue, amt_tomatoes, amt_flour, amt_cheese, and then total_customers. While the results of PCA won’t resemble our original features, they will be a mathematical representation of the information contained in the original features, which has value for analytical purposes."
   ]
  },
  {
   "cell_type": "markdown",
   "metadata": {},
   "source": [
    "## Data Matrix\n",
    "At this point, we need to address how we can actually take information from multiple features and distill it down into a smaller number of features. Let's dive deeper into each of the steps that lead to PCA.\n",
    "\n",
    "First, we need to isolate a **Data Matrix**, another name for a dataset. This data matrix holds all of the features and information that we are interested in. Many datasets will have columns that hold information (i.e., features), and other columns that we want to predict (i.e., labels). Using our previous pizza dataset, we have 5 features in our data matrix.\n",
    "\n",
    "| revenue | total_customers | amt_flour | amt_tomatoes | amt_cheese |\n",
    "|---|---|---|---|---|\n",
    "| 9931.860710 | 615.336682 | 37.662830 | 174.102712 | 139.402208 |\n",
    "| 12397.798907 | 725.440590 | 44.424509 | 239.119556 | 168.425842 |\n",
    "| 11983.079340 | 630.987797 | 40.259276 | 224.084121 | 146.612426 |\n",
    "| 13910.984353 | 746.264763 | 43.633485 | 227.096619 | 170.726464 |\n",
    "| 13083.859701 | 689.060436 | 48.964844 | 221.383478 | 154.786070 |"
   ]
  },
  {
   "cell_type": "markdown",
   "metadata": {},
   "source": [
    "## Covariance Matrix\n",
    "\n",
    "From here, the next step of PCA is to calculate a **covariance matrix**. Essentially, a covariance matrix is calculating how much a feature changes with changes in every other feature, i.e., we're looking at the relative variance between any two features. Mathematically, the formula for covariance between two features *X* and *Y* is:\n",
    "\n",
    "$$\n",
    "Cov(X,Y) = 1/(n-1) * Σ<sub>i=1</sub><sup>n</sup> (X<sub>i</sub> - X̄)(Y<sub>i</sub> - Ȳ)\n",
    "$$\n",
    "\n",
    "We will do this equation for the relationship between each of our features, ultimately resulting in a covariance matrix that shows relationships for the entire dataset. Simplifying our example dataset, we could think about our pizza dataset having five individual features with the names *a*, *b*, *c*, *d*, and *e*. Our ultimate covariance matrix, thus, would end up looking like this:\n",
    "\n",
    "```\n",
    "[ \n",
    "    [Cov<sub>a,a</sub>, Cov<sub>a,b</sub>, Cov<sub>a,c</sub>, Cov<sub>a,d</sub>, Cov<sub>a,e</sub>],\n",
    "    [Cov<sub>b,a</sub>, Cov<sub>b,b</sub>, Cov<sub>b,c</sub>, Cov<sub>b,d</sub>, Cov<sub>b,e</sub>],\n",
    "    [Cov<sub>c,a</sub>, Cov<sub>c,b</sub>, Cov<sub>c,c</sub>, Cov<sub>c,d</sub>, Cov<sub>c,e</sub>],\n",
    "    [Cov<sub>d,a</sub>, Cov<sub>d,b</sub>, Cov<sub>d,c</sub>, Cov<sub>d,d</sub>, Cov<sub>d,e</sub>],\n",
    "    [Cov<sub>e,a</sub>, Cov<sub>e,b</sub>, Cov<sub>e,c</sub>, Cov<sub>e,d</sub>, Cov<sub>e,e</sub>]\n",
    "]\n",
    "```\n",
    "\n",
    "Luckily, with the `pandas` package, we can calculate a covariance matrix with the `.cov()` method. For our pizza dataset, this results in the following:"
   ]
  },
  {
   "cell_type": "markdown",
   "metadata": {},
   "source": [
    " ``` \n",
    "revenue     total_customers amt_flour   amt_tomatoes    amt_cheese\n",
    "revenue     1.563517e+06    31853.053820    3713.664277 19980.869509    9152.568482\n",
    "total_customers 3.185305e+04    1295.096885 105.909335  577.443015  256.641069\n",
    "amt_flour   3.713664e+03    105.909335  16.894551   66.165738   29.130750\n",
    "amt_tomatoes    1.998087e+04    577.443015  66.165738   500.715936  162.221734\n",
    "amt_cheese  9.152568e+03    256.641069  29.130750   162.221734  105.370280\n",
    "```"
   ]
  },
  {
   "cell_type": "markdown",
   "metadata": {},
   "source": [
    "One important point to note is that along the primary diagonal (from top-left to bottom-right), we see the same variance values that we calculated for each individual column earlier on."
   ]
  },
  {
   "cell_type": "markdown",
   "metadata": {},
   "source": [
    "## Matrix Factorization, Eigenvalues, and Eigenvectors"
   ]
  },
  {
   "cell_type": "markdown",
   "metadata": {},
   "source": [
    "We now have a matrix of variance values for our features. The next step in PCA revolves around matrix factorization. Without going into too much detail, our goal with matrix factorization is to find a pair of smaller matrices whose product would equal our covariance matrix. Another way of thinking about it: we want to find a smaller matrix that captures the majority of our information.\n",
    "\n",
    "An important part of this matrix factorization are Eigenvectors. Eigenvectors are vectors (mathematical concepts that have direction and magnitude) that do not change direction when a transformation is applied to them. In the context of data matrices, these eigenvectors give us a direction to “rotate” the dataset in n-dimensional space so we can look at the entire dataset from a simplified perspective. The eigenvalues are related to the relative variation described by each principal component.\n",
    "\n",
    "For a matrix A, the eigenvectors and eigenvalues are the solutions to the following equation:\n",
    "$$\n",
    "det(A−λI)\n",
    "$$\n",
    "\n",
    "After some linear algebra, for our covariance matrix, we are looking for the solution to the following matrix, which will be our eigenvectors and eigenvalues."
   ]
  },
  {
   "cell_type": "markdown",
   "metadata": {},
   "source": [
    "\n",
    "$$\n",
    "\\text{det} \\begin{bmatrix}\n",
    "1.563517e+06 - \\lambda & 3.185305e+04 & 3.713664e+03 & 1.998087e+04 & 9.152568e+03 \\\\\n",
    "3.185305e+04 & 1295.096885 - \\lambda & 105.909335 & 577.443015 & 256.641069 \\\\\n",
    "3.713664e+03 & 105.909335 & 16.894551 - \\lambda & 66.165738 & 29.130750 \\\\\n",
    "1.998087e+04 & 577.443015 & 66.165738 & 500.715936 - \\lambda & 162.221734 \\\\\n",
    "9.152568e+03 & 256.641069 & 29.130750 & 162.221734 & 105.370280 - \\lambda\n",
    "\\end{bmatrix}\n",
    "$$\n"
   ]
  },
  {
   "cell_type": "markdown",
   "metadata": {},
   "source": [
    "## Principal Components\n",
    "All of the underlying math behind PCA results in principal components, but what exactly are they? Principal components are a linear combination of all the input features from the original dataset. By using the eigenvectors we calculated earlier, we can “rotate” our dataset features from an n-dimensional space into a 2-dimensional space, which is easier for us to understand and analyze.\n",
    "\n",
    "To illustrate this point, let’s return to our pizza dataset. We can observe the correlation between our revenue and total_customers features.\n",
    "\n",
    "```sns.scatterplot(x='total_customers',\n",
    "    y='revenue',\n",
    "    data=df)```\n"
   ]
  },
  {
   "cell_type": "markdown",
   "metadata": {},
   "source": [
    "(no plot will show at this time)"
   ]
  },
  {
   "cell_type": "markdown",
   "metadata": {},
   "source": [
    "We can see a positive correlation between these two features, and could use that information to guide any analysis we perform. We can also do correlation plots for every combination of features, like so:\n",
    "\n",
    "`sns.pairplot(df)`\n",
    "\n",
    "(no plot will show at this time)"
   ]
  },
  {
   "cell_type": "markdown",
   "metadata": {},
   "source": [
    "Each individual combination of features will have its own correlation and variance, both of which provide valuable information about that relationship. When comparing two features at a time, these relationships are more understandable. If we wanted to, however, look at all of the feature relationships and information at once, it would be very difficult to decipher, as we cannot visualize data in a 5-dimensional space.\n",
    "\n",
    "By using PCA, however, we can reduce the dimensionality of our dataset into a 2-dimensional dataset, allowing for better visualization. Let’s see the result."
   ]
  },
  {
   "cell_type": "markdown",
   "metadata": {},
   "source": [
    "```\n",
    "from sklearn.decomposition import PCA\n",
    "\n",
    "pca = PCA(n_components=2)\n",
    "pca_array = pca.fit_transform(df)\n",
    "```"
   ]
  },
  {
   "cell_type": "markdown",
   "metadata": {},
   "source": [
    "Output:\n",
    "```\n",
    "array([[-2572.64663126,   -37.43225524],\n",
    "       [ -104.21066949,    31.54952593],\n",
    "       [ -521.0563251 ,   -54.19045713],\n",
    "       ...,\n",
    "       [ 1429.58053669,    -5.98229122],\n",
    "       [-3550.23561932,    23.8935932 ],\n",
    "       [ -481.85213117,   -34.14891261]])\n",
    "```"
   ]
  },
  {
   "cell_type": "markdown",
   "metadata": {},
   "source": [
    "As we can see, by running PCA on our original dataset, we were able to take our 5 features and reduce the dimensions down to 2 principal components. With 2 dimensions, we can now plot the data on a single scatterplot:"
   ]
  },
  {
   "cell_type": "markdown",
   "metadata": {},
   "source": [
    "`sns.scatterplot(pca_array[:,0], pca_array[:,1])`"
   ]
  },
  {
   "cell_type": "markdown",
   "metadata": {},
   "source": [
    "## The How, Where, and Why of PCA"
   ]
  },
  {
   "cell_type": "markdown",
   "metadata": {},
   "source": [
    "CA serves an important role in many different parts of data science and analytics in general, as this process allows us to maximize the amount of information we can extract from data while reducing computational time down the line. We just saw a common use case for PCA with our pizza dataset. We took a higher dimensional dataset (5 dimensions in our case), and reduced it down to 2 dimensions. This two-dimensional dataset can now be an input to a variety of Machine Learning models. For example, we could use this new dataset as part of a forecasting model, or perform linear regression. These techniques would have been much more difficult prior to performing PCA.\n",
    "\n",
    "PCA is also inherently an unsupervised learning algorithm and can be used to identify clusters in data on its own. Very similar to the popular k-means algorithms, PCA will look at overall similarities between the different features in a dataset. When we set the number of principal components to keep, we are defining the number of similar “rotations” of our dataset, which will act very much like a cluster of their own. Typically, many practitioners will implement PCA as a precursor to other clustering algorithms to augment the accuracy, but it is an interesting application to do clustering with PCA alone!\n",
    "\n",
    "Another, very powerful, application of PCA is with image processing. Images hold a vast amount of information in each file, and analyzing this information can have very useful applications. Image classification, for example, uses algorithms to detect the subject of an image, or find a particular object within the image. Overall, it can be very costly to process image data, due to the high dimensionality it has. By applying PCA, however, practitioners can reduce the number of features for the image with minimal information loss and continue their processing."
   ]
  }
 ],
 "metadata": {
  "kernelspec": {
   "display_name": ".venv",
   "language": "python",
   "name": "python3"
  },
  "language_info": {
   "codemirror_mode": {
    "name": "ipython",
    "version": 3
   },
   "file_extension": ".py",
   "mimetype": "text/x-python",
   "name": "python",
   "nbconvert_exporter": "python",
   "pygments_lexer": "ipython3",
   "version": "3.10.11"
  }
 },
 "nbformat": 4,
 "nbformat_minor": 2
}
