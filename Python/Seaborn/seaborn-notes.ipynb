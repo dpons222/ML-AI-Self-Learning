{
 "cells": [
  {
   "cell_type": "code",
   "execution_count": 1,
   "metadata": {},
   "outputs": [],
   "source": [
    "import numpy as np \n",
    "import pandas as pd \n",
    "import matplotlib.pyplot as plt\n",
    "import seaborn as sns "
   ]
  },
  {
   "cell_type": "markdown",
   "metadata": {},
   "source": [
    "# Intro"
   ]
  },
  {
   "cell_type": "markdown",
   "metadata": {},
   "source": [
    "**For Understanding Data:**\n",
    "\n",
    "*   **Histograms:** Essential for visualizing the distribution of a single numerical variable. They help identify patterns like skewness, modality, and outliers, which are crucial for data preprocessing and feature engineering.\n",
    "*   **Scatter plots:** Excellent for exploring the relationship between two numerical variables. They can reveal correlations, clusters, and outliers, guiding feature selection and model building.\n",
    "*   **Box plots:** Useful for comparing the distribution of a numerical variable across different groups. They show the median, quartiles, and outliers, providing insights into the spread and central tendency of the data for different categories.\n",
    "*   **Heatmaps:** Great for visualizing the relationships between multiple variables. They use color gradients to represent the magnitude of the relationships, making it easy to identify patterns and correlations in large datasets.\n",
    "\n",
    "**For Evaluating Models:**\n",
    "\n",
    "*   **Line charts:** Ideal for displaying model performance metrics over time, such as training loss, validation accuracy, or learning curves. They help assess model convergence and identify potential issues like overfitting or underfitting.\n",
    "*   **ROC curves:** Essential for evaluating the performance of classification models. They plot the true positive rate against the false positive rate at different thresholds, helping to choose the optimal threshold for maximizing model performance.\n",
    "*   **Confusion matrices:** Useful for understanding the performance of classification models in more detail. They show the number of true positives, true negatives, false positives, and false negatives, providing insights into the types of errors the model makes.\n",
    "*   **Bar charts:** Effective for comparing the performance of different models on various metrics. They can be used to show accuracy, precision, recall, F1-score, or other relevant metrics for each model."
   ]
  }
 ],
 "metadata": {
  "kernelspec": {
   "display_name": ".venv",
   "language": "python",
   "name": "python3"
  },
  "language_info": {
   "codemirror_mode": {
    "name": "ipython",
    "version": 3
   },
   "file_extension": ".py",
   "mimetype": "text/x-python",
   "name": "python",
   "nbconvert_exporter": "python",
   "pygments_lexer": "ipython3",
   "version": "3.10.11"
  }
 },
 "nbformat": 4,
 "nbformat_minor": 2
}
