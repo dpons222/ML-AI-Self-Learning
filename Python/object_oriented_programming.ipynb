{
 "cells": [
  {
   "cell_type": "markdown",
   "metadata": {},
   "source": [
    "# Public, Protected, Private"
   ]
  },
  {
   "cell_type": "markdown",
   "metadata": {},
   "source": [
    "## Example"
   ]
  },
  {
   "cell_type": "code",
   "execution_count": 4,
   "metadata": {},
   "outputs": [
    {
     "name": "stdout",
     "output_type": "stream",
     "text": [
      "Alice\n",
      "1990-01-01\n",
      "1990-01-01\n",
      "1995-05-05\n",
      "Bob\n",
      "1985-11-15\n",
      "full\n"
     ]
    }
   ],
   "source": [
    "class User:\n",
    "    def __init__(self, name, birth_day, password):\n",
    "        self.name = name  # Public\n",
    "        self._birthday = birth_day  # Protected\n",
    "        self.__password = password  # Private\n",
    "\n",
    "    def check_birth_day(self, input_birth_day):\n",
    "        return input_birth_day == self._birthday  # Accessing protected member\n",
    "\n",
    "    def check_password(self, input_password):\n",
    "        return input_password == self.__password  # Accessing private member\n",
    "\n",
    "    def get_birth_day(self):  # Example of a getter method\n",
    "        return self._birthday\n",
    "\n",
    "    def set_birth_day(self, new_birth_day): # Example of a setter method\n",
    "        self._birthday = new_birth_day\n",
    "\n",
    "user = User(\"Alice\", \"1990-01-01\", \"secure123\")\n",
    "print(user.name)  # ✅ Can access (Public)\n",
    "\n",
    "# Accessing protected member directly (generally discouraged but possible)\n",
    "print(user._birthday)  # ⚠️ Works, but considered bad practice outside the class\n",
    "\n",
    "# Recommended way to access or modify protected members:\n",
    "print(user.get_birth_day()) # Using a getter method\n",
    "user.set_birth_day(\"1995-05-05\") # Using a setter method\n",
    "print(user.get_birth_day())\n",
    "\n",
    "# print(user.__password)  # ❌ AttributeError: 'User' object has no attribute '__password'\n",
    "\n",
    "# But Python allows indirect access (name-mangling) - Avoid this!\n",
    "# print(user._User__password)  # ⚠️ Works, but bad practice -  Directly accessing mangled name\n",
    "\n",
    "# Example demonstrating why protected variables are useful:\n",
    "class AdminUser(User):\n",
    "    def __init__(self, name, birth_day, password, access_level):\n",
    "        super().__init__(name, birth_day, password)\n",
    "        self._access_level = access_level # Protected variable specific to AdminUser\n",
    "\n",
    "    def get_access_level(self):\n",
    "        return self._access_level\n",
    "\n",
    "admin = AdminUser(\"Bob\", \"1985-11-15\", \"adminpass\", \"full\")\n",
    "print(admin.name) # Public\n",
    "print(admin._birthday) # Accessible, but bad practice\n",
    "print(admin.get_access_level()) # Recommended access for protected _access_level"
   ]
  },
  {
   "cell_type": "markdown",
   "metadata": {},
   "source": [
    "## Bad vs Good example"
   ]
  },
  {
   "cell_type": "markdown",
   "metadata": {},
   "source": [
    "the following code uses bad practices"
   ]
  },
  {
   "cell_type": "code",
   "execution_count": 5,
   "metadata": {},
   "outputs": [
    {
     "name": "stdout",
     "output_type": "stream",
     "text": [
      "Birthday: 1990-01-01\n",
      "Birthday: Invalid Date\n",
      "Birthday: 1990-01-01\n",
      "1990\n",
      "Birthday: 1985-05-10\n",
      "Birthday: 2000-01-01\n",
      "Invalid date format. Please use YYYY-MM-DD.\n",
      "Birthday: 2000-01-01\n",
      "2000-01-01\n",
      "2000\n"
     ]
    }
   ],
   "source": [
    "import datetime\n",
    "\n",
    "# Bad Practice (Public attribute)\n",
    "\n",
    "class UserBad:\n",
    "    def __init__(self, name, birthday_str):\n",
    "        self.name = name\n",
    "        self.birthday = birthday_str  # Public attribute\n",
    "\n",
    "    def display_birthday(self):\n",
    "        print(f\"Birthday: {self.birthday}\")\n",
    "\n",
    "user_bad = UserBad(\"Alice\", \"1990-01-01\")\n",
    "user_bad.display_birthday()  # Output: Birthday: 1990-01-01\n",
    "\n",
    "# ... later in your code ...\n",
    "user_bad.birthday = \"Invalid Date\"  # Directly modifying the public attribute\n",
    "user_bad.display_birthday()  # Output: Birthday: Invalid Date (Oops!)\n",
    "\n",
    "# ... even later, you decide to change the birthday to a datetime object ...\n",
    "user_bad.birthday = datetime.datetime.strptime(\"1990-01-01\", \"%Y-%m-%d\").date()\n",
    "user_bad.display_birthday() # This will now cause an error because the display method expects a string.\n",
    "print(user_bad.birthday.year) # This will work, but other parts of the code may be expecting a string.\n",
    "\n",
    "# Good Practice (Protected attribute with getters/setters)\n",
    "\n",
    "class UserGood:\n",
    "    def __init__(self, name, birthday_str):\n",
    "        self.name = name\n",
    "        self._birthday = datetime.datetime.strptime(birthday_str, \"%Y-%m-%d\").date() # Store as datetime.date object from the start\n",
    "\n",
    "    def get_birthday(self):\n",
    "        return self._birthday.strftime(\"%Y-%m-%d\") # Return as string when needed\n",
    "\n",
    "    def set_birthday(self, birthday_str):\n",
    "        try:\n",
    "            self._birthday = datetime.datetime.strptime(birthday_str, \"%Y-%m-%d\").date()\n",
    "        except ValueError:\n",
    "            print(\"Invalid date format. Please use YYYY-MM-DD.\")\n",
    "\n",
    "    def display_birthday(self):\n",
    "        print(f\"Birthday: {self.get_birthday()}\")  # Use the getter\n",
    "\n",
    "user_good = UserGood(\"Bob\", \"1985-05-10\")\n",
    "user_good.display_birthday()  # Output: Birthday: 1985-05-10\n",
    "\n",
    "# ... later in your code ...\n",
    "user_good.set_birthday(\"2000-01-01\")  # Using the setter\n",
    "user_good.display_birthday()  # Output: Birthday: 2000-01-01\n",
    "\n",
    "user_good.set_birthday(\"Invalid Date\") # Output: Invalid date format. Please use YYYY-MM-DD.\n",
    "user_good.display_birthday() # Output: Birthday: 2000-01-01 (No change)\n",
    "\n",
    "print(user_good.get_birthday()) # Accessing the birthday as a string.\n",
    "print(user_good._birthday.year) # Accessing the birthday as a date object.\n",
    "\n",
    "# ... even later, you decide you want to change how the birthday is stored. You can change it to a timestamp, for instance.\n",
    "# No changes are needed in any other part of the code, as long as the getter and setter are updated."
   ]
  },
  {
   "cell_type": "markdown",
   "metadata": {},
   "source": [
    "### I have a question"
   ]
  },
  {
   "cell_type": "markdown",
   "metadata": {},
   "source": [
    "**im still confused, doesnt a setter change the attribute anyways?**\n",
    "\n",
    "\n",
    "You're absolutely right to be confused! It's a subtle but crucial point. Yes, a setter *does* change the attribute.  But the way it changes it, and the control it provides, is what makes it different and *better* than directly assigning to a public attribute.\n",
    "\n",
    "Let's illustrate with an analogy:\n",
    "\n",
    "Imagine you have a valuable object (your data, like `_birthday`).\n",
    "\n",
    "*   **Public Attribute (Direct Access):**  It's like leaving the object out in the open. Anyone can come along and change it, even accidentally or inappropriately (like changing its type or setting it to an invalid value). You have no record of who changed it or when.\n",
    "*   **Setter Method:** It's like having a secure box for the object.  To change the object, you have to go through a specific process:\n",
    "    1.  You hand the new version of the object (the new birthday value) to a designated person (the setter method).\n",
    "    2.  The designated person (the setter) can then:\n",
    "        *   Check if the new object is valid (e.g., correct date format).\n",
    "        *   Record who made the change and when (you could add logging).\n",
    "        *   Perform any necessary conversions or adjustments before placing the new object in the box (e.g., convert the string to a `datetime` object).\n",
    "    3.  Finally, they replace the old object with the new one.\n",
    "\n",
    "**Key Differences and Why Setters Are Better:**\n",
    "\n",
    "1.  **Validation:** The setter can *validate* the new value *before* it's assigned to the attribute.  This prevents errors and ensures data integrity.  Direct assignment to a public attribute bypasses this validation.\n",
    "\n",
    "2.  **Abstraction:** The setter *hides the internal details* of how the data is stored.  You can change how `_birthday` is stored (e.g., from a string to a `datetime` object) *without* affecting the code that uses the setter.  With direct access, you'd have to change every piece of code that touches the attribute.\n",
    "\n",
    "3.  **Control:** The setter gives you *control* over when and how the attribute is changed.  You can add logging, security checks, or other logic to the setter.  Direct assignment provides no such control.\n",
    "\n",
    "4.  **Maintainability:**  If you need to change how the attribute is handled, you only need to change the setter (and getter, if necessary).  With direct access, you'd have to find and modify *every instance* where the attribute is used."
   ]
  },
  {
   "cell_type": "markdown",
   "metadata": {},
   "source": [
    "# End"
   ]
  }
 ],
 "metadata": {
  "kernelspec": {
   "display_name": ".venv",
   "language": "python",
   "name": "python3"
  },
  "language_info": {
   "codemirror_mode": {
    "name": "ipython",
    "version": 3
   },
   "file_extension": ".py",
   "mimetype": "text/x-python",
   "name": "python",
   "nbconvert_exporter": "python",
   "pygments_lexer": "ipython3",
   "version": "3.10.11"
  }
 },
 "nbformat": 4,
 "nbformat_minor": 2
}
