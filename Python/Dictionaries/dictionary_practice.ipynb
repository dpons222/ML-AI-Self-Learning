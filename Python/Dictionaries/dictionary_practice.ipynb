{
 "cells": [
  {
   "cell_type": "markdown",
   "metadata": {},
   "source": [
    "# Imports"
   ]
  },
  {
   "cell_type": "code",
   "execution_count": 7,
   "metadata": {},
   "outputs": [],
   "source": [
    "import numpy as np\n",
    "import pandas as pd\n"
   ]
  },
  {
   "cell_type": "markdown",
   "metadata": {},
   "source": [
    "# Iterate Through a Dictionary that has a Dictionary"
   ]
  },
  {
   "cell_type": "markdown",
   "metadata": {},
   "source": [
    "## Nested Loops (Most Common and Flexible):"
   ]
  },
  {
   "cell_type": "markdown",
   "metadata": {},
   "source": [
    "This is the most straightforward and generally applicable method. You use one loop to iterate through the outer dictionary and a nested loop to iterate through each inner dictionary."
   ]
  },
  {
   "cell_type": "code",
   "execution_count": 8,
   "metadata": {},
   "outputs": [
    {
     "name": "stdout",
     "output_type": "stream",
     "text": [
      "Outer Key: person1\n",
      "  Inner Key: name, Inner Value: Alice\n",
      "  Inner Key: age, Inner Value: 30\n",
      "  Inner Key: city, Inner Value: New York\n",
      "--------------------\n",
      "Outer Key: person2\n",
      "  Inner Key: name, Inner Value: Bob\n",
      "  Inner Key: age, Inner Value: 25\n",
      "  Inner Key: city, Inner Value: Los Angeles\n",
      "--------------------\n",
      "Outer Key: person3\n",
      "  Inner Key: name, Inner Value: Charlie\n",
      "  Inner Key: age, Inner Value: 35\n",
      "  Inner Key: city, Inner Value: Chicago\n",
      "--------------------\n"
     ]
    }
   ],
   "source": [
    "my_dict = {\n",
    "    \"person1\": {\"name\": \"Alice\", \"age\": 30, \"city\": \"New York\"},\n",
    "    \"person2\": {\"name\": \"Bob\", \"age\": 25, \"city\": \"Los Angeles\"},\n",
    "    \"person3\": {\"name\": \"Charlie\", \"age\": 35, \"city\": \"Chicago\"}\n",
    "}\n",
    "\n",
    "for outer_key, inner_dict in my_dict.items():\n",
    "    print(f\"Outer Key: {outer_key}\")\n",
    "    for inner_key, inner_value in inner_dict.items():\n",
    "        print(f\"  Inner Key: {inner_key}, Inner Value: {inner_value}\")\n",
    "    print(\"-\" * 20)  # Separator between outer dictionary entries"
   ]
  },
  {
   "cell_type": "markdown",
   "metadata": {},
   "source": [
    "### Explanation"
   ]
  },
  {
   "cell_type": "markdown",
   "metadata": {},
   "source": [
    "*   **`my_dict.items()`:**  The `.items()` method returns a view object that displays a list of a dictionary's key-value tuple pairs.  In the outer loop, `outer_key` gets the key from the outer dictionary (e.g., \"person1\"), and `inner_dict` gets the entire inner dictionary as its value (e.g., `{\"name\": \"Alice\", \"age\": 30, \"city\": \"New York\"}`).\n",
    "\n",
    "*   **`inner_dict.items()`:**  Inside the inner loop, we call `.items()` again, but this time on the `inner_dict`. This gives us the key-value pairs within the inner dictionary.  `inner_key` gets the inner key (e.g., \"name\"), and `inner_value` gets the inner value (e.g., \"Alice\")."
   ]
  },
  {
   "cell_type": "markdown",
   "metadata": {},
   "source": [
    "## Iterating Only Through Outer Keys and Accessing Inner Values Directly:"
   ]
  },
  {
   "cell_type": "markdown",
   "metadata": {},
   "source": [
    "If you only need the outer keys and want to access specific values from the inner dictionaries, you can do this without a nested loop:"
   ]
  },
  {
   "cell_type": "code",
   "execution_count": 9,
   "metadata": {},
   "outputs": [
    {
     "name": "stdout",
     "output_type": "stream",
     "text": [
      "Outer Key: person1\n",
      "  Name: Alice\n",
      "  Age: 30\n",
      "  Age: New York\n",
      "--------------------\n",
      "Outer Key: person2\n",
      "  Name: Bob\n",
      "  Age: 25\n",
      "  Age: Los Angeles\n",
      "--------------------\n",
      "Outer Key: person3\n",
      "  Name: Charlie\n",
      "  Age: 35\n",
      "  Age: Chicago\n",
      "--------------------\n"
     ]
    }
   ],
   "source": [
    "my_dict = {\n",
    "    \"person1\": {\"name\": \"Alice\", \"age\": 30, \"city\": \"New York\"},\n",
    "    \"person2\": {\"name\": \"Bob\", \"age\": 25, \"city\": \"Los Angeles\"},\n",
    "    \"person3\": {\"name\": \"Charlie\", \"age\": 35, \"city\": \"Chicago\"}\n",
    "}\n",
    "\n",
    "for outer_key in my_dict:  # Or my_dict.keys()\n",
    "    print(f\"Outer Key: {outer_key}\")\n",
    "    print(f\"  Name: {my_dict[outer_key]['name']}\")  # Access 'name' directly\n",
    "    print(f\"  Age: {my_dict[outer_key]['age']}\")    # Access 'age' directly\n",
    "    print(f\"  Age: {my_dict[outer_key]['city']}\")\n",
    "    print(\"-\" * 20)"
   ]
  },
  {
   "cell_type": "markdown",
   "metadata": {},
   "source": [
    "### Explanation"
   ]
  },
  {
   "cell_type": "markdown",
   "metadata": {},
   "source": [
    "*   **`for outer_key in my_dict:`**: This iterates through the keys of the outer dictionary.  You can also use `my_dict.keys()`, but it's often unnecessary in Python 3.\n",
    "*   **`my_dict[outer_key]['name']`**:  This uses chained indexing.  `my_dict[outer_key]` accesses the inner dictionary associated with `outer_key`.  Then, `['name']` accesses the value associated with the key \"name\" within that inner dictionary."
   ]
  },
  {
   "cell_type": "markdown",
   "metadata": {},
   "source": [
    "## Using get() for Safer Access (Handling Missing Keys):"
   ]
  },
  {
   "cell_type": "markdown",
   "metadata": {},
   "source": [
    "It's good practice to use the .get() method when accessing dictionary values, especially in nested structures, to avoid KeyError exceptions if a key might not exist."
   ]
  },
  {
   "cell_type": "code",
   "execution_count": 12,
   "metadata": {},
   "outputs": [
    {
     "name": "stdout",
     "output_type": "stream",
     "text": [
      "Outer Key: person1\n",
      "  Name: Alice, Age: 30, City: New York\n",
      "--------------------\n",
      "Outer Key: person2\n",
      "  Name: Bob, Age: 25, City: Los Angeles\n",
      "--------------------\n",
      "Outer Key: person3\n",
      "  Name: Charlie, Age: 35, City: Chicago\n",
      "--------------------\n"
     ]
    }
   ],
   "source": [
    "my_dict = {\n",
    "    \"person1\": {\"name\": \"Alice\", \"age\": 30, \"city\": \"New York\"},\n",
    "    \"person2\": {\"name\": \"Bob\", \"age\": 25, \"city\": \"Los Angeles\"},\n",
    "    \"person3\": {\"name\": \"Charlie\", \"age\": 35, \"city\": \"Chicago\"}\n",
    "}\n",
    "\n",
    "for outer_key, inner_dict in my_dict.items():\n",
    "    print(f\"Outer Key: {outer_key}\")\n",
    "    name = inner_dict.get(\"name\", \"N/A\")  # Get 'name', default to \"N/A\" if not found\n",
    "    age = inner_dict.get(\"age\", 0)        # Get 'age', default to 0 if not found\n",
    "    city = inner_dict.get(\"city\")          # Get 'city', default to None if not found\n",
    "\n",
    "    print(f\"  Name: {name}, Age: {age}, City: {city}\")\n",
    "    print(\"-\" * 20)"
   ]
  },
  {
   "cell_type": "markdown",
   "metadata": {},
   "source": [
    "# End"
   ]
  }
 ],
 "metadata": {
  "kernelspec": {
   "display_name": ".venv",
   "language": "python",
   "name": "python3"
  },
  "language_info": {
   "codemirror_mode": {
    "name": "ipython",
    "version": 3
   },
   "file_extension": ".py",
   "mimetype": "text/x-python",
   "name": "python",
   "nbconvert_exporter": "python",
   "pygments_lexer": "ipython3",
   "version": "3.10.11"
  }
 },
 "nbformat": 4,
 "nbformat_minor": 2
}
